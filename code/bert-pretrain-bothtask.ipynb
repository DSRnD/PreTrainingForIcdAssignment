{
 "cells": [
  {
   "cell_type": "code",
   "execution_count": 1,
   "id": "dce6e049",
   "metadata": {
    "_cell_guid": "b1076dfc-b9ad-4769-8c92-a6c4dae69d19",
    "_uuid": "8f2839f25d086af736a60e9eeb907d3b93b6e0e5",
    "execution": {
     "iopub.execute_input": "2022-04-25T12:33:15.561942Z",
     "iopub.status.busy": "2022-04-25T12:33:15.561143Z",
     "iopub.status.idle": "2022-04-25T12:33:15.584139Z",
     "shell.execute_reply": "2022-04-25T12:33:15.584601Z",
     "shell.execute_reply.started": "2022-04-25T11:31:08.165286Z"
    },
    "papermill": {
     "duration": 0.120329,
     "end_time": "2022-04-25T12:33:15.584841",
     "exception": false,
     "start_time": "2022-04-25T12:33:15.464512",
     "status": "completed"
    },
    "tags": []
   },
   "outputs": [
    {
     "name": "stdout",
     "output_type": "stream",
     "text": [
      "/kaggle/input/mimic-clean-text/MIMIC-III-Final_cleaned.csv\n",
      "/kaggle/input/mimicdata/validation_full.csv\n",
      "/kaggle/input/mimicdata/test_full.csv\n",
      "/kaggle/input/mimicdata/vocab.csv\n",
      "/kaggle/input/mimicdata/train_full.csv\n",
      "/kaggle/input/mimicdata/ICD_desc_with_freq.csv\n",
      "/kaggle/input/autoencoderdecoderonpmcembeddingvocab/Vocab.txt\n",
      "/kaggle/input/pmcmodel/PMC-w2v.bin\n"
     ]
    }
   ],
   "source": [
    "# This Python 3 environment comes with many helpful analytics libraries installed\n",
    "# It is defined by the kaggle/python Docker image: https://github.com/kaggle/docker-python\n",
    "# For example, here's several helpful packages to load\n",
    "\n",
    "import numpy as np # linear algebra\n",
    "import pandas as pd # data processing, CSV file I/O (e.g. pd.read_csv)\n",
    "\n",
    "# Input data files are available in the read-only \"../input/\" directory\n",
    "# For example, running this (by clicking run or pressing Shift+Enter) will list all files under the input directory\n",
    "\n",
    "import os\n",
    "for dirname, _, filenames in os.walk('/kaggle/input'):\n",
    "    for filename in filenames:\n",
    "        print(os.path.join(dirname, filename))\n",
    "\n",
    "# You can write up to 20GB to the current directory (/kaggle/working/) that gets preserved as output when you create a version using \"Save & Run All\" \n",
    "# You can also write temporary files to /kaggle/temp/, but they won't be saved outside of the current session"
   ]
  },
  {
   "cell_type": "code",
   "execution_count": 2,
   "id": "8f835cac",
   "metadata": {
    "execution": {
     "iopub.execute_input": "2022-04-25T12:33:15.760910Z",
     "iopub.status.busy": "2022-04-25T12:33:15.760330Z",
     "iopub.status.idle": "2022-04-25T12:33:30.824786Z",
     "shell.execute_reply": "2022-04-25T12:33:30.824278Z",
     "shell.execute_reply.started": "2022-04-25T11:31:08.224312Z"
    },
    "papermill": {
     "duration": 15.153598,
     "end_time": "2022-04-25T12:33:30.824924",
     "exception": false,
     "start_time": "2022-04-25T12:33:15.671326",
     "status": "completed"
    },
    "tags": []
   },
   "outputs": [],
   "source": [
    "data =  pd.read_csv('/kaggle/input/mimic-clean-text/MIMIC-III-Final_cleaned.csv')[:15000]"
   ]
  },
  {
   "cell_type": "code",
   "execution_count": 3,
   "id": "c439058c",
   "metadata": {
    "execution": {
     "iopub.execute_input": "2022-04-25T12:33:31.003629Z",
     "iopub.status.busy": "2022-04-25T12:33:31.002950Z",
     "iopub.status.idle": "2022-04-25T12:33:31.006165Z",
     "shell.execute_reply": "2022-04-25T12:33:31.006595Z",
     "shell.execute_reply.started": "2022-04-25T11:31:24.005666Z"
    },
    "papermill": {
     "duration": 0.0957,
     "end_time": "2022-04-25T12:33:31.006738",
     "exception": false,
     "start_time": "2022-04-25T12:33:30.911038",
     "status": "completed"
    },
    "tags": []
   },
   "outputs": [
    {
     "data": {
      "text/plain": [
       "((15000, 6),\n",
       " Index(['Unnamed: 0', 'TEXT', 'HADM_ID', 'ICD9_CODE', 'clean_text', 'top_ICD'], dtype='object'))"
      ]
     },
     "execution_count": 3,
     "metadata": {},
     "output_type": "execute_result"
    }
   ],
   "source": [
    "data.shape, data.columns"
   ]
  },
  {
   "cell_type": "code",
   "execution_count": 4,
   "id": "1dca5746",
   "metadata": {
    "execution": {
     "iopub.execute_input": "2022-04-25T12:33:31.261097Z",
     "iopub.status.busy": "2022-04-25T12:33:31.256327Z",
     "iopub.status.idle": "2022-04-25T12:33:31.262078Z",
     "shell.execute_reply": "2022-04-25T12:33:31.261615Z",
     "shell.execute_reply.started": "2022-04-25T11:31:24.015421Z"
    },
    "papermill": {
     "duration": 0.164832,
     "end_time": "2022-04-25T12:33:31.262215",
     "exception": false,
     "start_time": "2022-04-25T12:33:31.097383",
     "status": "completed"
    },
    "tags": []
   },
   "outputs": [],
   "source": [
    "#data['length'] = data.apply(lambda x:len(x['clean_text'].split()) , axis=1)"
   ]
  },
  {
   "cell_type": "code",
   "execution_count": 5,
   "id": "70bd5f7f",
   "metadata": {
    "execution": {
     "iopub.execute_input": "2022-04-25T12:33:31.562671Z",
     "iopub.status.busy": "2022-04-25T12:33:31.561793Z",
     "iopub.status.idle": "2022-04-25T12:33:31.580011Z",
     "shell.execute_reply": "2022-04-25T12:33:31.580962Z",
     "shell.execute_reply.started": "2022-04-25T11:31:24.027792Z"
    },
    "papermill": {
     "duration": 0.167988,
     "end_time": "2022-04-25T12:33:31.581168",
     "exception": false,
     "start_time": "2022-04-25T12:33:31.413180",
     "status": "completed"
    },
    "tags": []
   },
   "outputs": [
    {
     "data": {
      "text/html": [
       "<div>\n",
       "<style scoped>\n",
       "    .dataframe tbody tr th:only-of-type {\n",
       "        vertical-align: middle;\n",
       "    }\n",
       "\n",
       "    .dataframe tbody tr th {\n",
       "        vertical-align: top;\n",
       "    }\n",
       "\n",
       "    .dataframe thead th {\n",
       "        text-align: right;\n",
       "    }\n",
       "</style>\n",
       "<table border=\"1\" class=\"dataframe\">\n",
       "  <thead>\n",
       "    <tr style=\"text-align: right;\">\n",
       "      <th></th>\n",
       "      <th>Unnamed: 0</th>\n",
       "      <th>TEXT</th>\n",
       "      <th>HADM_ID</th>\n",
       "      <th>ICD9_CODE</th>\n",
       "      <th>clean_text</th>\n",
       "      <th>top_ICD</th>\n",
       "    </tr>\n",
       "  </thead>\n",
       "  <tbody>\n",
       "    <tr>\n",
       "      <th>0</th>\n",
       "      <td>0</td>\n",
       "      <td>{Admission Date:  [**2117-9-11**]             ...</td>\n",
       "      <td>100001.0</td>\n",
       "      <td>['25013', '3371', '5849', '5780', 'V5867', '25...</td>\n",
       "      <td>admission date discharge date of birth sex nam...</td>\n",
       "      <td>['25013', '3371', '5849', '5780', 'V5867', '25...</td>\n",
       "    </tr>\n",
       "    <tr>\n",
       "      <th>1</th>\n",
       "      <td>1</td>\n",
       "      <td>{Admission Date:  [**2150-4-17**]             ...</td>\n",
       "      <td>100003.0</td>\n",
       "      <td>['53100', '2851', '07054', '5715', '45621', '5...</td>\n",
       "      <td>admission date discharge date of birth sex rec...</td>\n",
       "      <td>['53100', '2851', '5715', '45621', '53789', '4...</td>\n",
       "    </tr>\n",
       "    <tr>\n",
       "      <th>2</th>\n",
       "      <td>2</td>\n",
       "      <td>{Admission Date:  [**2108-4-6**]       Dischar...</td>\n",
       "      <td>100006.0</td>\n",
       "      <td>['49320', '51881', '486', '20300', '2761', '78...</td>\n",
       "      <td>admission date discharge date of birth sex o c...</td>\n",
       "      <td>['49320', '51881', '486', '20300', '2761', '78...</td>\n",
       "    </tr>\n",
       "    <tr>\n",
       "      <th>3</th>\n",
       "      <td>3</td>\n",
       "      <td>{Admission Date:  [**2145-3-31**]             ...</td>\n",
       "      <td>100007.0</td>\n",
       "      <td>['56081', '5570', '9973', '486', '4019']</td>\n",
       "      <td>admission date discharge date of birth sex nam...</td>\n",
       "      <td>['56081', '5570', '486', '4019']</td>\n",
       "    </tr>\n",
       "    <tr>\n",
       "      <th>4</th>\n",
       "      <td>4</td>\n",
       "      <td>{Admission Date:  [**2162-5-16**]             ...</td>\n",
       "      <td>100009.0</td>\n",
       "      <td>['41401', '99604', '4142', '25000', '27800', '...</td>\n",
       "      <td>admission date discharge date of birth sex kno...</td>\n",
       "      <td>['41401', '99604', '4142', '25000', '27800', '...</td>\n",
       "    </tr>\n",
       "  </tbody>\n",
       "</table>\n",
       "</div>"
      ],
      "text/plain": [
       "   Unnamed: 0                                               TEXT   HADM_ID  \\\n",
       "0           0  {Admission Date:  [**2117-9-11**]             ...  100001.0   \n",
       "1           1  {Admission Date:  [**2150-4-17**]             ...  100003.0   \n",
       "2           2  {Admission Date:  [**2108-4-6**]       Dischar...  100006.0   \n",
       "3           3  {Admission Date:  [**2145-3-31**]             ...  100007.0   \n",
       "4           4  {Admission Date:  [**2162-5-16**]             ...  100009.0   \n",
       "\n",
       "                                           ICD9_CODE  \\\n",
       "0  ['25013', '3371', '5849', '5780', 'V5867', '25...   \n",
       "1  ['53100', '2851', '07054', '5715', '45621', '5...   \n",
       "2  ['49320', '51881', '486', '20300', '2761', '78...   \n",
       "3           ['56081', '5570', '9973', '486', '4019']   \n",
       "4  ['41401', '99604', '4142', '25000', '27800', '...   \n",
       "\n",
       "                                          clean_text  \\\n",
       "0  admission date discharge date of birth sex nam...   \n",
       "1  admission date discharge date of birth sex rec...   \n",
       "2  admission date discharge date of birth sex o c...   \n",
       "3  admission date discharge date of birth sex nam...   \n",
       "4  admission date discharge date of birth sex kno...   \n",
       "\n",
       "                                             top_ICD  \n",
       "0  ['25013', '3371', '5849', '5780', 'V5867', '25...  \n",
       "1  ['53100', '2851', '5715', '45621', '53789', '4...  \n",
       "2  ['49320', '51881', '486', '20300', '2761', '78...  \n",
       "3                   ['56081', '5570', '486', '4019']  \n",
       "4  ['41401', '99604', '4142', '25000', '27800', '...  "
      ]
     },
     "execution_count": 5,
     "metadata": {},
     "output_type": "execute_result"
    }
   ],
   "source": [
    "data.head()"
   ]
  },
  {
   "cell_type": "markdown",
   "id": "b3394e50",
   "metadata": {
    "papermill": {
     "duration": 0.084821,
     "end_time": "2022-04-25T12:33:31.798717",
     "exception": false,
     "start_time": "2022-04-25T12:33:31.713896",
     "status": "completed"
    },
    "tags": []
   },
   "source": [
    "### Create Processed Data for training the bert pytorch model  "
   ]
  },
  {
   "cell_type": "code",
   "execution_count": 6,
   "id": "0b5eba9d",
   "metadata": {
    "execution": {
     "iopub.execute_input": "2022-04-25T12:33:31.974702Z",
     "iopub.status.busy": "2022-04-25T12:33:31.974043Z",
     "iopub.status.idle": "2022-04-25T12:33:35.412053Z",
     "shell.execute_reply": "2022-04-25T12:33:35.411498Z",
     "shell.execute_reply.started": "2022-04-25T11:31:24.052047Z"
    },
    "papermill": {
     "duration": 3.528019,
     "end_time": "2022-04-25T12:33:35.412192",
     "exception": false,
     "start_time": "2022-04-25T12:33:31.884173",
     "status": "completed"
    },
    "tags": []
   },
   "outputs": [],
   "source": [
    "from __future__ import absolute_import\n",
    "from __future__ import division\n",
    "from __future__ import print_function\n",
    "\n",
    "import collections\n",
    "import re\n",
    "import unicodedata\n",
    "import six\n",
    "import tensorflow as tf"
   ]
  },
  {
   "cell_type": "code",
   "execution_count": 7,
   "id": "0807cc5b",
   "metadata": {
    "execution": {
     "iopub.execute_input": "2022-04-25T12:33:35.588063Z",
     "iopub.status.busy": "2022-04-25T12:33:35.587218Z",
     "iopub.status.idle": "2022-04-25T12:33:35.590544Z",
     "shell.execute_reply": "2022-04-25T12:33:35.590941Z",
     "shell.execute_reply.started": "2022-04-25T11:31:28.463914Z"
    },
    "papermill": {
     "duration": 0.091997,
     "end_time": "2022-04-25T12:33:35.591088",
     "exception": false,
     "start_time": "2022-04-25T12:33:35.499091",
     "status": "completed"
    },
    "tags": []
   },
   "outputs": [],
   "source": [
    "#!pip install tensorflow==1.14\n",
    "#os.environ['CUDA_LAUNCH_BLOCKING'] = \"1\""
   ]
  },
  {
   "cell_type": "code",
   "execution_count": 8,
   "id": "e7bb9b88",
   "metadata": {
    "execution": {
     "iopub.execute_input": "2022-04-25T12:33:35.773349Z",
     "iopub.status.busy": "2022-04-25T12:33:35.772531Z",
     "iopub.status.idle": "2022-04-25T12:33:35.774647Z",
     "shell.execute_reply": "2022-04-25T12:33:35.775055Z",
     "shell.execute_reply.started": "2022-04-25T11:31:28.469313Z"
    },
    "papermill": {
     "duration": 0.095927,
     "end_time": "2022-04-25T12:33:35.775222",
     "exception": false,
     "start_time": "2022-04-25T12:33:35.679295",
     "status": "completed"
    },
    "tags": []
   },
   "outputs": [],
   "source": [
    "def convert_to_unicode(text):\n",
    "  \"\"\"Converts `text` to Unicode (if it's not already), assuming utf-8 input.\"\"\"\n",
    "  if six.PY3:\n",
    "    if isinstance(text, str):\n",
    "      return text\n",
    "    elif isinstance(text, bytes):\n",
    "      return text.decode(\"utf-8\", \"ignore\")\n",
    "    else:\n",
    "      raise ValueError(\"Unsupported string type: %s\" % (type(text)))\n",
    "  elif six.PY2:\n",
    "    if isinstance(text, str):\n",
    "      return text.decode(\"utf-8\", \"ignore\")\n",
    "    elif isinstance(text, unicode):\n",
    "      return text\n",
    "    else:\n",
    "      raise ValueError(\"Unsupported string type: %s\" % (type(text)))\n",
    "  else:\n",
    "    raise ValueError(\"Not running on Python2 or Python 3?\")"
   ]
  },
  {
   "cell_type": "code",
   "execution_count": 9,
   "id": "2b402a1b",
   "metadata": {
    "execution": {
     "iopub.execute_input": "2022-04-25T12:33:35.960516Z",
     "iopub.status.busy": "2022-04-25T12:33:35.959513Z",
     "iopub.status.idle": "2022-04-25T12:33:35.961758Z",
     "shell.execute_reply": "2022-04-25T12:33:35.962163Z",
     "shell.execute_reply.started": "2022-04-25T11:31:28.480872Z"
    },
    "papermill": {
     "duration": 0.09403,
     "end_time": "2022-04-25T12:33:35.962324",
     "exception": false,
     "start_time": "2022-04-25T12:33:35.868294",
     "status": "completed"
    },
    "tags": []
   },
   "outputs": [],
   "source": [
    "import re\n",
    "import numpy as np\n",
    "import six\n",
    "import tensorflow as tf"
   ]
  },
  {
   "cell_type": "code",
   "execution_count": 10,
   "id": "8cc5132b",
   "metadata": {
    "execution": {
     "iopub.execute_input": "2022-04-25T12:33:36.154775Z",
     "iopub.status.busy": "2022-04-25T12:33:36.153966Z",
     "iopub.status.idle": "2022-04-25T12:33:36.157511Z",
     "shell.execute_reply": "2022-04-25T12:33:36.157057Z",
     "shell.execute_reply.started": "2022-04-25T11:31:28.496530Z"
    },
    "papermill": {
     "duration": 0.108548,
     "end_time": "2022-04-25T12:33:36.157651",
     "exception": false,
     "start_time": "2022-04-25T12:33:36.049103",
     "status": "completed"
    },
    "tags": []
   },
   "outputs": [],
   "source": [
    "class BasicTokenizer(object):\n",
    "  \"\"\"Runs basic tokenization (punctuation splitting, lower casing, etc.).\"\"\"\n",
    "\n",
    "  def __init__(self, do_lower_case=True):\n",
    "    \"\"\"Constructs a BasicTokenizer.\n",
    "\n",
    "    Args:\n",
    "      do_lower_case: Whether to lower case the input.\n",
    "    \"\"\"\n",
    "    self.do_lower_case = do_lower_case\n",
    "\n",
    "  def tokenize(self, text):\n",
    "    \"\"\"Tokenizes a piece of text.\"\"\"\n",
    "    text = convert_to_unicode(text)\n",
    "    text = self._clean_text(text)#perform invalid char removal and whitespace removal\n",
    "\n",
    "    # This was added on November 1st, 2018 for the multilingual and Chinese\n",
    "    # models. This is also applied to the English models now, but it doesn't\n",
    "    # matter since the English models were not trained on any Chinese data\n",
    "    # and generally don't have any Chinese data in them (there are Chinese\n",
    "    # characters in the vocabulary because Wikipedia does have some Chinese\n",
    "    # words in the English Wikipedia.).\n",
    "    text = self._tokenize_chinese_chars(text)\n",
    "\n",
    "    orig_tokens = whitespace_tokenize(text)\n",
    "    split_tokens = []\n",
    "    for token in orig_tokens:\n",
    "      if self.do_lower_case:\n",
    "        token = token.lower()\n",
    "        token = self._run_strip_accents(token)\n",
    "      split_tokens.extend(self._run_split_on_punc(token))\n",
    "\n",
    "    output_tokens = whitespace_tokenize(\" \".join(split_tokens))\n",
    "    return output_tokens\n",
    "\n",
    "  def _run_strip_accents(self, text):\n",
    "    \"\"\"Strips accents from a piece of text.\"\"\"\n",
    "    text = unicodedata.normalize(\"NFD\", text)\n",
    "    output = []\n",
    "    for char in text:\n",
    "      cat = unicodedata.category(char)\n",
    "      if cat == \"Mn\":\n",
    "        continue\n",
    "      output.append(char)\n",
    "    return \"\".join(output)\n",
    "\n",
    "  def _run_split_on_punc(self, text):\n",
    "    \"\"\"Splits punctuation on a piece of text.\"\"\"\n",
    "    chars = list(text)\n",
    "    i = 0\n",
    "    start_new_word = True\n",
    "    output = []\n",
    "    while i < len(chars):\n",
    "      char = chars[i]\n",
    "      if _is_punctuation(char):\n",
    "        output.append([char])\n",
    "        start_new_word = True\n",
    "      else:\n",
    "        if start_new_word:\n",
    "          output.append([])\n",
    "        start_new_word = False\n",
    "        output[-1].append(char)\n",
    "      i += 1\n",
    "\n",
    "    return [\"\".join(x) for x in output]\n",
    "\n",
    "  def _tokenize_chinese_chars(self, text):\n",
    "    \"\"\"Adds whitespace around any CJK character.\"\"\"\n",
    "    output = []\n",
    "    for char in text:\n",
    "      cp = ord(char)\n",
    "      if self._is_chinese_char(cp):\n",
    "        output.append(\" \")\n",
    "        output.append(char)\n",
    "        output.append(\" \")\n",
    "      else:\n",
    "        output.append(char)\n",
    "    return \"\".join(output)\n",
    "\n",
    "  def _is_chinese_char(self, cp):\n",
    "    \"\"\"Checks whether CP is the codepoint of a CJK character.\"\"\"\n",
    "    # This defines a \"chinese character\" as anything in the CJK Unicode block:\n",
    "    #   https://en.wikipedia.org/wiki/CJK_Unified_Ideographs_(Unicode_block)\n",
    "    #\n",
    "    # Note that the CJK Unicode block is NOT all Japanese and Korean characters,\n",
    "    # despite its name. The modern Korean Hangul alphabet is a different block,\n",
    "    # as is Japanese Hiragana and Katakana. Those alphabets are used to write\n",
    "    # space-separated words, so they are not treated specially and handled\n",
    "    # like the all of the other languages.\n",
    "    if ((cp >= 0x4E00 and cp <= 0x9FFF) or  #\n",
    "        (cp >= 0x3400 and cp <= 0x4DBF) or  #\n",
    "        (cp >= 0x20000 and cp <= 0x2A6DF) or  #\n",
    "        (cp >= 0x2A700 and cp <= 0x2B73F) or  #\n",
    "        (cp >= 0x2B740 and cp <= 0x2B81F) or  #\n",
    "        (cp >= 0x2B820 and cp <= 0x2CEAF) or\n",
    "        (cp >= 0xF900 and cp <= 0xFAFF) or  #\n",
    "        (cp >= 0x2F800 and cp <= 0x2FA1F)):  #\n",
    "      return True\n",
    "\n",
    "    return False\n",
    "\n",
    "  def _clean_text(self, text):\n",
    "    \"\"\"Performs invalid character removal and whitespace cleanup on text.\"\"\"\n",
    "    output = []\n",
    "    for char in text:\n",
    "      cp = ord(char)\n",
    "      if cp == 0 or cp == 0xfffd or _is_control(char):\n",
    "        continue\n",
    "      if _is_whitespace(char):\n",
    "        output.append(\" \")\n",
    "      else:\n",
    "        output.append(char)\n",
    "    return \"\".join(output)"
   ]
  },
  {
   "cell_type": "code",
   "execution_count": 11,
   "id": "709df173",
   "metadata": {
    "execution": {
     "iopub.execute_input": "2022-04-25T12:33:36.336498Z",
     "iopub.status.busy": "2022-04-25T12:33:36.335585Z",
     "iopub.status.idle": "2022-04-25T12:33:36.337421Z",
     "shell.execute_reply": "2022-04-25T12:33:36.337911Z",
     "shell.execute_reply.started": "2022-04-25T11:31:28.516456Z"
    },
    "papermill": {
     "duration": 0.09402,
     "end_time": "2022-04-25T12:33:36.338049",
     "exception": false,
     "start_time": "2022-04-25T12:33:36.244029",
     "status": "completed"
    },
    "tags": []
   },
   "outputs": [],
   "source": [
    "def load_vocab(vocab_file):\n",
    "  \"\"\"Loads a vocabulary file into a dictionary.\"\"\"\n",
    "  vocab = collections.OrderedDict()\n",
    "  index = 0\n",
    "  #with tf.gfile.GFile(vocab_file, \"r\") as reader:\n",
    "  with tf.io.gfile.GFile(vocab_file, \"r\") as reader:\n",
    "    while True:\n",
    "      token = convert_to_unicode(reader.readline())\n",
    "      if not token:\n",
    "        break\n",
    "      token = (token.strip()).split(\"\\t\")\n",
    "      vocab[token[0]] = index\n",
    "      index += 1\n",
    "  print(\"\\nVocab loading done!\")\n",
    "  return vocab"
   ]
  },
  {
   "cell_type": "code",
   "execution_count": 12,
   "id": "101c733b",
   "metadata": {
    "execution": {
     "iopub.execute_input": "2022-04-25T12:33:36.526023Z",
     "iopub.status.busy": "2022-04-25T12:33:36.525138Z",
     "iopub.status.idle": "2022-04-25T12:33:36.527332Z",
     "shell.execute_reply": "2022-04-25T12:33:36.527705Z",
     "shell.execute_reply.started": "2022-04-25T11:31:28.530793Z"
    },
    "papermill": {
     "duration": 0.103504,
     "end_time": "2022-04-25T12:33:36.527846",
     "exception": false,
     "start_time": "2022-04-25T12:33:36.424342",
     "status": "completed"
    },
    "tags": []
   },
   "outputs": [],
   "source": [
    "class WordpieceTokenizer(object):\n",
    "  \"\"\"Runs WordPiece tokenziation.\"\"\"\n",
    "\n",
    "  def __init__(self, vocab, unk_token=\"[UNK]\", max_input_chars_per_word=200):\n",
    "    self.vocab = vocab\n",
    "    self.unk_token = unk_token\n",
    "    self.max_input_chars_per_word = max_input_chars_per_word\n",
    "\n",
    "  def tokenize(self, text):\n",
    "    \"\"\"Tokenizes a piece of text into its word pieces.\n",
    "\n",
    "    This uses a greedy longest-match-first algorithm to perform tokenization\n",
    "    using the given vocabulary.\n",
    "\n",
    "    For example:\n",
    "      input = \"unaffable\"\n",
    "      output = [\"un\", \"##aff\", \"##able\"]\n",
    "\n",
    "    Args:\n",
    "      text: A single token or whitespace separated tokens. This should have\n",
    "        already been passed through `BasicTokenizer.\n",
    "\n",
    "    Returns:\n",
    "      A list of wordpiece tokens.\n",
    "    \"\"\"\n",
    "\n",
    "    text = convert_to_unicode(text)\n",
    "\n",
    "    output_tokens = []\n",
    "    for token in whitespace_tokenize(text):\n",
    "      chars = list(token)\n",
    "      if len(chars) > self.max_input_chars_per_word:\n",
    "        output_tokens.append(self.unk_token)\n",
    "        #print(\"\\nunknown token inserted\")\n",
    "        continue\n",
    "\n",
    "      is_bad = False\n",
    "      start = 0\n",
    "      sub_tokens = []\n",
    "      while start < len(chars):\n",
    "        end = len(chars)\n",
    "        cur_substr = None\n",
    "        while start < end:\n",
    "          substr = \"\".join(chars[start:end])\n",
    "          if start > 0:\n",
    "            substr = \"##\" + substr\n",
    "          if substr in self.vocab:\n",
    "            cur_substr = substr\n",
    "            #print(\"\\nknown token inserted\", cur_substr)\n",
    "            break\n",
    "          end -= 1\n",
    "        if cur_substr is None:\n",
    "          is_bad = True\n",
    "          break\n",
    "        sub_tokens.append(cur_substr)\n",
    "        start = end\n",
    "\n",
    "      if is_bad:\n",
    "        output_tokens.append(self.unk_token)\n",
    "        #print(\"\\nunknown token inserted\") #This is where unknown tokens are being inserted\n",
    "      else:\n",
    "        output_tokens.extend(sub_tokens)\n",
    "    return output_tokens\n",
    "\n",
    "\n",
    "def _is_whitespace(char):\n",
    "  \"\"\"Checks whether `chars` is a whitespace character.\"\"\"\n",
    "  # \\t, \\n, and \\r are technically contorl characters but we treat them\n",
    "  # as whitespace since they are generally considered as such.\n",
    "  if char == \" \" or char == \"\\t\" or char == \"\\n\" or char == \"\\r\":\n",
    "    return True\n",
    "  cat = unicodedata.category(char)\n",
    "  if cat == \"Zs\":\n",
    "    return True\n",
    "  return False\n",
    "\n",
    "\n",
    "def _is_control(char):\n",
    "  \"\"\"Checks whether `chars` is a control character.\"\"\"\n",
    "  # These are technically control characters but we count them as whitespace\n",
    "  # characters.\n",
    "  if char == \"\\t\" or char == \"\\n\" or char == \"\\r\":\n",
    "    return False\n",
    "  cat = unicodedata.category(char)\n",
    "  if cat in (\"Cc\", \"Cf\"):\n",
    "    return True\n",
    "  return False\n",
    "\n",
    "\n",
    "def _is_punctuation(char):\n",
    "  \"\"\"Checks whether `chars` is a punctuation character.\"\"\"\n",
    "  cp = ord(char)\n",
    "  # We treat all non-letter/number ASCII as punctuation.\n",
    "  # Characters such as \"^\", \"$\", and \"`\" are not in the Unicode\n",
    "  # Punctuation class but we treat them as punctuation anyways, for\n",
    "  # consistency.\n",
    "  if ((cp >= 33 and cp <= 47) or (cp >= 58 and cp <= 64) or\n",
    "      (cp >= 91 and cp <= 96) or (cp >= 123 and cp <= 126)):\n",
    "    return True\n",
    "  cat = unicodedata.category(char)\n",
    "  if cat.startswith(\"P\"):\n",
    "    return True\n",
    "  return False"
   ]
  },
  {
   "cell_type": "code",
   "execution_count": 13,
   "id": "4aac80ff",
   "metadata": {
    "execution": {
     "iopub.execute_input": "2022-04-25T12:33:36.715461Z",
     "iopub.status.busy": "2022-04-25T12:33:36.714513Z",
     "iopub.status.idle": "2022-04-25T12:33:36.716578Z",
     "shell.execute_reply": "2022-04-25T12:33:36.717014Z",
     "shell.execute_reply.started": "2022-04-25T11:31:28.550116Z"
    },
    "papermill": {
     "duration": 0.103088,
     "end_time": "2022-04-25T12:33:36.717167",
     "exception": false,
     "start_time": "2022-04-25T12:33:36.614079",
     "status": "completed"
    },
    "tags": []
   },
   "outputs": [],
   "source": [
    "class FullTokenizer(object):\n",
    "  \"\"\"Runs end-to-end tokenziation.\"\"\"\n",
    "\n",
    "  def __init__(self, vocab_file, do_lower_case=True):\n",
    "    self.vocab = load_vocab(vocab_file)#Create Vocab dist with index 0\n",
    "    self.inv_vocab = {v: k for k, v in self.vocab.items()}#Get vocab dict with index as key and token as value\n",
    "    self.basic_tokenizer = BasicTokenizer(do_lower_case=do_lower_case)#Initialize the basic tokenizer \n",
    "    self.wordpiece_tokenizer = WordpieceTokenizer(vocab=self.vocab)\n",
    "\n",
    "  def tokenize(self, text):\n",
    "    split_tokens = []\n",
    "    for token in self.basic_tokenizer.tokenize(text):\n",
    "      #for sub_token in self.wordpiece_tokenizer.tokenize(token):\n",
    "        split_tokens.append(token)\n",
    "\n",
    "    return split_tokens\n",
    "\n",
    "  def convert_tokens_to_ids(self, tokens):\n",
    "    return convert_by_vocab(self.vocab, tokens)\n",
    "\n",
    "  def convert_ids_to_tokens(self, ids):\n",
    "    return convert_by_vocab(self.inv_vocab, ids)"
   ]
  },
  {
   "cell_type": "code",
   "execution_count": 14,
   "id": "58b55bc5",
   "metadata": {
    "execution": {
     "iopub.execute_input": "2022-04-25T12:33:36.902570Z",
     "iopub.status.busy": "2022-04-25T12:33:36.901889Z",
     "iopub.status.idle": "2022-04-25T12:33:37.070059Z",
     "shell.execute_reply": "2022-04-25T12:33:37.070677Z",
     "shell.execute_reply.started": "2022-04-25T11:31:28.562009Z"
    },
    "papermill": {
     "duration": 0.26276,
     "end_time": "2022-04-25T12:33:37.070835",
     "exception": false,
     "start_time": "2022-04-25T12:33:36.808075",
     "status": "completed"
    },
    "tags": []
   },
   "outputs": [
    {
     "name": "stdout",
     "output_type": "stream",
     "text": [
      "\n",
      "Vocab loading done!\n"
     ]
    }
   ],
   "source": [
    "tokenizer = FullTokenizer(\n",
    "      vocab_file='/kaggle/input/autoencoderdecoderonpmcembeddingvocab/Vocab.txt', do_lower_case=True)"
   ]
  },
  {
   "cell_type": "code",
   "execution_count": 15,
   "id": "b093056f",
   "metadata": {
    "execution": {
     "iopub.execute_input": "2022-04-25T12:33:37.251277Z",
     "iopub.status.busy": "2022-04-25T12:33:37.250427Z",
     "iopub.status.idle": "2022-04-25T12:33:37.252945Z",
     "shell.execute_reply": "2022-04-25T12:33:37.252495Z",
     "shell.execute_reply.started": "2022-04-25T11:31:28.742305Z"
    },
    "papermill": {
     "duration": 0.094238,
     "end_time": "2022-04-25T12:33:37.253057",
     "exception": false,
     "start_time": "2022-04-25T12:33:37.158819",
     "status": "completed"
    },
    "tags": []
   },
   "outputs": [],
   "source": [
    "def convert_by_vocab(vocab, items):\n",
    "  \"\"\"Converts a sequence of [tokens|ids] using the vocab.\"\"\"\n",
    "  output = []\n",
    "  for item in items:\n",
    "    output.append(vocab[item])\n",
    "  return output\n",
    "\n",
    "\n",
    "def convert_tokens_to_ids(vocab, tokens):\n",
    "  return convert_by_vocab(vocab, tokens)\n",
    "\n",
    "\n",
    "def convert_ids_to_tokens(inv_vocab, ids):\n",
    "  return convert_by_vocab(inv_vocab, ids)\n",
    "\n",
    "\n",
    "def whitespace_tokenize(text):\n",
    "  \"\"\"Runs basic whitespace cleaning and splitting on a piece of text.\"\"\"\n",
    "  text = text.strip()\n",
    "  if not text:\n",
    "    return []\n",
    "  tokens = text.split()\n",
    "  return tokens"
   ]
  },
  {
   "cell_type": "code",
   "execution_count": 16,
   "id": "e3d66255",
   "metadata": {
    "execution": {
     "iopub.execute_input": "2022-04-25T12:33:37.431946Z",
     "iopub.status.busy": "2022-04-25T12:33:37.431290Z",
     "iopub.status.idle": "2022-04-25T12:33:37.433903Z",
     "shell.execute_reply": "2022-04-25T12:33:37.434324Z",
     "shell.execute_reply.started": "2022-04-25T11:31:28.751422Z"
    },
    "papermill": {
     "duration": 0.09543,
     "end_time": "2022-04-25T12:33:37.434459",
     "exception": false,
     "start_time": "2022-04-25T12:33:37.339029",
     "status": "completed"
    },
    "tags": []
   },
   "outputs": [
    {
     "data": {
      "text/plain": [
       "['\\\\', 'this', 'is', 'the', 'string']"
      ]
     },
     "execution_count": 16,
     "metadata": {},
     "output_type": "execute_result"
    }
   ],
   "source": [
    "tokenizer.tokenize(\"\\This is the string\")"
   ]
  },
  {
   "cell_type": "code",
   "execution_count": 17,
   "id": "a08ea126",
   "metadata": {
    "execution": {
     "iopub.execute_input": "2022-04-25T12:33:37.610042Z",
     "iopub.status.busy": "2022-04-25T12:33:37.609214Z",
     "iopub.status.idle": "2022-04-25T12:33:37.615756Z",
     "shell.execute_reply": "2022-04-25T12:33:37.615315Z",
     "shell.execute_reply.started": "2022-04-25T11:31:28.764690Z"
    },
    "papermill": {
     "duration": 0.095182,
     "end_time": "2022-04-25T12:33:37.615868",
     "exception": false,
     "start_time": "2022-04-25T12:33:37.520686",
     "status": "completed"
    },
    "tags": []
   },
   "outputs": [],
   "source": [
    "def cleanText(sentence):\n",
    "        sentence = re.sub(\n",
    "        r\"[\\*\\\"“”\\n\\\\…\\+\\-\\/\\=\\(\\)‘•:\\[\\]\\|’\\!;]\", \" \", str(sentence))\n",
    "        sentence = re.sub(r\"[ ]+\", \" \", sentence)\n",
    "        sentence = re.sub(r\"\\!+\", \"!\", sentence)\n",
    "        sentence = re.sub(r\"\\,+\", \",\", sentence)\n",
    "        sentence = re.sub(r\"\\?+\", \"?\", sentence)\n",
    "        sentence = re.sub(r'[0-9]', \" \", sentence)\n",
    "        sentence = re.sub(r'[^\\w\\s]','',sentence)\n",
    "        sentence = re.sub(r'(?:^| )\\w(?:$| )', ' ', (sentence)).strip()#AKS\n",
    "        sentence = sentence.lower()\n",
    "        #return [tok.text for tok in self.nlp.tokenizer(sentence) if tok.text != \" \"]\n",
    "        return sentence"
   ]
  },
  {
   "cell_type": "code",
   "execution_count": 18,
   "id": "7e6da1f2",
   "metadata": {
    "execution": {
     "iopub.execute_input": "2022-04-25T12:33:37.800810Z",
     "iopub.status.busy": "2022-04-25T12:33:37.799993Z",
     "iopub.status.idle": "2022-04-25T12:33:37.802000Z",
     "shell.execute_reply": "2022-04-25T12:33:37.802414Z",
     "shell.execute_reply.started": "2022-04-25T11:31:28.774397Z"
    },
    "papermill": {
     "duration": 0.097087,
     "end_time": "2022-04-25T12:33:37.802556",
     "exception": false,
     "start_time": "2022-04-25T12:33:37.705469",
     "status": "completed"
    },
    "tags": []
   },
   "outputs": [],
   "source": [
    "def processTextIntoSentences(text):\n",
    "    if(not len(text)):\n",
    "        print(\"\\nGiven string is empty. Please check again\")\n",
    "    sentenceSize  = 125\n",
    "    #sentenceSize = 256\n",
    "    line = convert_to_unicode(text)\n",
    "    line  = cleanText(text)\n",
    "    tokens = tokenizer.tokenize(line)\n",
    "    #print(\"\\nTokens\", tokens)\n",
    "    if(tokens):\n",
    "        all_tokens = [tokens[i: i+sentenceSize] for i in range(0, len(tokens), sentenceSize)]\n",
    "        #print(\"\\nbatched tokens\", len(all_tokens), all_tokens)\n",
    "        processedTokens = []\n",
    "        for token_ in all_tokens:\n",
    "            processedTokens.append(\" \".join(token_))\n",
    "        #print(len(processedTokens[1].split()))\n",
    "        return (\"|\".join(processedTokens))\n",
    "    \n",
    "            \n",
    "        "
   ]
  },
  {
   "cell_type": "code",
   "execution_count": 19,
   "id": "8af3ed96",
   "metadata": {
    "execution": {
     "iopub.execute_input": "2022-04-25T12:33:37.980391Z",
     "iopub.status.busy": "2022-04-25T12:33:37.979659Z",
     "iopub.status.idle": "2022-04-25T12:33:37.981860Z",
     "shell.execute_reply": "2022-04-25T12:33:37.982291Z",
     "shell.execute_reply.started": "2022-04-25T11:31:28.788618Z"
    },
    "papermill": {
     "duration": 0.091958,
     "end_time": "2022-04-25T12:33:37.982434",
     "exception": false,
     "start_time": "2022-04-25T12:33:37.890476",
     "status": "completed"
    },
    "tags": []
   },
   "outputs": [],
   "source": [
    "#processTextIntoSentences(a)"
   ]
  },
  {
   "cell_type": "code",
   "execution_count": 20,
   "id": "907c7427",
   "metadata": {
    "execution": {
     "iopub.execute_input": "2022-04-25T12:33:38.209737Z",
     "iopub.status.busy": "2022-04-25T12:33:38.204723Z",
     "iopub.status.idle": "2022-04-25T12:39:56.726371Z",
     "shell.execute_reply": "2022-04-25T12:39:56.725781Z",
     "shell.execute_reply.started": "2022-04-25T11:31:28.796387Z"
    },
    "papermill": {
     "duration": 378.65724,
     "end_time": "2022-04-25T12:39:56.726540",
     "exception": false,
     "start_time": "2022-04-25T12:33:38.069300",
     "status": "completed"
    },
    "tags": []
   },
   "outputs": [],
   "source": [
    "data['processedText'] = data.apply(lambda x:processTextIntoSentences(x['clean_text']) , axis=1)"
   ]
  },
  {
   "cell_type": "code",
   "execution_count": 21,
   "id": "22c41056",
   "metadata": {
    "execution": {
     "iopub.execute_input": "2022-04-25T12:39:56.909709Z",
     "iopub.status.busy": "2022-04-25T12:39:56.908358Z",
     "iopub.status.idle": "2022-04-25T12:39:56.912016Z",
     "shell.execute_reply": "2022-04-25T12:39:56.911595Z",
     "shell.execute_reply.started": "2022-04-25T11:37:44.445842Z"
    },
    "papermill": {
     "duration": 0.099258,
     "end_time": "2022-04-25T12:39:56.912126",
     "exception": false,
     "start_time": "2022-04-25T12:39:56.812868",
     "status": "completed"
    },
    "tags": []
   },
   "outputs": [
    {
     "data": {
      "text/plain": [
       "((15000, 7),\n",
       " Index(['Unnamed: 0', 'TEXT', 'HADM_ID', 'ICD9_CODE', 'clean_text', 'top_ICD',\n",
       "        'processedText'],\n",
       "       dtype='object'),\n",
       " 125)"
      ]
     },
     "execution_count": 21,
     "metadata": {},
     "output_type": "execute_result"
    }
   ],
   "source": [
    "data.shape, data.columns, len((data['processedText'][0]).split('|')[0].split())"
   ]
  },
  {
   "cell_type": "markdown",
   "id": "a96fbf82",
   "metadata": {
    "papermill": {
     "duration": 0.08626,
     "end_time": "2022-04-25T12:39:57.084731",
     "exception": false,
     "start_time": "2022-04-25T12:39:56.998471",
     "status": "completed"
    },
    "tags": []
   },
   "source": [
    "### Build the vocabulary on training dataset"
   ]
  },
  {
   "cell_type": "markdown",
   "id": "a03dee1a",
   "metadata": {
    "papermill": {
     "duration": 0.085669,
     "end_time": "2022-04-25T12:39:57.256719",
     "exception": false,
     "start_time": "2022-04-25T12:39:57.171050",
     "status": "completed"
    },
    "tags": []
   },
   "source": []
  },
  {
   "cell_type": "code",
   "execution_count": 22,
   "id": "a13a6d69",
   "metadata": {
    "execution": {
     "iopub.execute_input": "2022-04-25T12:39:57.434196Z",
     "iopub.status.busy": "2022-04-25T12:39:57.433367Z",
     "iopub.status.idle": "2022-04-25T12:39:57.435042Z",
     "shell.execute_reply": "2022-04-25T12:39:57.435522Z",
     "shell.execute_reply.started": "2022-04-25T11:37:44.456190Z"
    },
    "papermill": {
     "duration": 0.092634,
     "end_time": "2022-04-25T12:39:57.435659",
     "exception": false,
     "start_time": "2022-04-25T12:39:57.343025",
     "status": "completed"
    },
    "tags": []
   },
   "outputs": [],
   "source": [
    "import pickle\n",
    "import tqdm\n",
    "from collections import Counter"
   ]
  },
  {
   "cell_type": "code",
   "execution_count": 23,
   "id": "7c1a1236",
   "metadata": {
    "execution": {
     "iopub.execute_input": "2022-04-25T12:39:57.618764Z",
     "iopub.status.busy": "2022-04-25T12:39:57.617931Z",
     "iopub.status.idle": "2022-04-25T12:39:57.621116Z",
     "shell.execute_reply": "2022-04-25T12:39:57.621581Z",
     "shell.execute_reply.started": "2022-04-25T11:37:44.464771Z"
    },
    "papermill": {
     "duration": 0.099471,
     "end_time": "2022-04-25T12:39:57.621746",
     "exception": false,
     "start_time": "2022-04-25T12:39:57.522275",
     "status": "completed"
    },
    "tags": []
   },
   "outputs": [
    {
     "data": {
      "text/plain": [
       "'admission date discharge date of birth sex name lf surgical or invasive of present poorly controlled type diabetes mellitus htn gastroparesis ckd and retinopathy for orthostatic hypotension date range dka hospitalizations in and d history of worsening nausea vomiting emesis chills and dyspnea on exertion she had fall and hit her right face she also had diarrhea which resolved early last week found to be in ag and bicarb in the ed inital vitals were ra hco anion gap cr baseline she her rd ns insulin srip at on home at in am and at with difficult to control sugars been high given tartrate in ed she was started on an insulin drip at and also aspirin mg po and morphine mg ivx for pain|cxr was clear ekg nad review of systems otherwise negative past medical diabetes mellitis neuropathy nephropathy episodes of dka in and stage iii baseline cr vertebral fracture ejection lives at home in location un with her yo daughter she has no history of etoh tobacco or illicit she is currently unemployed and seeking disability family parents have htn and tdm grandfather had an mi in awake alert and mmm no jvd neck supple no cervical rrr ss normal systolic ejection murmur at the upper sternal border pulm with no crackles or wheezes abd bs soft nt no no hsm no doctor last name wwp no edema radials dps pts skin no rashes or bruising no skin tenting neuro cns intact upper extremities power le left|power right power reduced sensation distal le to ankles pertinent labs rbc hgb hct mcv plt alk phos tot bili glucose urea creat sodium potassium cl discharge labs rbc hgb hct mcv plt creat na cl phos mg no evidence of pneumonia or other effusions no pulmonary edema normal size of microbiology urine culture negative blood cultures no date stool for hospital course yo with htn poorly controlled type dm cb nephropathy ckd retinopathy presents with hypertension sbp to diabetic ketoacidosis patient controls diabetes at home ss and long acting levemir sugars at home been in in the ed glucose was ua was ve corrected to but rose again to she with an insulin drip which was transitioned to subq tolerated pos her electrolytes were|repleted and aggressive volume resuscitation last name un saw her sliding scale recommendations which were implemented for dka found to be gastroparesis with ativan and promethazine she on her home insulin and sliding scale to followup with last name un htn hypertensive with sbp in initially attributed as she has experienced in the past as she improved pressures normalized and she was restarted on her and midodrine regimen coffee grounds emesis emesis started off as clear then she started having vomiting this had also occurred on prior admissions for dka vomiting her hematocrit remained stable and and so workup was deferred to setting acute on chronic kidney disease stage iii patients cr was trending down to following with her known ckd secondary to diabetic nephropathy|medications on admission citalopram mg tablet sig one tablet po daily daily levemir solution sig twenty two every am levemir solution sig twelve at bedtime humalog solution sig sliding scale as four times day please use sliding scale by md first name last name titles metoprolol tartrate mg tablet sig tablets po take in the evening promethazine mg tablet sig tablet po qh every as needed for nausea gabapentin mg capsule sig one capsule po qh every hours disp capsules refills duloxetine mg capsule delayed sig two delayed po daily daily please capsule daily mg for first weeks of treatment disp capsule delayed refills oxycodone mg capsule sig one capsule po every eight hours as needed for pain midodrine mg tablet sig tablets po every|four can hold while sleeping disp tablets medications citalopram mg tablet sig one tablet po daily daily gabapentin mg capsule sig one capsule po qh every hours duloxetine mg capsule delayed sig one delayed po daily daily metoprolol tartrate mg tablet sig three tablet daily at pm midodrine mg tablet sig three tablet po levemir solution sig as directed by last name un as directed discharge blood in your renal status clear and coherent level of consciousness alert and interactive activity status ambulatory independent discharge were admitted to the hospital with dka hypertension in your vomit you were initially treated in the icu insulin drip and your blood sugars improved your medications were adjusted to better control your while you were in dka but you|were restarted on regimen at discharge the blood in your vomit was to mechanical trauma from repeated but followup with your primary care doctor to you should undergo further evaluation such as an given your complaints of chronic cough and should also discuss beginning trial of proton such as nexium or prilosec to see if this helps your insulin regimen was adjusted by the last name un team while here you should continue to followup with them with or concerns regarding your insulin management followup call name office to schedule within days of discharge her office number you should also continue to followup with your last name un needed'"
      ]
     },
     "execution_count": 23,
     "metadata": {},
     "output_type": "execute_result"
    }
   ],
   "source": [
    "((list(data['processedText']))[0])"
   ]
  },
  {
   "cell_type": "code",
   "execution_count": 24,
   "id": "f369568e",
   "metadata": {
    "execution": {
     "iopub.execute_input": "2022-04-25T12:39:57.798348Z",
     "iopub.status.busy": "2022-04-25T12:39:57.797533Z",
     "iopub.status.idle": "2022-04-25T12:39:57.888417Z",
     "shell.execute_reply": "2022-04-25T12:39:57.887889Z",
     "shell.execute_reply.started": "2022-04-25T11:37:44.479303Z"
    },
    "papermill": {
     "duration": 0.17973,
     "end_time": "2022-04-25T12:39:57.888546",
     "exception": false,
     "start_time": "2022-04-25T12:39:57.708816",
     "status": "completed"
    },
    "tags": []
   },
   "outputs": [],
   "source": [
    "texts = ''\n",
    "trainingDocs = list(data['processedText'])\n",
    "for doc in trainingDocs:\n",
    "    texts = texts + doc\n"
   ]
  },
  {
   "cell_type": "code",
   "execution_count": 25,
   "id": "2c577dcf",
   "metadata": {
    "execution": {
     "iopub.execute_input": "2022-04-25T12:39:59.648826Z",
     "iopub.status.busy": "2022-04-25T12:39:58.066135Z",
     "iopub.status.idle": "2022-04-25T12:39:59.654185Z",
     "shell.execute_reply": "2022-04-25T12:39:59.653771Z",
     "shell.execute_reply.started": "2022-04-25T11:37:44.575047Z"
    },
    "papermill": {
     "duration": 1.678361,
     "end_time": "2022-04-25T12:39:59.654340",
     "exception": false,
     "start_time": "2022-04-25T12:39:57.975979",
     "status": "completed"
    },
    "tags": []
   },
   "outputs": [
    {
     "data": {
      "text/plain": [
       "16701963"
      ]
     },
     "execution_count": 25,
     "metadata": {},
     "output_type": "execute_result"
    }
   ],
   "source": [
    "len(texts.split())"
   ]
  },
  {
   "cell_type": "code",
   "execution_count": 26,
   "id": "b4b4b2e5",
   "metadata": {
    "execution": {
     "iopub.execute_input": "2022-04-25T12:39:59.857391Z",
     "iopub.status.busy": "2022-04-25T12:39:59.837195Z",
     "iopub.status.idle": "2022-04-25T12:39:59.863420Z",
     "shell.execute_reply": "2022-04-25T12:39:59.862971Z",
     "shell.execute_reply.started": "2022-04-25T11:37:46.377623Z"
    },
    "papermill": {
     "duration": 0.122246,
     "end_time": "2022-04-25T12:39:59.863547",
     "exception": false,
     "start_time": "2022-04-25T12:39:59.741301",
     "status": "completed"
    },
    "tags": []
   },
   "outputs": [],
   "source": [
    "class TorchVocab(object):\n",
    "    \"\"\"Defines a vocabulary object that will be used to numericalize a field.\n",
    "    Attributes:\n",
    "        freqs: A collections.Counter object holding the frequencies of tokens\n",
    "            in the data used to build the Vocab.\n",
    "        stoi: A collections.defaultdict instance mapping token strings to\n",
    "            numerical identifiers.\n",
    "        itos: A list of token strings indexed by their numerical identifiers.\n",
    "    \"\"\"\n",
    "\n",
    "    def __init__(self, counter, max_size=None, min_freq=1, specials=['<pad>', '<oov>'],\n",
    "                 vectors=None, unk_init=None, vectors_cache=None):\n",
    "        \"\"\"Create a Vocab object from a collections.Counter.\n",
    "        Arguments:\n",
    "            counter: collections.Counter object holding the frequencies of\n",
    "                each value found in the data.\n",
    "            max_size: The maximum size of the vocabulary, or None for no\n",
    "                maximum. Default: None.\n",
    "            min_freq: The minimum frequency needed to include a token in the\n",
    "                vocabulary. Values less than 1 will be set to 1. Default: 1.\n",
    "            specials: The list of special tokens (e.g., padding or eos) that\n",
    "                will be prepended to the vocabulary in addition to an <unk>\n",
    "                token. Default: ['<pad>']\n",
    "            vectors: One of either the available pretrained vectors\n",
    "                or custom pretrained vectors (see Vocab.load_vectors);\n",
    "                or a list of aforementioned vectors\n",
    "            unk_init (callback): by default, initialize out-of-vocabulary word vectors\n",
    "                to zero vectors; can be any function that takes in a Tensor and\n",
    "                returns a Tensor of the same size. Default: torch.Tensor.zero_\n",
    "            vectors_cache: directory for cached vectors. Default: '.vector_cache'\n",
    "        \"\"\"\n",
    "        self.freqs = counter\n",
    "        counter = counter.copy()\n",
    "        min_freq = max(min_freq, 1)\n",
    "\n",
    "        self.itos = list(specials)\n",
    "        # frequencies of special tokens are not counted when building vocabulary\n",
    "        # in frequency order\n",
    "        for tok in specials:\n",
    "            del counter[tok]\n",
    "\n",
    "        max_size = None if max_size is None else max_size + len(self.itos)\n",
    "\n",
    "        # sort by frequency, then alphabetically\n",
    "        words_and_frequencies = sorted(counter.items(), key=lambda tup: tup[0])\n",
    "        words_and_frequencies.sort(key=lambda tup: tup[1], reverse=True)\n",
    "\n",
    "        for word, freq in words_and_frequencies:\n",
    "            if freq < min_freq or len(self.itos) == max_size:\n",
    "                break\n",
    "            self.itos.append(word)\n",
    "\n",
    "        # stoi is simply a reverse dict for itos\n",
    "        self.stoi = {tok: i for i, tok in enumerate(self.itos)}\n",
    "\n",
    "        self.vectors = None\n",
    "        if vectors is not None:\n",
    "            self.load_vectors(vectors, unk_init=unk_init, cache=vectors_cache)\n",
    "        else:\n",
    "            assert unk_init is None and vectors_cache is None\n",
    "\n",
    "    def __eq__(self, other):\n",
    "        if self.freqs != other.freqs:\n",
    "            return False\n",
    "        if self.stoi != other.stoi:\n",
    "            return False\n",
    "        if self.itos != other.itos:\n",
    "            return False\n",
    "        if self.vectors != other.vectors:\n",
    "            return False\n",
    "        return True\n",
    "\n",
    "    def __len__(self):\n",
    "        return len(self.itos)\n",
    "\n",
    "    def vocab_rerank(self):\n",
    "        self.stoi = {word: i for i, word in enumerate(self.itos)}\n",
    "\n",
    "    def extend(self, v, sort=False):\n",
    "        words = sorted(v.itos) if sort else v.itos\n",
    "        for w in words:\n",
    "            if w not in self.stoi:\n",
    "                self.itos.append(w)\n",
    "                self.stoi[w] = len(self.itos) - 1\n",
    "\n",
    "\n",
    "class Vocab(TorchVocab):\n",
    "    def __init__(self, counter, max_size=None, min_freq=1):\n",
    "        self.pad_index = 0\n",
    "        self.unk_index = 1\n",
    "        self.eos_index = 2\n",
    "        self.sos_index = 3\n",
    "        self.mask_index = 4\n",
    "        super().__init__(counter, specials=[\"<pad>\", \"<unk>\", \"<eos>\", \"<sos>\", \"<mask>\"],\n",
    "                         max_size=max_size, min_freq=min_freq)\n",
    "\n",
    "    def to_seq(self, sentece, seq_len, with_eos=False, with_sos=False) -> list:\n",
    "        pass\n",
    "\n",
    "    def from_seq(self, seq, join=False, with_pad=False):\n",
    "        pass\n",
    "\n",
    "    @staticmethod\n",
    "    def load_vocab(vocab_path: str) -> 'Vocab':\n",
    "        with open(vocab_path, \"rb\") as f:\n",
    "            return pickle.load(f)\n",
    "\n",
    "    def save_vocab(self, vocab_path):\n",
    "        with open(vocab_path, \"wb\") as f:\n",
    "            pickle.dump(self, f)\n",
    "\n",
    "\n",
    "# Building Vocab with text files\n",
    "class WordVocab(Vocab):\n",
    "    def __init__(self, texts, max_size=None, min_freq=1):\n",
    "        print(\"Building Vocab\")\n",
    "        counter = Counter()\n",
    "        count = 0\n",
    "        words = ((texts.replace(\"\\n\", \"\").replace(\"\\t\", \"\")).replace(\"|\",\" \")).split()\n",
    "        for word in words:\n",
    "            counter[word] += 1\n",
    "            count += 1\n",
    "        print(\"\\nTotal line\", count)\n",
    "        super().__init__(counter, max_size=max_size, min_freq=min_freq)\n",
    "\n",
    "    def to_seq(self, sentence, seq_len=None, with_eos=False, with_sos=False, with_len=False):\n",
    "        if isinstance(sentence, str):\n",
    "            sentence = sentence.split()\n",
    "\n",
    "        seq = [self.stoi.get(word, self.unk_index) for word in sentence]\n",
    "\n",
    "        if with_eos:\n",
    "            seq += [self.eos_index]  # this would be index 1\n",
    "        if with_sos:\n",
    "            seq = [self.sos_index] + seq\n",
    "\n",
    "        origin_seq_len = len(seq)\n",
    "\n",
    "        if seq_len is None:\n",
    "            pass\n",
    "        elif len(seq) <= seq_len:\n",
    "            seq += [self.pad_index for _ in range(seq_len - len(seq))]\n",
    "        else:\n",
    "            seq = seq[:seq_len]\n",
    "\n",
    "        return (seq, origin_seq_len) if with_len else seq\n",
    "\n",
    "    def from_seq(self, seq, join=False, with_pad=False):\n",
    "        words = [self.itos[idx]\n",
    "                 if idx < len(self.itos)\n",
    "                 else \"<%d>\" % idx\n",
    "                 for idx in seq\n",
    "                 if not with_pad or idx != self.pad_index]\n",
    "\n",
    "        return \" \".join(words) if join else words\n",
    "\n",
    "    @staticmethod\n",
    "    def load_vocab(vocab_path: str) -> 'WordVocab':\n",
    "        with open(vocab_path, \"rb\") as f:\n",
    "            return pickle.load(f)"
   ]
  },
  {
   "cell_type": "code",
   "execution_count": 27,
   "id": "39e184cb",
   "metadata": {
    "execution": {
     "iopub.execute_input": "2022-04-25T12:40:01.629855Z",
     "iopub.status.busy": "2022-04-25T12:40:01.629000Z",
     "iopub.status.idle": "2022-04-25T12:40:08.738594Z",
     "shell.execute_reply": "2022-04-25T12:40:08.739182Z",
     "shell.execute_reply.started": "2022-04-25T11:37:46.437976Z"
    },
    "papermill": {
     "duration": 8.788632,
     "end_time": "2022-04-25T12:40:08.739392",
     "exception": false,
     "start_time": "2022-04-25T12:39:59.950760",
     "status": "completed"
    },
    "tags": []
   },
   "outputs": [
    {
     "name": "stdout",
     "output_type": "stream",
     "text": [
      "Building Vocab\n",
      "\n",
      "Total line 16829108\n"
     ]
    }
   ],
   "source": [
    "newvocab = WordVocab(texts,100000,1)"
   ]
  },
  {
   "cell_type": "code",
   "execution_count": 28,
   "id": "f8adaae4",
   "metadata": {
    "execution": {
     "iopub.execute_input": "2022-04-25T12:40:08.918741Z",
     "iopub.status.busy": "2022-04-25T12:40:08.917946Z",
     "iopub.status.idle": "2022-04-25T12:40:08.923108Z",
     "shell.execute_reply": "2022-04-25T12:40:08.923585Z",
     "shell.execute_reply.started": "2022-04-25T11:37:54.708972Z"
    },
    "papermill": {
     "duration": 0.096224,
     "end_time": "2022-04-25T12:40:08.923726",
     "exception": false,
     "start_time": "2022-04-25T12:40:08.827502",
     "status": "completed"
    },
    "tags": []
   },
   "outputs": [
    {
     "data": {
      "text/plain": [
       "dict"
      ]
     },
     "execution_count": 28,
     "metadata": {},
     "output_type": "execute_result"
    }
   ],
   "source": [
    "type(newvocab.stoi)"
   ]
  },
  {
   "cell_type": "code",
   "execution_count": 29,
   "id": "e54be5d2",
   "metadata": {
    "execution": {
     "iopub.execute_input": "2022-04-25T12:40:09.107072Z",
     "iopub.status.busy": "2022-04-25T12:40:09.106283Z",
     "iopub.status.idle": "2022-04-25T12:40:09.138844Z",
     "shell.execute_reply": "2022-04-25T12:40:09.138413Z",
     "shell.execute_reply.started": "2022-04-25T11:37:54.716487Z"
    },
    "papermill": {
     "duration": 0.127219,
     "end_time": "2022-04-25T12:40:09.138966",
     "exception": false,
     "start_time": "2022-04-25T12:40:09.011747",
     "status": "completed"
    },
    "tags": []
   },
   "outputs": [],
   "source": [
    "with open('vocabOn30k2minFreqNew.txt' , 'w') as f:\n",
    "    for key, val in (newvocab.stoi).items():\n",
    "        f.write(\"%s\\t%s\\n\"%(key,val))"
   ]
  },
  {
   "cell_type": "code",
   "execution_count": 30,
   "id": "e3a4a91b",
   "metadata": {
    "execution": {
     "iopub.execute_input": "2022-04-25T12:40:09.348549Z",
     "iopub.status.busy": "2022-04-25T12:40:09.317977Z",
     "iopub.status.idle": "2022-04-25T12:40:09.353458Z",
     "shell.execute_reply": "2022-04-25T12:40:09.352988Z",
     "shell.execute_reply.started": "2022-04-25T11:37:54.756733Z"
    },
    "papermill": {
     "duration": 0.126595,
     "end_time": "2022-04-25T12:40:09.353579",
     "exception": false,
     "start_time": "2022-04-25T12:40:09.226984",
     "status": "completed"
    },
    "tags": []
   },
   "outputs": [],
   "source": [
    "newvocab.save_vocab('vocabOn30k2minfreqNew.txt')"
   ]
  },
  {
   "cell_type": "code",
   "execution_count": 31,
   "id": "93eb1f44",
   "metadata": {
    "execution": {
     "iopub.execute_input": "2022-04-25T12:40:09.534549Z",
     "iopub.status.busy": "2022-04-25T12:40:09.532742Z",
     "iopub.status.idle": "2022-04-25T12:40:09.558555Z",
     "shell.execute_reply": "2022-04-25T12:40:09.558981Z",
     "shell.execute_reply.started": "2022-04-25T11:37:54.791430Z"
    },
    "papermill": {
     "duration": 0.117619,
     "end_time": "2022-04-25T12:40:09.559122",
     "exception": false,
     "start_time": "2022-04-25T12:40:09.441503",
     "status": "completed"
    },
    "tags": []
   },
   "outputs": [
    {
     "data": {
      "text/plain": [
       "39382"
      ]
     },
     "execution_count": 31,
     "metadata": {},
     "output_type": "execute_result"
    }
   ],
   "source": [
    "vocab = WordVocab.load_vocab('vocabOn30k2minfreqNew.txt')\n",
    "len(newvocab.stoi)"
   ]
  },
  {
   "cell_type": "code",
   "execution_count": 32,
   "id": "1da5189c",
   "metadata": {
    "execution": {
     "iopub.execute_input": "2022-04-25T12:40:09.739871Z",
     "iopub.status.busy": "2022-04-25T12:40:09.739024Z",
     "iopub.status.idle": "2022-04-25T12:40:09.740851Z",
     "shell.execute_reply": "2022-04-25T12:40:09.741313Z",
     "shell.execute_reply.started": "2022-04-25T11:37:54.823794Z"
    },
    "papermill": {
     "duration": 0.094139,
     "end_time": "2022-04-25T12:40:09.741448",
     "exception": false,
     "start_time": "2022-04-25T12:40:09.647309",
     "status": "completed"
    },
    "tags": []
   },
   "outputs": [],
   "source": [
    "#with open('vocabOn30k2minfreqNew.txt', \"rb\") as f:\n",
    "    #print(len(f))"
   ]
  },
  {
   "cell_type": "code",
   "execution_count": 33,
   "id": "e9d57c30",
   "metadata": {
    "execution": {
     "iopub.execute_input": "2022-04-25T12:40:09.924256Z",
     "iopub.status.busy": "2022-04-25T12:40:09.923561Z",
     "iopub.status.idle": "2022-04-25T12:40:09.925836Z",
     "shell.execute_reply": "2022-04-25T12:40:09.926233Z",
     "shell.execute_reply.started": "2022-04-25T11:37:54.829575Z"
    },
    "papermill": {
     "duration": 0.096264,
     "end_time": "2022-04-25T12:40:09.926377",
     "exception": false,
     "start_time": "2022-04-25T12:40:09.830113",
     "status": "completed"
    },
    "tags": []
   },
   "outputs": [],
   "source": [
    "#newvocab.counter"
   ]
  },
  {
   "cell_type": "code",
   "execution_count": 34,
   "id": "c413360a",
   "metadata": {
    "execution": {
     "iopub.execute_input": "2022-04-25T12:40:10.106118Z",
     "iopub.status.busy": "2022-04-25T12:40:10.105343Z",
     "iopub.status.idle": "2022-04-25T12:40:10.111108Z",
     "shell.execute_reply": "2022-04-25T12:40:10.110689Z",
     "shell.execute_reply.started": "2022-04-25T11:37:54.838629Z"
    },
    "papermill": {
     "duration": 0.096726,
     "end_time": "2022-04-25T12:40:10.111241",
     "exception": false,
     "start_time": "2022-04-25T12:40:10.014515",
     "status": "completed"
    },
    "tags": []
   },
   "outputs": [
    {
     "data": {
      "text/plain": [
       "'admission date discharge date of birth sex name lf surgical or invasive of present poorly controlled type diabetes mellitus htn gastroparesis ckd and retinopathy for orthostatic hypotension date range dka hospitalizations in and d history of worsening nausea vomiting emesis chills and dyspnea on exertion she had fall and hit her right face she also had diarrhea which resolved early last week found to be in ag and bicarb in the ed inital vitals were ra hco anion gap cr baseline she her rd ns insulin srip at on home at in am and at with difficult to control sugars been high given tartrate in ed she was started on an insulin drip at and also aspirin mg po and morphine mg ivx for pain|cxr was clear ekg nad review of systems otherwise negative past medical diabetes mellitis neuropathy nephropathy episodes of dka in and stage iii baseline cr vertebral fracture ejection lives at home in location un with her yo daughter she has no history of etoh tobacco or illicit she is currently unemployed and seeking disability family parents have htn and tdm grandfather had an mi in awake alert and mmm no jvd neck supple no cervical rrr ss normal systolic ejection murmur at the upper sternal border pulm with no crackles or wheezes abd bs soft nt no no hsm no doctor last name wwp no edema radials dps pts skin no rashes or bruising no skin tenting neuro cns intact upper extremities power le left|power right power reduced sensation distal le to ankles pertinent labs rbc hgb hct mcv plt alk phos tot bili glucose urea creat sodium potassium cl discharge labs rbc hgb hct mcv plt creat na cl phos mg no evidence of pneumonia or other effusions no pulmonary edema normal size of microbiology urine culture negative blood cultures no date stool for hospital course yo with htn poorly controlled type dm cb nephropathy ckd retinopathy presents with hypertension sbp to diabetic ketoacidosis patient controls diabetes at home ss and long acting levemir sugars at home been in in the ed glucose was ua was ve corrected to but rose again to she with an insulin drip which was transitioned to subq tolerated pos her electrolytes were|repleted and aggressive volume resuscitation last name un saw her sliding scale recommendations which were implemented for dka found to be gastroparesis with ativan and promethazine she on her home insulin and sliding scale to followup with last name un htn hypertensive with sbp in initially attributed as she has experienced in the past as she improved pressures normalized and she was restarted on her and midodrine regimen coffee grounds emesis emesis started off as clear then she started having vomiting this had also occurred on prior admissions for dka vomiting her hematocrit remained stable and and so workup was deferred to setting acute on chronic kidney disease stage iii patients cr was trending down to following with her known ckd secondary to diabetic nephropathy|medications on admission citalopram mg tablet sig one tablet po daily daily levemir solution sig twenty two every am levemir solution sig twelve at bedtime humalog solution sig sliding scale as four times day please use sliding scale by md first name last name titles metoprolol tartrate mg tablet sig tablets po take in the evening promethazine mg tablet sig tablet po qh every as needed for nausea gabapentin mg capsule sig one capsule po qh every hours disp capsules refills duloxetine mg capsule delayed sig two delayed po daily daily please capsule daily mg for first weeks of treatment disp capsule delayed refills oxycodone mg capsule sig one capsule po every eight hours as needed for pain midodrine mg tablet sig tablets po every|four can hold while sleeping disp tablets medications citalopram mg tablet sig one tablet po daily daily gabapentin mg capsule sig one capsule po qh every hours duloxetine mg capsule delayed sig one delayed po daily daily metoprolol tartrate mg tablet sig three tablet daily at pm midodrine mg tablet sig three tablet po levemir solution sig as directed by last name un as directed discharge blood in your renal status clear and coherent level of consciousness alert and interactive activity status ambulatory independent discharge were admitted to the hospital with dka hypertension in your vomit you were initially treated in the icu insulin drip and your blood sugars improved your medications were adjusted to better control your while you were in dka but you|were restarted on regimen at discharge the blood in your vomit was to mechanical trauma from repeated but followup with your primary care doctor to you should undergo further evaluation such as an given your complaints of chronic cough and should also discuss beginning trial of proton such as nexium or prilosec to see if this helps your insulin regimen was adjusted by the last name un team while here you should continue to followup with them with or concerns regarding your insulin management followup call name office to schedule within days of discharge her office number you should also continue to followup with your last name un needed'"
      ]
     },
     "execution_count": 34,
     "metadata": {},
     "output_type": "execute_result"
    }
   ],
   "source": [
    "data['processedText'][0]"
   ]
  },
  {
   "cell_type": "code",
   "execution_count": 35,
   "id": "b8034db8",
   "metadata": {
    "execution": {
     "iopub.execute_input": "2022-04-25T12:40:10.292704Z",
     "iopub.status.busy": "2022-04-25T12:40:10.291953Z",
     "iopub.status.idle": "2022-04-25T12:40:19.682039Z",
     "shell.execute_reply": "2022-04-25T12:40:19.681354Z",
     "shell.execute_reply.started": "2022-04-25T11:37:54.850182Z"
    },
    "papermill": {
     "duration": 9.482839,
     "end_time": "2022-04-25T12:40:19.682278",
     "exception": false,
     "start_time": "2022-04-25T12:40:10.199439",
     "status": "completed"
    },
    "tags": []
   },
   "outputs": [
    {
     "name": "stdout",
     "output_type": "stream",
     "text": [
      "Requirement already satisfied: torch in /opt/conda/lib/python3.7/site-packages (1.9.1)\r\n",
      "Requirement already satisfied: typing-extensions in /opt/conda/lib/python3.7/site-packages (from torch) (4.1.1)\r\n",
      "\u001b[33mWARNING: Running pip as the 'root' user can result in broken permissions and conflicting behaviour with the system package manager. It is recommended to use a virtual environment instead: https://pip.pypa.io/warnings/venv\u001b[0m\r\n"
     ]
    }
   ],
   "source": [
    "!pip install torch "
   ]
  },
  {
   "cell_type": "code",
   "execution_count": 36,
   "id": "fdd23b82",
   "metadata": {
    "execution": {
     "iopub.execute_input": "2022-04-25T12:40:19.891167Z",
     "iopub.status.busy": "2022-04-25T12:40:19.890510Z",
     "iopub.status.idle": "2022-04-25T12:40:21.093687Z",
     "shell.execute_reply": "2022-04-25T12:40:21.093180Z",
     "shell.execute_reply.started": "2022-04-25T11:38:03.589990Z"
    },
    "papermill": {
     "duration": 1.309889,
     "end_time": "2022-04-25T12:40:21.093817",
     "exception": false,
     "start_time": "2022-04-25T12:40:19.783928",
     "status": "completed"
    },
    "tags": []
   },
   "outputs": [],
   "source": [
    "import torch.nn as nn\n",
    "import torch.nn.functional as F\n",
    "import torch\n",
    "import math"
   ]
  },
  {
   "cell_type": "code",
   "execution_count": 37,
   "id": "72cb749a",
   "metadata": {
    "execution": {
     "iopub.execute_input": "2022-04-25T12:40:21.279520Z",
     "iopub.status.busy": "2022-04-25T12:40:21.278801Z",
     "iopub.status.idle": "2022-04-25T12:40:21.766696Z",
     "shell.execute_reply": "2022-04-25T12:40:21.766047Z",
     "shell.execute_reply.started": "2022-04-25T11:38:05.041979Z"
    },
    "papermill": {
     "duration": 0.582762,
     "end_time": "2022-04-25T12:40:21.766840",
     "exception": false,
     "start_time": "2022-04-25T12:40:21.184078",
     "status": "completed"
    },
    "tags": []
   },
   "outputs": [],
   "source": [
    "import gensim\n",
    "from gensim.models.keyedvectors import KeyedVectors"
   ]
  },
  {
   "cell_type": "code",
   "execution_count": 38,
   "id": "b55c8fe4",
   "metadata": {
    "execution": {
     "iopub.execute_input": "2022-04-25T12:40:21.957810Z",
     "iopub.status.busy": "2022-04-25T12:40:21.956980Z",
     "iopub.status.idle": "2022-04-25T12:40:21.958774Z",
     "shell.execute_reply": "2022-04-25T12:40:21.959223Z",
     "shell.execute_reply.started": "2022-04-25T11:38:05.606809Z"
    },
    "papermill": {
     "duration": 0.099132,
     "end_time": "2022-04-25T12:40:21.959358",
     "exception": false,
     "start_time": "2022-04-25T12:40:21.860226",
     "status": "completed"
    },
    "tags": []
   },
   "outputs": [],
   "source": [
    "#!pip install pytorch torchvision torchaudio cudatoolkit=10.2 -c pytorch"
   ]
  },
  {
   "cell_type": "code",
   "execution_count": 39,
   "id": "641d42a6",
   "metadata": {
    "execution": {
     "iopub.execute_input": "2022-04-25T12:40:22.143822Z",
     "iopub.status.busy": "2022-04-25T12:40:22.142905Z",
     "iopub.status.idle": "2022-04-25T12:40:22.145718Z",
     "shell.execute_reply": "2022-04-25T12:40:22.145315Z",
     "shell.execute_reply.started": "2022-04-25T11:38:05.612925Z"
    },
    "papermill": {
     "duration": 0.09706,
     "end_time": "2022-04-25T12:40:22.145829",
     "exception": false,
     "start_time": "2022-04-25T12:40:22.048769",
     "status": "completed"
    },
    "tags": []
   },
   "outputs": [],
   "source": [
    "class SegmentEmbedding(nn.Embedding):\n",
    "    def __init__(self, embed_size=512):\n",
    "        super().__init__(3, embed_size, padding_idx=0)"
   ]
  },
  {
   "cell_type": "code",
   "execution_count": 40,
   "id": "7185fb23",
   "metadata": {
    "execution": {
     "iopub.execute_input": "2022-04-25T12:40:22.332263Z",
     "iopub.status.busy": "2022-04-25T12:40:22.331431Z",
     "iopub.status.idle": "2022-04-25T12:40:22.333183Z",
     "shell.execute_reply": "2022-04-25T12:40:22.333632Z",
     "shell.execute_reply.started": "2022-04-25T11:38:05.623118Z"
    },
    "papermill": {
     "duration": 0.098825,
     "end_time": "2022-04-25T12:40:22.333762",
     "exception": false,
     "start_time": "2022-04-25T12:40:22.234937",
     "status": "completed"
    },
    "tags": []
   },
   "outputs": [],
   "source": [
    "class PositionalEmbedding(nn.Module):\n",
    "\n",
    "    def __init__(self, d_model, max_len=256):\n",
    "        super().__init__()\n",
    "\n",
    "        # Compute the positional encodings once in log space.\n",
    "        pe = torch.zeros(max_len, d_model).float()\n",
    "        pe.require_grad = False\n",
    "\n",
    "        position = torch.arange(0, max_len).float().unsqueeze(1)\n",
    "        div_term = (torch.arange(0, d_model, 2).float() * -(math.log(10000.0) / d_model)).exp()\n",
    "\n",
    "        pe[:, 0::2] = torch.sin(position * div_term)\n",
    "        pe[:, 1::2] = torch.cos(position * div_term)\n",
    "\n",
    "        pe = pe.unsqueeze(0)\n",
    "        self.register_buffer('pe', pe)\n",
    "\n",
    "    def forward(self, x):\n",
    "        return self.pe[:, :x.size(1)]"
   ]
  },
  {
   "cell_type": "code",
   "execution_count": 41,
   "id": "ed96ef07",
   "metadata": {
    "execution": {
     "iopub.execute_input": "2022-04-25T12:40:22.517364Z",
     "iopub.status.busy": "2022-04-25T12:40:22.516602Z",
     "iopub.status.idle": "2022-04-25T12:40:22.518569Z",
     "shell.execute_reply": "2022-04-25T12:40:22.518941Z",
     "shell.execute_reply.started": "2022-04-25T11:38:05.634653Z"
    },
    "papermill": {
     "duration": 0.095446,
     "end_time": "2022-04-25T12:40:22.519074",
     "exception": false,
     "start_time": "2022-04-25T12:40:22.423628",
     "status": "completed"
    },
    "tags": []
   },
   "outputs": [],
   "source": [
    "#newvocab.stoi.keys()\n"
   ]
  },
  {
   "cell_type": "code",
   "execution_count": 42,
   "id": "2e0ddc1d",
   "metadata": {
    "execution": {
     "iopub.execute_input": "2022-04-25T12:40:22.711283Z",
     "iopub.status.busy": "2022-04-25T12:40:22.710663Z",
     "iopub.status.idle": "2022-04-25T12:41:08.962193Z",
     "shell.execute_reply": "2022-04-25T12:41:08.962635Z",
     "shell.execute_reply.started": "2022-04-25T11:38:05.643261Z"
    },
    "papermill": {
     "duration": 46.353934,
     "end_time": "2022-04-25T12:41:08.962782",
     "exception": false,
     "start_time": "2022-04-25T12:40:22.608848",
     "status": "completed"
    },
    "tags": []
   },
   "outputs": [
    {
     "name": "stdout",
     "output_type": "stream",
     "text": [
      "Found 2515686 word vectors.\n",
      "(200,)\n",
      "words not found 4878 (39382, 200)\n"
     ]
    },
    {
     "data": {
      "text/plain": [
       "array([[-0.41679911, -0.44827412,  0.0062554 , ...,  0.10389439,\n",
       "         0.10569827, -0.25466945],\n",
       "       [-0.44798994,  0.29155425,  0.05798534, ...,  0.04734979,\n",
       "        -0.11857151, -0.64839596],\n",
       "       [ 0.06657456, -0.55123331, -0.00772842, ..., -0.68149277,\n",
       "        -0.5585603 ,  0.44378112],\n",
       "       ...,\n",
       "       [-0.01128049,  0.00835382,  0.19846411, ...,  0.02915942,\n",
       "        -0.19766344, -0.06584377],\n",
       "       [ 0.00479148,  0.01465072,  0.03300364, ...,  0.01149676,\n",
       "        -0.02512572, -0.00507415],\n",
       "       [-0.27513109, -1.262989  ,  0.67804741, ...,  0.45248325,\n",
       "        -0.55666055,  1.08158507]])"
      ]
     },
     "execution_count": 42,
     "metadata": {},
     "output_type": "execute_result"
    }
   ],
   "source": [
    "word_model = KeyedVectors.load_word2vec_format(\"/kaggle/input/pmcmodel/PMC-w2v.bin\", binary=True)\n",
    "print('Found %s word vectors.' % len(word_model.index_to_key))\n",
    "print(word_model['Cholera'].shape)\n",
    "matrix_len = len(newvocab.stoi)\n",
    "weights_matrix = np.zeros((matrix_len, 200))\n",
    "words_found = 0\n",
    "\n",
    "for word, i in (newvocab.stoi.items()):\n",
    "    try: \n",
    "        weights_matrix[i] = word_model[word]\n",
    "        words_found += 1\n",
    "    except KeyError:\n",
    "        weights_matrix[i] = np.random.normal(scale=0.6, size=(200, ))\n",
    "print('words not found',len(newvocab.stoi)- words_found, weights_matrix.shape )\n",
    "weights_matrix"
   ]
  },
  {
   "cell_type": "code",
   "execution_count": 43,
   "id": "34927020",
   "metadata": {
    "execution": {
     "iopub.execute_input": "2022-04-25T12:41:09.153101Z",
     "iopub.status.busy": "2022-04-25T12:41:09.151398Z",
     "iopub.status.idle": "2022-04-25T12:41:09.153777Z",
     "shell.execute_reply": "2022-04-25T12:41:09.154229Z",
     "shell.execute_reply.started": "2022-04-25T11:38:52.589020Z"
    },
    "papermill": {
     "duration": 0.099209,
     "end_time": "2022-04-25T12:41:09.154382",
     "exception": false,
     "start_time": "2022-04-25T12:41:09.055173",
     "status": "completed"
    },
    "tags": []
   },
   "outputs": [],
   "source": [
    "def create_emb_layer(src_vocab_size,embed_size,non_trainable=False):\n",
    "    #num_embeddings, embedding_dim = weights_matrix.shape()\n",
    "    emb_layer = nn.Embedding(src_vocab_size, embed_size)\n",
    "    #emb_layer.load_state_dict({'weight': weights_matrix})\n",
    "    emb_layer.weight=nn.Parameter(torch.tensor(weights_matrix,dtype=torch.float32))\n",
    "    if non_trainable:\n",
    "        emb_layer.weight.requires_grad = False\n",
    "\n",
    "    return emb_layer"
   ]
  },
  {
   "cell_type": "code",
   "execution_count": 44,
   "id": "a2568a7d",
   "metadata": {
    "execution": {
     "iopub.execute_input": "2022-04-25T12:41:09.345616Z",
     "iopub.status.busy": "2022-04-25T12:41:09.344936Z",
     "iopub.status.idle": "2022-04-25T12:41:09.348339Z",
     "shell.execute_reply": "2022-04-25T12:41:09.347905Z",
     "shell.execute_reply.started": "2022-04-25T11:38:52.597809Z"
    },
    "papermill": {
     "duration": 0.100726,
     "end_time": "2022-04-25T12:41:09.348459",
     "exception": false,
     "start_time": "2022-04-25T12:41:09.247733",
     "status": "completed"
    },
    "tags": []
   },
   "outputs": [],
   "source": [
    "class TokenEmbedding(nn.Embedding):\n",
    "    def __init__(self, vocab_size, embed_size=512):\n",
    "        super().__init__(vocab_size, embed_size, padding_idx=0)"
   ]
  },
  {
   "cell_type": "code",
   "execution_count": 45,
   "id": "e8319fca",
   "metadata": {
    "execution": {
     "iopub.execute_input": "2022-04-25T12:41:09.538420Z",
     "iopub.status.busy": "2022-04-25T12:41:09.536823Z",
     "iopub.status.idle": "2022-04-25T12:41:09.538987Z",
     "shell.execute_reply": "2022-04-25T12:41:09.539412Z",
     "shell.execute_reply.started": "2022-04-25T11:38:52.608186Z"
    },
    "papermill": {
     "duration": 0.100219,
     "end_time": "2022-04-25T12:41:09.539552",
     "exception": false,
     "start_time": "2022-04-25T12:41:09.439333",
     "status": "completed"
    },
    "tags": []
   },
   "outputs": [],
   "source": [
    "class BERTEmbedding(nn.Module):\n",
    "    \"\"\"\n",
    "    BERT Embedding which is consisted with under features\n",
    "        1. TokenEmbedding : normal embedding matrix\n",
    "        2. PositionalEmbedding : adding positional information using sin, cos\n",
    "        2. SegmentEmbedding : adding sentence segment info, (sent_A:1, sent_B:2)\n",
    "\n",
    "        sum of all these features are output of BERTEmbedding\n",
    "    \"\"\"\n",
    "\n",
    "    def __init__(self, vocab_size, embed_size, dropout=0.1):\n",
    "        \"\"\"\n",
    "        :param vocab_size: total vocab size\n",
    "        :param embed_size: embedding size of token embedding\n",
    "        :param dropout: dropout rate\n",
    "        \"\"\"\n",
    "        super().__init__()\n",
    "        #self.token = TokenEmbedding(vocab_size=vocab_size, embed_size=embed_size)\n",
    "        self.token = create_emb_layer(vocab_size,embed_size )\n",
    "        self.position = PositionalEmbedding(d_model=self.token.embedding_dim)\n",
    "        self.segment = SegmentEmbedding(embed_size=self.token.embedding_dim)\n",
    "        self.dropout = nn.Dropout(p=dropout)\n",
    "        self.embed_size = embed_size\n",
    "\n",
    "    def forward(self, sequence, segment_label):\n",
    "        x = self.token(sequence) + self.position(sequence) + self.segment(segment_label)\n",
    "        return self.dropout(x)"
   ]
  },
  {
   "cell_type": "code",
   "execution_count": 46,
   "id": "6619036c",
   "metadata": {
    "execution": {
     "iopub.execute_input": "2022-04-25T12:41:09.728999Z",
     "iopub.status.busy": "2022-04-25T12:41:09.728133Z",
     "iopub.status.idle": "2022-04-25T12:41:09.729982Z",
     "shell.execute_reply": "2022-04-25T12:41:09.730400Z",
     "shell.execute_reply.started": "2022-04-25T11:38:52.620431Z"
    },
    "papermill": {
     "duration": 0.100705,
     "end_time": "2022-04-25T12:41:09.730531",
     "exception": false,
     "start_time": "2022-04-25T12:41:09.629826",
     "status": "completed"
    },
    "tags": []
   },
   "outputs": [],
   "source": [
    "class LayerNorm(nn.Module):\n",
    "    \"Construct a layernorm module (See citation for details).\"\n",
    "\n",
    "    def __init__(self, features, eps=1e-6):\n",
    "        super(LayerNorm, self).__init__()\n",
    "        self.a_2 = nn.Parameter(torch.ones(features))\n",
    "        self.b_2 = nn.Parameter(torch.zeros(features))\n",
    "        self.eps = eps\n",
    "\n",
    "    def forward(self, x):\n",
    "        mean = x.mean(-1, keepdim=True)\n",
    "        std = x.std(-1, keepdim=True)\n",
    "        return self.a_2 * (x - mean) / (std + self.eps) + self.b_2"
   ]
  },
  {
   "cell_type": "code",
   "execution_count": 47,
   "id": "c8ade341",
   "metadata": {
    "execution": {
     "iopub.execute_input": "2022-04-25T12:41:09.918961Z",
     "iopub.status.busy": "2022-04-25T12:41:09.918031Z",
     "iopub.status.idle": "2022-04-25T12:41:09.921929Z",
     "shell.execute_reply": "2022-04-25T12:41:09.921519Z",
     "shell.execute_reply.started": "2022-04-25T11:38:52.632079Z"
    },
    "papermill": {
     "duration": 0.101211,
     "end_time": "2022-04-25T12:41:09.922046",
     "exception": false,
     "start_time": "2022-04-25T12:41:09.820835",
     "status": "completed"
    },
    "tags": []
   },
   "outputs": [],
   "source": [
    "class PositionwiseFeedForward(nn.Module):\n",
    "    \"Implements FFN equation.\"\n",
    "\n",
    "    def __init__(self, d_model, d_ff, dropout=0.1):\n",
    "        super(PositionwiseFeedForward, self).__init__()\n",
    "        self.w_1 = nn.Linear(d_model, d_ff)\n",
    "        self.w_2 = nn.Linear(d_ff, d_model)\n",
    "        self.dropout = nn.Dropout(dropout)\n",
    "        self.activation = GELU()\n",
    "\n",
    "    def forward(self, x):\n",
    "        return self.w_2(self.dropout(self.activation(self.w_1(x))))\n"
   ]
  },
  {
   "cell_type": "code",
   "execution_count": 48,
   "id": "2bff9f11",
   "metadata": {
    "execution": {
     "iopub.execute_input": "2022-04-25T12:41:10.111004Z",
     "iopub.status.busy": "2022-04-25T12:41:10.109407Z",
     "iopub.status.idle": "2022-04-25T12:41:10.111594Z",
     "shell.execute_reply": "2022-04-25T12:41:10.111999Z",
     "shell.execute_reply.started": "2022-04-25T11:38:52.642881Z"
    },
    "papermill": {
     "duration": 0.099233,
     "end_time": "2022-04-25T12:41:10.112130",
     "exception": false,
     "start_time": "2022-04-25T12:41:10.012897",
     "status": "completed"
    },
    "tags": []
   },
   "outputs": [],
   "source": [
    "class GELU(nn.Module):\n",
    "    \"\"\"\n",
    "    Paper Section 3.4, last paragraph notice that BERT used the GELU instead of RELU\n",
    "    \"\"\"\n",
    "\n",
    "    def forward(self, x):\n",
    "        return 0.5 * x * (1 + torch.tanh(math.sqrt(2 / math.pi) * (x + 0.044715 * torch.pow(x, 3))))"
   ]
  },
  {
   "cell_type": "code",
   "execution_count": 49,
   "id": "9d62b461",
   "metadata": {
    "execution": {
     "iopub.execute_input": "2022-04-25T12:41:10.307608Z",
     "iopub.status.busy": "2022-04-25T12:41:10.306561Z",
     "iopub.status.idle": "2022-04-25T12:41:10.308232Z",
     "shell.execute_reply": "2022-04-25T12:41:10.308674Z",
     "shell.execute_reply.started": "2022-04-25T11:38:52.653339Z"
    },
    "papermill": {
     "duration": 0.102914,
     "end_time": "2022-04-25T12:41:10.308807",
     "exception": false,
     "start_time": "2022-04-25T12:41:10.205893",
     "status": "completed"
    },
    "tags": []
   },
   "outputs": [],
   "source": [
    "class SublayerConnection(nn.Module):\n",
    "    \"\"\"\n",
    "    A residual connection followed by a layer norm.\n",
    "    Note for code simplicity the norm is first as opposed to last.\n",
    "    \"\"\"\n",
    "\n",
    "    def __init__(self, size, dropout):\n",
    "        super(SublayerConnection, self).__init__()\n",
    "        self.norm = LayerNorm(size)\n",
    "        self.dropout = nn.Dropout(dropout)\n",
    "\n",
    "    def forward(self, x, sublayer):\n",
    "        \"Apply residual connection to any sublayer with the same size.\"\n",
    "        return x + self.dropout(sublayer(self.norm(x)))\n"
   ]
  },
  {
   "cell_type": "code",
   "execution_count": 50,
   "id": "5f3f08e1",
   "metadata": {
    "execution": {
     "iopub.execute_input": "2022-04-25T12:41:10.499186Z",
     "iopub.status.busy": "2022-04-25T12:41:10.498494Z",
     "iopub.status.idle": "2022-04-25T12:41:10.501286Z",
     "shell.execute_reply": "2022-04-25T12:41:10.500836Z",
     "shell.execute_reply.started": "2022-04-25T11:38:52.663604Z"
    },
    "papermill": {
     "duration": 0.101061,
     "end_time": "2022-04-25T12:41:10.501410",
     "exception": false,
     "start_time": "2022-04-25T12:41:10.400349",
     "status": "completed"
    },
    "tags": []
   },
   "outputs": [],
   "source": [
    "class Attention(nn.Module):\n",
    "    \"\"\"\n",
    "    Compute 'Scaled Dot Product Attention\n",
    "    \"\"\"\n",
    "\n",
    "    def forward(self, query, key, value, mask=None, dropout=None):\n",
    "        scores = torch.matmul(query, key.transpose(-2, -1)) \\\n",
    "                 / math.sqrt(query.size(-1))\n",
    "\n",
    "        if mask is not None:\n",
    "            scores = scores.masked_fill(mask == 0, -1e9)\n",
    "\n",
    "        p_attn = F.softmax(scores, dim=-1)\n",
    "\n",
    "        if dropout is not None:\n",
    "            p_attn = dropout(p_attn)\n",
    "\n",
    "        return torch.matmul(p_attn, value), p_attn"
   ]
  },
  {
   "cell_type": "code",
   "execution_count": 51,
   "id": "53e775d9",
   "metadata": {
    "execution": {
     "iopub.execute_input": "2022-04-25T12:41:10.700327Z",
     "iopub.status.busy": "2022-04-25T12:41:10.698700Z",
     "iopub.status.idle": "2022-04-25T12:41:10.700891Z",
     "shell.execute_reply": "2022-04-25T12:41:10.701309Z",
     "shell.execute_reply.started": "2022-04-25T11:38:52.674296Z"
    },
    "papermill": {
     "duration": 0.105956,
     "end_time": "2022-04-25T12:41:10.701447",
     "exception": false,
     "start_time": "2022-04-25T12:41:10.595491",
     "status": "completed"
    },
    "tags": []
   },
   "outputs": [],
   "source": [
    "class MultiHeadedAttention(nn.Module):\n",
    "    \"\"\"\n",
    "    Take in model size and number of heads.\n",
    "    \"\"\"\n",
    "\n",
    "    def __init__(self, h, d_model, dropout=0.1):\n",
    "        super().__init__()\n",
    "        assert d_model % h == 0\n",
    "\n",
    "        # We assume d_v always equals d_k\n",
    "        self.d_k = d_model // h\n",
    "        self.h = h\n",
    "\n",
    "        self.linear_layers = nn.ModuleList([nn.Linear(d_model, d_model) for _ in range(3)])\n",
    "        self.output_linear = nn.Linear(d_model, d_model)\n",
    "        self.attention = Attention()\n",
    "\n",
    "        self.dropout = nn.Dropout(p=dropout)\n",
    "\n",
    "    def forward(self, query, key, value, mask=None):\n",
    "        batch_size = query.size(0)\n",
    "\n",
    "        # 1) Do all the linear projections in batch from d_model => h x d_k\n",
    "        query, key, value = [l(x).view(batch_size, -1, self.h, self.d_k).transpose(1, 2)\n",
    "                             for l, x in zip(self.linear_layers, (query, key, value))]\n",
    "\n",
    "        # 2) Apply attention on all the projected vectors in batch.\n",
    "        x, attn = self.attention(query, key, value, mask=mask, dropout=self.dropout)\n",
    "\n",
    "        # 3) \"Concat\" using a view and apply a final linear.\n",
    "        x = x.transpose(1, 2).contiguous().view(batch_size, -1, self.h * self.d_k)\n",
    "\n",
    "        return self.output_linear(x)\n"
   ]
  },
  {
   "cell_type": "code",
   "execution_count": 52,
   "id": "6a4f9647",
   "metadata": {
    "execution": {
     "iopub.execute_input": "2022-04-25T12:41:10.890659Z",
     "iopub.status.busy": "2022-04-25T12:41:10.889831Z",
     "iopub.status.idle": "2022-04-25T12:41:10.891649Z",
     "shell.execute_reply": "2022-04-25T12:41:10.892079Z",
     "shell.execute_reply.started": "2022-04-25T11:38:52.739490Z"
    },
    "papermill": {
     "duration": 0.100107,
     "end_time": "2022-04-25T12:41:10.892225",
     "exception": false,
     "start_time": "2022-04-25T12:41:10.792118",
     "status": "completed"
    },
    "tags": []
   },
   "outputs": [],
   "source": [
    "class TransformerBlock(nn.Module):\n",
    "    \"\"\"\n",
    "    Bidirectional Encoder = Transformer (self-attention)\n",
    "    Transformer = MultiHead_Attention + Feed_Forward with sublayer connection\n",
    "    \"\"\"\n",
    "\n",
    "    def __init__(self, hidden, attn_heads, feed_forward_hidden, dropout):\n",
    "        \"\"\"\n",
    "        :param hidden: hidden size of transformer\n",
    "        :param attn_heads: head sizes of multi-head attention\n",
    "        :param feed_forward_hidden: feed_forward_hidden, usually 4*hidden_size\n",
    "        :param dropout: dropout rate\n",
    "        \"\"\"\n",
    "\n",
    "        super().__init__()\n",
    "        self.attention = MultiHeadedAttention(h=attn_heads, d_model=hidden)\n",
    "        self.feed_forward = PositionwiseFeedForward(d_model=hidden, d_ff=feed_forward_hidden, dropout=dropout)\n",
    "        self.input_sublayer = SublayerConnection(size=hidden, dropout=dropout)\n",
    "        self.output_sublayer = SublayerConnection(size=hidden, dropout=dropout)\n",
    "        self.dropout = nn.Dropout(p=dropout)\n",
    "\n",
    "    def forward(self, x, mask):\n",
    "        x = self.input_sublayer(x, lambda _x: self.attention.forward(_x, _x, _x, mask=mask))\n",
    "        x = self.output_sublayer(x, self.feed_forward)\n",
    "        return self.dropout(x)"
   ]
  },
  {
   "cell_type": "code",
   "execution_count": 53,
   "id": "beddc6bc",
   "metadata": {
    "execution": {
     "iopub.execute_input": "2022-04-25T12:41:11.083466Z",
     "iopub.status.busy": "2022-04-25T12:41:11.082593Z",
     "iopub.status.idle": "2022-04-25T12:41:11.084395Z",
     "shell.execute_reply": "2022-04-25T12:41:11.084886Z",
     "shell.execute_reply.started": "2022-04-25T11:38:52.750978Z"
    },
    "papermill": {
     "duration": 0.101233,
     "end_time": "2022-04-25T12:41:11.085016",
     "exception": false,
     "start_time": "2022-04-25T12:41:10.983783",
     "status": "completed"
    },
    "tags": []
   },
   "outputs": [],
   "source": [
    "class BERT(nn.Module):\n",
    "    \"\"\"\n",
    "    BERT model : Bidirectional Encoder Representations from Transformers.\n",
    "    \"\"\"\n",
    "\n",
    "    def __init__(self, vocab_size, hidden=768, n_layers=12, attn_heads=12, dropout=0.1):\n",
    "        \"\"\"\n",
    "        :param vocab_size: vocab_size of total words\n",
    "        :param hidden: BERT model hidden size\n",
    "        :param n_layers: numbers of Transformer blocks(layers)\n",
    "        :param attn_heads: number of attention heads\n",
    "        :param dropout: dropout rate\n",
    "        \"\"\"\n",
    "\n",
    "        super().__init__()\n",
    "        self.hidden = hidden\n",
    "        self.n_layers = n_layers\n",
    "        self.attn_heads = attn_heads\n",
    "\n",
    "        # paper noted they used 4*hidden_size for ff_network_hidden_size\n",
    "        self.feed_forward_hidden = hidden * 4\n",
    "\n",
    "        # embedding for BERT, sum of positional, segment, token embeddings\n",
    "        self.embedding = BERTEmbedding(vocab_size=vocab_size, embed_size=hidden)\n",
    "\n",
    "        # multi-layers transformer blocks, deep network\n",
    "        self.transformer_blocks = nn.ModuleList(\n",
    "            [TransformerBlock(hidden, attn_heads, hidden * 4, dropout) for _ in range(n_layers)])\n",
    "\n",
    "    def forward(self, x, segment_info):\n",
    "        # attention masking for padded token\n",
    "        # torch.ByteTensor([batch_size, 1, seq_len, seq_len)\n",
    "        mask = (x > 0).unsqueeze(1).repeat(1, x.size(1), 1).unsqueeze(1)\n",
    "\n",
    "        # embedding the indexed sequence to sequence of vectors\n",
    "        x = self.embedding(x, segment_info)\n",
    "\n",
    "        # running over multiple transformer blocks\n",
    "        for transformer in self.transformer_blocks:\n",
    "            x = transformer.forward(x, mask)\n",
    "\n",
    "        return x"
   ]
  },
  {
   "cell_type": "code",
   "execution_count": 54,
   "id": "932684ed",
   "metadata": {
    "execution": {
     "iopub.execute_input": "2022-04-25T12:41:11.273313Z",
     "iopub.status.busy": "2022-04-25T12:41:11.272683Z",
     "iopub.status.idle": "2022-04-25T12:41:11.491249Z",
     "shell.execute_reply": "2022-04-25T12:41:11.490726Z",
     "shell.execute_reply.started": "2022-04-25T11:38:52.764165Z"
    },
    "papermill": {
     "duration": 0.315836,
     "end_time": "2022-04-25T12:41:11.491386",
     "exception": false,
     "start_time": "2022-04-25T12:41:11.175550",
     "status": "completed"
    },
    "tags": []
   },
   "outputs": [],
   "source": [
    "bert = BERT(len(vocab), hidden=200, n_layers=8, attn_heads=5)"
   ]
  },
  {
   "cell_type": "code",
   "execution_count": 55,
   "id": "769555ce",
   "metadata": {
    "execution": {
     "iopub.execute_input": "2022-04-25T12:41:11.684925Z",
     "iopub.status.busy": "2022-04-25T12:41:11.684037Z",
     "iopub.status.idle": "2022-04-25T12:41:11.687053Z",
     "shell.execute_reply": "2022-04-25T12:41:11.687543Z",
     "shell.execute_reply.started": "2022-04-25T11:38:53.058438Z"
    },
    "papermill": {
     "duration": 0.104378,
     "end_time": "2022-04-25T12:41:11.687695",
     "exception": false,
     "start_time": "2022-04-25T12:41:11.583317",
     "status": "completed"
    },
    "tags": []
   },
   "outputs": [],
   "source": [
    "class BERTLM(nn.Module):\n",
    "    \"\"\"\n",
    "    BERT Language Model\n",
    "    Next Sentence Prediction Model + Masked Language Model\n",
    "    \"\"\"\n",
    "\n",
    "    def __init__(self, bert: BERT, vocab_size):\n",
    "        \"\"\"\n",
    "        :param bert: BERT model which should be trained\n",
    "        :param vocab_size: total vocab size for masked_lm\n",
    "        \"\"\"\n",
    "\n",
    "        super().__init__()\n",
    "        self.bert = bert\n",
    "        self.next_sentence = NextSentencePrediction(self.bert.hidden)\n",
    "        self.mask_lm = MaskedLanguageModel(self.bert.hidden, vocab_size)\n",
    "\n",
    "    def forward(self, x, segment_label):\n",
    "        x = self.bert(x, segment_label)\n",
    "        return self.next_sentence(x)#, self.mask_lm(x) \n",
    "\n",
    "\n",
    "class NextSentencePrediction(nn.Module):\n",
    "    \"\"\"\n",
    "    2-class classification model : is_next, is_not_next\n",
    "    \"\"\"\n",
    "\n",
    "    def __init__(self, hidden):\n",
    "        \"\"\"\n",
    "        :param hidden: BERT model output size\n",
    "        \"\"\"\n",
    "        super().__init__()\n",
    "        self.linear = nn.Linear(hidden, 2)\n",
    "        self.softmax = nn.LogSoftmax(dim=-1)\n",
    "\n",
    "    def forward(self, x):\n",
    "        return self.softmax(self.linear(x[:, 0]))\n",
    "\n",
    "\n",
    "class MaskedLanguageModel(nn.Module):\n",
    "    \"\"\"\n",
    "    predicting origin token from masked input sequence\n",
    "    n-class classification problem, n-class = vocab_size\n",
    "    \"\"\"\n",
    "\n",
    "    def __init__(self, hidden, vocab_size):\n",
    "        \"\"\"\n",
    "        :param hidden: output size of BERT model\n",
    "        :param vocab_size: total vocab size\n",
    "        \"\"\"\n",
    "        super().__init__()\n",
    "        self.linear = nn.Linear(hidden, vocab_size)\n",
    "        self.softmax = nn.LogSoftmax(dim=-1)\n",
    "\n",
    "    def forward(self, x):\n",
    "        return self.softmax(self.linear(x))"
   ]
  },
  {
   "cell_type": "code",
   "execution_count": 56,
   "id": "c9583525",
   "metadata": {
    "execution": {
     "iopub.execute_input": "2022-04-25T12:41:11.927709Z",
     "iopub.status.busy": "2022-04-25T12:41:11.927085Z",
     "iopub.status.idle": "2022-04-25T12:41:11.930565Z",
     "shell.execute_reply": "2022-04-25T12:41:11.930981Z",
     "shell.execute_reply.started": "2022-04-25T11:38:53.069886Z"
    },
    "papermill": {
     "duration": 0.151938,
     "end_time": "2022-04-25T12:41:11.931127",
     "exception": false,
     "start_time": "2022-04-25T12:41:11.779189",
     "status": "completed"
    },
    "tags": []
   },
   "outputs": [],
   "source": [
    "cuda_condition = torch.cuda.is_available()\n",
    "device = torch.device(\"cuda:0\" if cuda_condition else \"cpu\")"
   ]
  },
  {
   "cell_type": "code",
   "execution_count": 57,
   "id": "b82d2e5e",
   "metadata": {
    "execution": {
     "iopub.execute_input": "2022-04-25T12:41:12.126789Z",
     "iopub.status.busy": "2022-04-25T12:41:12.126008Z",
     "iopub.status.idle": "2022-04-25T12:41:16.303530Z",
     "shell.execute_reply": "2022-04-25T12:41:16.304024Z",
     "shell.execute_reply.started": "2022-04-25T11:38:53.141610Z"
    },
    "papermill": {
     "duration": 4.278796,
     "end_time": "2022-04-25T12:41:16.304194",
     "exception": false,
     "start_time": "2022-04-25T12:41:12.025398",
     "status": "completed"
    },
    "tags": []
   },
   "outputs": [],
   "source": [
    "model = BERTLM(bert, len(vocab)).to(device)"
   ]
  },
  {
   "cell_type": "code",
   "execution_count": 58,
   "id": "02367434",
   "metadata": {
    "execution": {
     "iopub.execute_input": "2022-04-25T12:41:16.491460Z",
     "iopub.status.busy": "2022-04-25T12:41:16.489869Z",
     "iopub.status.idle": "2022-04-25T12:41:16.492042Z",
     "shell.execute_reply": "2022-04-25T12:41:16.492475Z",
     "shell.execute_reply.started": "2022-04-25T11:38:57.540041Z"
    },
    "papermill": {
     "duration": 0.096788,
     "end_time": "2022-04-25T12:41:16.492616",
     "exception": false,
     "start_time": "2022-04-25T12:41:16.395828",
     "status": "completed"
    },
    "tags": []
   },
   "outputs": [],
   "source": [
    "#model"
   ]
  },
  {
   "cell_type": "code",
   "execution_count": 59,
   "id": "9be10d11",
   "metadata": {
    "execution": {
     "iopub.execute_input": "2022-04-25T12:41:16.678783Z",
     "iopub.status.busy": "2022-04-25T12:41:16.677940Z",
     "iopub.status.idle": "2022-04-25T12:41:16.680077Z",
     "shell.execute_reply": "2022-04-25T12:41:16.680489Z",
     "shell.execute_reply.started": "2022-04-25T11:38:57.545246Z"
    },
    "papermill": {
     "duration": 0.096922,
     "end_time": "2022-04-25T12:41:16.680631",
     "exception": false,
     "start_time": "2022-04-25T12:41:16.583709",
     "status": "completed"
    },
    "tags": []
   },
   "outputs": [],
   "source": [
    "from torch.utils.data import Dataset\n",
    "import tqdm\n",
    "import torch\n",
    "import random"
   ]
  },
  {
   "cell_type": "code",
   "execution_count": 60,
   "id": "80244d95",
   "metadata": {
    "execution": {
     "iopub.execute_input": "2022-04-25T12:41:16.877935Z",
     "iopub.status.busy": "2022-04-25T12:41:16.877029Z",
     "iopub.status.idle": "2022-04-25T12:41:16.879780Z",
     "shell.execute_reply": "2022-04-25T12:41:16.879314Z",
     "shell.execute_reply.started": "2022-04-25T11:38:57.555921Z"
    },
    "papermill": {
     "duration": 0.10392,
     "end_time": "2022-04-25T12:41:16.879898",
     "exception": false,
     "start_time": "2022-04-25T12:41:16.775978",
     "status": "completed"
    },
    "tags": []
   },
   "outputs": [],
   "source": [
    "### Preparing Dataset and Dataloadrer "
   ]
  },
  {
   "cell_type": "code",
   "execution_count": 61,
   "id": "5675861f",
   "metadata": {
    "execution": {
     "iopub.execute_input": "2022-04-25T12:41:17.071349Z",
     "iopub.status.busy": "2022-04-25T12:41:17.070788Z",
     "iopub.status.idle": "2022-04-25T12:41:17.098783Z",
     "shell.execute_reply": "2022-04-25T12:41:17.098326Z",
     "shell.execute_reply.started": "2022-04-25T11:38:57.565462Z"
    },
    "papermill": {
     "duration": 0.125481,
     "end_time": "2022-04-25T12:41:17.098898",
     "exception": false,
     "start_time": "2022-04-25T12:41:16.973417",
     "status": "completed"
    },
    "tags": []
   },
   "outputs": [],
   "source": [
    "icdCodeDescription  = '/kaggle/input/mimicdata/ICD_desc_with_freq.csv'\n",
    "topCodes  = 2833\n",
    "icdCodes = pd.read_csv(icdCodeDescription)[:topCodes]\n",
    "icdCodeDescDict = {}\n",
    "codes  = list(icdCodes[\"Code\"])\n",
    "Desc  = list(icdCodes[\"Long Description\"])\n",
    "code2Index = {}\n",
    "for i , code in enumerate(codes):\n",
    "    icdCodeDescDict[code] = Desc[i]\n",
    "    code2Index[code] = i+1\n",
    "#return icdCodeDescDict,code2Index"
   ]
  },
  {
   "cell_type": "code",
   "execution_count": 62,
   "id": "ecd74ee9",
   "metadata": {
    "execution": {
     "iopub.execute_input": "2022-04-25T12:41:17.287906Z",
     "iopub.status.busy": "2022-04-25T12:41:17.287300Z",
     "iopub.status.idle": "2022-04-25T12:41:17.290015Z",
     "shell.execute_reply": "2022-04-25T12:41:17.290483Z",
     "shell.execute_reply.started": "2022-04-25T11:38:57.598206Z"
    },
    "papermill": {
     "duration": 0.100405,
     "end_time": "2022-04-25T12:41:17.290630",
     "exception": false,
     "start_time": "2022-04-25T12:41:17.190225",
     "status": "completed"
    },
    "tags": []
   },
   "outputs": [
    {
     "data": {
      "text/plain": [
       "2833"
      ]
     },
     "execution_count": 62,
     "metadata": {},
     "output_type": "execute_result"
    }
   ],
   "source": [
    "len(icdCodeDescDict)"
   ]
  },
  {
   "cell_type": "code",
   "execution_count": 63,
   "id": "f5104485",
   "metadata": {
    "execution": {
     "iopub.execute_input": "2022-04-25T12:41:17.483951Z",
     "iopub.status.busy": "2022-04-25T12:41:17.483064Z",
     "iopub.status.idle": "2022-04-25T12:41:17.486924Z",
     "shell.execute_reply": "2022-04-25T12:41:17.487372Z",
     "shell.execute_reply.started": "2022-04-25T11:38:57.611405Z"
    },
    "papermill": {
     "duration": 0.10153,
     "end_time": "2022-04-25T12:41:17.487510",
     "exception": false,
     "start_time": "2022-04-25T12:41:17.385980",
     "status": "completed"
    },
    "tags": []
   },
   "outputs": [
    {
     "data": {
      "text/plain": [
       "Index(['Unnamed: 0', 'TEXT', 'HADM_ID', 'ICD9_CODE', 'clean_text', 'top_ICD',\n",
       "       'processedText'],\n",
       "      dtype='object')"
      ]
     },
     "execution_count": 63,
     "metadata": {},
     "output_type": "execute_result"
    }
   ],
   "source": [
    "data.columns"
   ]
  },
  {
   "cell_type": "code",
   "execution_count": 64,
   "id": "7a18f8ad",
   "metadata": {
    "execution": {
     "iopub.execute_input": "2022-04-25T12:41:17.675947Z",
     "iopub.status.busy": "2022-04-25T12:41:17.675243Z",
     "iopub.status.idle": "2022-04-25T12:41:17.677846Z",
     "shell.execute_reply": "2022-04-25T12:41:17.677422Z",
     "shell.execute_reply.started": "2022-04-25T11:38:57.620121Z"
    },
    "papermill": {
     "duration": 0.09938,
     "end_time": "2022-04-25T12:41:17.677985",
     "exception": false,
     "start_time": "2022-04-25T12:41:17.578605",
     "status": "completed"
    },
    "tags": []
   },
   "outputs": [],
   "source": [
    "def CreateTextFileLableMap():\n",
    "    trueLabels = list(data['ICD9_CODE'])\n",
    "    textFileLabel = {}\n",
    "    for i , trueLabel in enumerate(trueLabels):\n",
    "        textFileLabel[i+1]  = [y for y in trueLabel[2:-2].split(\"', '\")if y in  icdCodeDescDict]\n",
    "    return textFileLabel"
   ]
  },
  {
   "cell_type": "code",
   "execution_count": 65,
   "id": "c0c392c9",
   "metadata": {
    "execution": {
     "iopub.execute_input": "2022-04-25T12:41:17.964961Z",
     "iopub.status.busy": "2022-04-25T12:41:17.944501Z",
     "iopub.status.idle": "2022-04-25T12:41:17.974179Z",
     "shell.execute_reply": "2022-04-25T12:41:17.973750Z",
     "shell.execute_reply.started": "2022-04-25T11:38:57.628337Z"
    },
    "papermill": {
     "duration": 0.204176,
     "end_time": "2022-04-25T12:41:17.974329",
     "exception": false,
     "start_time": "2022-04-25T12:41:17.770153",
     "status": "completed"
    },
    "tags": []
   },
   "outputs": [],
   "source": [
    "label = CreateTextFileLableMap()"
   ]
  },
  {
   "cell_type": "code",
   "execution_count": 66,
   "id": "37b73ed1",
   "metadata": {
    "execution": {
     "iopub.execute_input": "2022-04-25T12:41:18.170659Z",
     "iopub.status.busy": "2022-04-25T12:41:18.169891Z",
     "iopub.status.idle": "2022-04-25T12:41:18.172881Z",
     "shell.execute_reply": "2022-04-25T12:41:18.173303Z",
     "shell.execute_reply.started": "2022-04-25T11:38:57.691547Z"
    },
    "papermill": {
     "duration": 0.107363,
     "end_time": "2022-04-25T12:41:18.173445",
     "exception": false,
     "start_time": "2022-04-25T12:41:18.066082",
     "status": "completed"
    },
    "tags": []
   },
   "outputs": [
    {
     "data": {
      "text/plain": [
       "['25013',\n",
       " '3371',\n",
       " '5849',\n",
       " '5780',\n",
       " 'V5867',\n",
       " '25063',\n",
       " '5363',\n",
       " '4580',\n",
       " '25043',\n",
       " '40390',\n",
       " '5853',\n",
       " '25053',\n",
       " '36201',\n",
       " '25083',\n",
       " '7078',\n",
       " 'V1351']"
      ]
     },
     "execution_count": 66,
     "metadata": {},
     "output_type": "execute_result"
    }
   ],
   "source": [
    "label[1]"
   ]
  },
  {
   "cell_type": "code",
   "execution_count": 67,
   "id": "5268e243",
   "metadata": {
    "execution": {
     "iopub.execute_input": "2022-04-25T12:41:18.376944Z",
     "iopub.status.busy": "2022-04-25T12:41:18.376030Z",
     "iopub.status.idle": "2022-04-25T12:41:18.378140Z",
     "shell.execute_reply": "2022-04-25T12:41:18.378610Z",
     "shell.execute_reply.started": "2022-04-25T11:38:57.699979Z"
    },
    "papermill": {
     "duration": 0.102373,
     "end_time": "2022-04-25T12:41:18.378768",
     "exception": false,
     "start_time": "2022-04-25T12:41:18.276395",
     "status": "completed"
    },
    "tags": []
   },
   "outputs": [],
   "source": [
    "listIds = [i for i in range(data.shape[0])]"
   ]
  },
  {
   "cell_type": "code",
   "execution_count": 68,
   "id": "305f4921",
   "metadata": {
    "execution": {
     "iopub.execute_input": "2022-04-25T12:41:18.571777Z",
     "iopub.status.busy": "2022-04-25T12:41:18.570992Z",
     "iopub.status.idle": "2022-04-25T12:41:18.573673Z",
     "shell.execute_reply": "2022-04-25T12:41:18.574061Z",
     "shell.execute_reply.started": "2022-04-25T11:38:57.706925Z"
    },
    "papermill": {
     "duration": 0.101912,
     "end_time": "2022-04-25T12:41:18.574215",
     "exception": false,
     "start_time": "2022-04-25T12:41:18.472303",
     "status": "completed"
    },
    "tags": []
   },
   "outputs": [
    {
     "data": {
      "text/plain": [
       "15000"
      ]
     },
     "execution_count": 68,
     "metadata": {},
     "output_type": "execute_result"
    }
   ],
   "source": [
    "len(listIds)"
   ]
  },
  {
   "cell_type": "code",
   "execution_count": 69,
   "id": "6dc4776b",
   "metadata": {
    "execution": {
     "iopub.execute_input": "2022-04-25T12:41:18.768093Z",
     "iopub.status.busy": "2022-04-25T12:41:18.767186Z",
     "iopub.status.idle": "2022-04-25T12:41:18.769251Z",
     "shell.execute_reply": "2022-04-25T12:41:18.769719Z",
     "shell.execute_reply.started": "2022-04-25T11:38:57.719276Z"
    },
    "papermill": {
     "duration": 0.102974,
     "end_time": "2022-04-25T12:41:18.769874",
     "exception": false,
     "start_time": "2022-04-25T12:41:18.666900",
     "status": "completed"
    },
    "tags": []
   },
   "outputs": [],
   "source": [
    "class Dataset(torch.utils.data.Dataset):\n",
    "  'Characterizes a dataset for PyTorch'\n",
    "  def __init__(self, list_IDs, labels):\n",
    "        'Initialization'\n",
    "        self.labels = labels\n",
    "        self.list_IDs = list_IDs\n",
    "\n",
    "  def __len__(self):\n",
    "        'Denotes the total number of samples'\n",
    "        return len(self.list_IDs)\n",
    "\n",
    "  def __getitem__(self, index):\n",
    "        'Generates one sample of data'\n",
    "        # Select sample\n",
    "        ID = self.list_IDs[index]\n",
    "\n",
    "        # Load data and get label\n",
    "        X = data['processedText'][ID]\n",
    "        y = self.labels[ID]\n",
    "        return X, y"
   ]
  },
  {
   "cell_type": "code",
   "execution_count": 70,
   "id": "3dd241f1",
   "metadata": {
    "execution": {
     "iopub.execute_input": "2022-04-25T12:41:18.966000Z",
     "iopub.status.busy": "2022-04-25T12:41:18.964419Z",
     "iopub.status.idle": "2022-04-25T12:41:18.966576Z",
     "shell.execute_reply": "2022-04-25T12:41:18.966982Z",
     "shell.execute_reply.started": "2022-04-25T11:38:57.727392Z"
    },
    "papermill": {
     "duration": 0.100856,
     "end_time": "2022-04-25T12:41:18.967113",
     "exception": false,
     "start_time": "2022-04-25T12:41:18.866257",
     "status": "completed"
    },
    "tags": []
   },
   "outputs": [],
   "source": [
    "dataset = Dataset(listIds,label )"
   ]
  },
  {
   "cell_type": "code",
   "execution_count": 71,
   "id": "7db56db6",
   "metadata": {
    "execution": {
     "iopub.execute_input": "2022-04-25T12:41:19.161919Z",
     "iopub.status.busy": "2022-04-25T12:41:19.160748Z",
     "iopub.status.idle": "2022-04-25T12:41:19.164314Z",
     "shell.execute_reply": "2022-04-25T12:41:19.164736Z",
     "shell.execute_reply.started": "2022-04-25T11:38:57.736682Z"
    },
    "papermill": {
     "duration": 0.104089,
     "end_time": "2022-04-25T12:41:19.164872",
     "exception": false,
     "start_time": "2022-04-25T12:41:19.060783",
     "status": "completed"
    },
    "tags": []
   },
   "outputs": [
    {
     "data": {
      "text/plain": [
       "('admission date discharge date of birth sex recorded as having no known allergies to name lf ground surgical or invasive ij of present known is m hepc cirrhosis cb grade iii and portal gastropathy last egd who emesis and melena days pt was in his until about days pta when he intermittent nausea he had episodes emesis and episode of tarry black stool in of admission he reports some lightheadedness which new but denies frank hematemesis abdominal chills significant increases in his abdominal girth drinking or medication noncompliance he also naproxen for back pain times day in the in the ed his vitals were on ra given ns iv protonix mg iv started on an he had guaiac positive brown stool on rectal exam he|by the liver fellow in the ed who felt this was unlikely bleed and recommended work up for infection an ng attempted however patient was unable to tolerate it in abdominal ultrasound was done which showed patent scant ascites but not enough to tap bp dropped to pt transferred to micu for hemodynamic monitoring in the micu pt was given prbc hct bumped from to started on norepinephrine gtt for few hours but on transfer to the floor remains feels good denies tarry or bloody bms emesis past medical cirrhosis tx with interferon with no ii esophageal lives alone he is drinking alcohol usually one session he has four to five drinks per session he was told abstain from alcohol effective as of today about|cigarettes per day family hr bp rr somnolent oriented unable to assess for supple jvp at angle of jaw fluid bolus running rrr s no appreciable distended non tender no rebound or guarding bowel pitting edema warm diaphoretic no rash or lesions on admission pm blood wbc rbc hgb hct mch mchc rdw plt ct pm blood neuts lymphs monos eos baso pm blood pt ptt pm blood glucose creat cl hco angap pm blood alt ast pm blood calcium phos mg labs on discharge am blood wbc rbc hgb hct mch mchc rdw plt ct am blood pt ptt am blood glucose creat cl hco angap am blood alt ast am blood calcium phos mg other labs am blood ckmb pm blood ckmb mb|indx pm blood lipase urine pm urine sp last name un pm urine ph pm urine rbc wbc urine cultures serum antibody negative cardiology tte left atrium is dilated left ventricular wall cavity size are normal left ventricular systolic hyperdynamic ef right ventricular chamber size wall motion are normal the aortic valve leaflets thickened but aortic stenosis is not present no is seen the mitral valve leaflets are mild mitral regurgitation is seen there pulmonary artery systolic hypertension there is effusion impression hyperdynamic lv systolic function mild moderate pulmonary artery systolic hypertension ekg qt interval is nonspecific but clinical correlation previous tracing available for comparison intervals pr qrs qrs varices at the lower third of the esophagus and middle the esophagus erythema and erosion in|the antrum and pylorus nonsteroidal induced gastritis bleeding from pyloric ulcer in the pylorus compatible induced ulcer injection thermal therapy normal mucosa in the duodenum otherwise normal egd to third part of the duodenum radiology cxr the prominent bulge to the right heart border could be due cyst and enlarged right atrium there is engorgement to suggest cardiac tamponade is normal the lungs are clear and there is effusion overall heart size is normal right ends at the junction of veins no pneumothorax or pleural effusion abd us no ni evidence for portal venous thrombosis flow is hepatopetal and no significant ascites sliver of perihepatic ascites persistent coarsened echotexture of the liver consistent of cirrhosis hospital known is m hcv cirrhosis grade ii esophageal emesis|and melena concerning for micu stay for hypotension ugib pt did not have any more bleeds while in hospital erythema and erosion in the antrum and with nonsteroidal induced gastritis pt did increased doses of naproxen for backache started mg po bid for one week with repeat in one week recommended to take tylenol dose of gm for pain instead of nsaids blood were held at first given micu admission for were restarted on discharge hcv cirrhosis appears to be progressing to liver elevated inr at decreased albumin at elevated at and chronic le edema pt was prophylactic medications full on mg mg mg medications phenol aerosol spray sig one spray prn as needed lactulose gram ml syrup sig thirty ml po tid day thiamine|hcl mg tablet sig one tablet po folic acid mg tablet sig one tablet po daily daily spironolactone mg tablet sig one tablet po furosemide mg tablet sig one tablet po once day acetaminophen mg tablet sig tablets po every as needed no more than tablets of regular per day terbinafine cream sig one appl topical hospital day for weeks refills nadolol mg tablet sig one tablet po daily daily pantoprazole mg tablet delayed release ec sig one tablet delayed release ec po twice day for take tablet daily disp tablet delayed release ec refills lotion sig one appl times day as needed for itching refills lisinopril mg tablet sig one tablet po once day discharge were admitted for bleeding from an ulcer in your|stomach this ulcer is at least partially caused by naproxen you taking naproxen and take only tylenol for pain you take any nsaids for pain including ibuprofen motrin aspirin toradol or advil it is okay to but do not take more than extra strength tylenol daily maximum the following medication changes were not take pantoprazole mg twice daily for one week then take daily you are scheduled to get repeat endoscopy next week prior procedure do not have anything to drink or eat please return to the er if you have any chest fever chills bloody or black stools or concerning symptoms followup name apartment address st gi rooms datetime first name name pattern last name md name last name md by',\n",
       " ['25013',\n",
       "  '3371',\n",
       "  '5849',\n",
       "  '5780',\n",
       "  'V5867',\n",
       "  '25063',\n",
       "  '5363',\n",
       "  '4580',\n",
       "  '25043',\n",
       "  '40390',\n",
       "  '5853',\n",
       "  '25053',\n",
       "  '36201',\n",
       "  '25083',\n",
       "  '7078',\n",
       "  'V1351'])"
      ]
     },
     "execution_count": 71,
     "metadata": {},
     "output_type": "execute_result"
    }
   ],
   "source": [
    " dataset[1]"
   ]
  },
  {
   "cell_type": "code",
   "execution_count": 72,
   "id": "22b93fea",
   "metadata": {
    "execution": {
     "iopub.execute_input": "2022-04-25T12:41:19.358149Z",
     "iopub.status.busy": "2022-04-25T12:41:19.357518Z",
     "iopub.status.idle": "2022-04-25T12:41:19.360230Z",
     "shell.execute_reply": "2022-04-25T12:41:19.360657Z",
     "shell.execute_reply.started": "2022-04-25T11:38:57.746734Z"
    },
    "papermill": {
     "duration": 0.101821,
     "end_time": "2022-04-25T12:41:19.360792",
     "exception": false,
     "start_time": "2022-04-25T12:41:19.258971",
     "status": "completed"
    },
    "tags": []
   },
   "outputs": [
    {
     "data": {
      "text/plain": [
       "125"
      ]
     },
     "execution_count": 72,
     "metadata": {},
     "output_type": "execute_result"
    }
   ],
   "source": [
    "len(dataset[1][0].split(\"|\")[4].split())"
   ]
  },
  {
   "cell_type": "code",
   "execution_count": null,
   "id": "a985b4b5",
   "metadata": {
    "papermill": {
     "duration": 0.092949,
     "end_time": "2022-04-25T12:41:19.547869",
     "exception": false,
     "start_time": "2022-04-25T12:41:19.454920",
     "status": "completed"
    },
    "tags": []
   },
   "outputs": [],
   "source": []
  },
  {
   "cell_type": "code",
   "execution_count": 73,
   "id": "b74080dd",
   "metadata": {
    "execution": {
     "iopub.execute_input": "2022-04-25T12:41:19.757947Z",
     "iopub.status.busy": "2022-04-25T12:41:19.757030Z",
     "iopub.status.idle": "2022-04-25T12:41:19.758855Z",
     "shell.execute_reply": "2022-04-25T12:41:19.759272Z",
     "shell.execute_reply.started": "2022-04-25T11:38:57.756280Z"
    },
    "papermill": {
     "duration": 0.118389,
     "end_time": "2022-04-25T12:41:19.759411",
     "exception": false,
     "start_time": "2022-04-25T12:41:19.641022",
     "status": "completed"
    },
    "tags": []
   },
   "outputs": [],
   "source": [
    "class BERTDataset(Dataset):\n",
    "    def __init__(self,vocab, seq_len, list_IDs, labels, encoding=\"utf-8\", on_memory=True):\n",
    "        self.vocab = vocab\n",
    "        self.seq_len = seq_len\n",
    "\n",
    "        self.on_memory = on_memory\n",
    "        #self.corpus_lines = corpus_lines\n",
    "        self.list_IDs  = list_IDs \n",
    "        self.encoding = encoding\n",
    "        self.labels = labels\n",
    "        self.texts  = data['processedText']\n",
    "\n",
    "\n",
    "    def __len__(self):\n",
    "        return len(self.list_IDs)\n",
    "\n",
    "    def __getitem__(self, item):# if item count start from 1 and till the size of docuemts length \n",
    "        text_ = self.texts[item-1]\n",
    "        text_ = text_.split('|')\n",
    "        if(len(text_) % 2):\n",
    "            text_.append(text_[-1])\n",
    "        text_ = [text_[i: i+2] for i in range(0, len(text_), 2)]\n",
    "        #print(len(text_))\n",
    "        bert_input_ = self.generateTensor(text_)\n",
    "        return bert_input_\n",
    "        #return {key: torch.tensor(value) for key, value in output.items()}\n",
    "    def generateTensor(self, text):\n",
    "        numberOfLines  = len(text)\n",
    "        bert_input_ = []\n",
    "        bert_label_ = []\n",
    "        segment_label_ = []\n",
    "        is_next_ = []\n",
    "        for i in range(numberOfLines):\n",
    "            t1, t2, is_next_label = self.random_sent(i, text)#generate the label for next sentence prediction in the form of 0 or 1\n",
    "            t1_random, t1_label = self.random_word(t1)#This will generate the masked token for sentence A and the label index for the masked token \n",
    "            t2_random, t2_label = self.random_word(t2)\n",
    "\n",
    "        # [CLS] tag = SOS tag, [SEP] tag = EOS tag\n",
    "            t1 = [self.vocab.sos_index] + t1_random + [self.vocab.eos_index]\n",
    "            t2 = t2_random + [self.vocab.eos_index]\n",
    "\n",
    "            t1_label = [self.vocab.pad_index] + t1_label + [self.vocab.pad_index]\n",
    "            t2_label = t2_label + [self.vocab.pad_index]\n",
    "\n",
    "            segment_label = ([1 for _ in range(len(t1))] + [2 for _ in range(len(t2))])[:self.seq_len]\n",
    "            bert_input = (t1 + t2)[:self.seq_len]\n",
    "            bert_label = (t1_label + t2_label)[:self.seq_len]\n",
    "\n",
    "            padding = [self.vocab.pad_index for _ in range(self.seq_len - len(bert_input))]#This would pad the input, output lable and sengement label up to the maximum length\n",
    "            bert_input.extend(padding), bert_label.extend(padding), segment_label.extend(padding)\n",
    "            bert_input_.append(bert_input)\n",
    "            bert_label_.append(bert_label)\n",
    "            segment_label_.append(segment_label)\n",
    "            is_next_.append(is_next_label)\n",
    "        return ([torch.tensor(bert_input_),torch.tensor(bert_label_),torch.tensor(segment_label_), torch.tensor(is_next_)])\n",
    "    def random_word(self, sentence):\n",
    "        tokens = sentence.split()\n",
    "        output_label = []\n",
    "\n",
    "        for i, token in enumerate(tokens):\n",
    "            prob = random.random()\n",
    "            if prob < 0.15:\n",
    "                prob /= 0.15\n",
    "\n",
    "                # 80% randomly change token to mask token\n",
    "                if prob < 0.8:\n",
    "                    tokens[i] = self.vocab.mask_index\n",
    "\n",
    "                # 10% randomly change token to random token\n",
    "                elif prob < 0.9:\n",
    "                    tokens[i] = random.randrange(len(self.vocab))\n",
    "\n",
    "                # 10% randomly change token to current token\n",
    "                else:\n",
    "                    tokens[i] = self.vocab.stoi.get(token, self.vocab.unk_index)\n",
    "\n",
    "                output_label.append(self.vocab.stoi.get(token, self.vocab.unk_index))\n",
    "\n",
    "            else:\n",
    "                tokens[i] = self.vocab.stoi.get(token, self.vocab.unk_index)\n",
    "                output_label.append(0)\n",
    "\n",
    "        return tokens, output_label\n",
    "\n",
    "    def random_sent(self, index,text):\n",
    "        t1, t2 = self.get_corpus_line(index,text)\n",
    "\n",
    "        # output_text, label(isNotNext:0, isNext:1)\n",
    "        if random.random() > 0.5:\n",
    "            return t1, t2, 1\n",
    "        else:\n",
    "            return t1, t2, 1 #0\n",
    "\n",
    "    def get_corpus_line(self, item,text):\n",
    "        if self.on_memory:\n",
    "            return text[item][0], text[item][1]\n",
    "        \"\"\"else:\n",
    "            line = self.file.__next__()\n",
    "            if line is None:\n",
    "                self.file.close()\n",
    "                self.file = open(self.corpus_path, \"r\", encoding=self.encoding)\n",
    "                line = self.file.__next__()\n",
    "\n",
    "            t1, t2 = line[:-1].split(\"\\t\")\n",
    "            return t1, t2\"\"\"\n",
    "\n",
    "    def get_random_line(self,text):\n",
    "        if self.on_memory:\n",
    "            return text[random.randrange(len(text))][1]"
   ]
  },
  {
   "cell_type": "code",
   "execution_count": 74,
   "id": "3a0bdd3a",
   "metadata": {
    "execution": {
     "iopub.execute_input": "2022-04-25T12:41:19.950090Z",
     "iopub.status.busy": "2022-04-25T12:41:19.949228Z",
     "iopub.status.idle": "2022-04-25T12:41:19.951646Z",
     "shell.execute_reply": "2022-04-25T12:41:19.951246Z",
     "shell.execute_reply.started": "2022-04-25T11:38:57.783471Z"
    },
    "papermill": {
     "duration": 0.099608,
     "end_time": "2022-04-25T12:41:19.951773",
     "exception": false,
     "start_time": "2022-04-25T12:41:19.852165",
     "status": "completed"
    },
    "tags": []
   },
   "outputs": [],
   "source": [
    "train_data = BERTDataset(newvocab,256, listIds,label )"
   ]
  },
  {
   "cell_type": "code",
   "execution_count": 75,
   "id": "220ac424",
   "metadata": {
    "execution": {
     "iopub.execute_input": "2022-04-25T12:41:20.142132Z",
     "iopub.status.busy": "2022-04-25T12:41:20.141314Z",
     "iopub.status.idle": "2022-04-25T12:41:20.143276Z",
     "shell.execute_reply": "2022-04-25T12:41:20.143644Z",
     "shell.execute_reply.started": "2022-04-25T11:38:57.792581Z"
    },
    "papermill": {
     "duration": 0.098511,
     "end_time": "2022-04-25T12:41:20.143793",
     "exception": false,
     "start_time": "2022-04-25T12:41:20.045282",
     "status": "completed"
    },
    "tags": []
   },
   "outputs": [],
   "source": [
    "#a  = data['processedText'][0]"
   ]
  },
  {
   "cell_type": "code",
   "execution_count": 76,
   "id": "9b8cd853",
   "metadata": {
    "execution": {
     "iopub.execute_input": "2022-04-25T12:41:20.340563Z",
     "iopub.status.busy": "2022-04-25T12:41:20.339907Z",
     "iopub.status.idle": "2022-04-25T12:41:20.342778Z",
     "shell.execute_reply": "2022-04-25T12:41:20.343178Z",
     "shell.execute_reply.started": "2022-04-25T11:38:57.801051Z"
    },
    "papermill": {
     "duration": 0.106846,
     "end_time": "2022-04-25T12:41:20.343340",
     "exception": false,
     "start_time": "2022-04-25T12:41:20.236494",
     "status": "completed"
    },
    "tags": []
   },
   "outputs": [
    {
     "data": {
      "text/plain": [
       "(torch.Size([4, 256]), 4)"
      ]
     },
     "execution_count": 76,
     "metadata": {},
     "output_type": "execute_result"
    }
   ],
   "source": [
    "train_data[1][0].shape, len(train_data[1])"
   ]
  },
  {
   "cell_type": "code",
   "execution_count": 77,
   "id": "daa26ae1",
   "metadata": {
    "execution": {
     "iopub.execute_input": "2022-04-25T12:41:20.546849Z",
     "iopub.status.busy": "2022-04-25T12:41:20.545888Z",
     "iopub.status.idle": "2022-04-25T12:41:20.548555Z",
     "shell.execute_reply": "2022-04-25T12:41:20.547692Z",
     "shell.execute_reply.started": "2022-04-25T11:38:57.814430Z"
    },
    "papermill": {
     "duration": 0.109672,
     "end_time": "2022-04-25T12:41:20.548752",
     "exception": false,
     "start_time": "2022-04-25T12:41:20.439080",
     "status": "completed"
    },
    "tags": []
   },
   "outputs": [],
   "source": [
    "import argparse\n"
   ]
  },
  {
   "cell_type": "code",
   "execution_count": 78,
   "id": "4e66af4e",
   "metadata": {
    "execution": {
     "iopub.execute_input": "2022-04-25T12:41:20.892839Z",
     "iopub.status.busy": "2022-04-25T12:41:20.891811Z",
     "iopub.status.idle": "2022-04-25T12:41:20.896751Z",
     "shell.execute_reply": "2022-04-25T12:41:20.897436Z",
     "shell.execute_reply.started": "2022-04-25T11:38:57.821901Z"
    },
    "papermill": {
     "duration": 0.178728,
     "end_time": "2022-04-25T12:41:20.897635",
     "exception": false,
     "start_time": "2022-04-25T12:41:20.718907",
     "status": "completed"
    },
    "tags": []
   },
   "outputs": [],
   "source": [
    "parser = argparse.ArgumentParser()\n",
    "parser.add_argument(\"-hs\", \"--hidden\", type=int, default=512, help=\"hidden size of transformer model\")\n",
    "parser.add_argument(\"-l\", \"--layers\", type=int, default=8, help=\"number of layers\")\n",
    "parser.add_argument(\"-a\", \"--attn_heads\", type=int, default=8, help=\"number of attention heads\")\n",
    "parser.add_argument(\"-s\", \"--seq_len\", type=int, default=20, help=\"maximum sequence len\")\n",
    "\n",
    "parser.add_argument(\"-b\", \"--batch_size\", type=int, default=64, help=\"number of batch_size\")\n",
    "parser.add_argument(\"-e\", \"--epochs\", type=int, default=10, help=\"number of epochs\")\n",
    "parser.add_argument(\"-w\", \"--num_workers\", type=int, default=5, help=\"dataloader worker size\")\n",
    "parser.add_argument(\"-steps\", \"--warm_up_step\", type=int, default=1000, help=\"dataloader worker size\")\n",
    "\n",
    "parser.add_argument(\"--with_cuda\", type=bool, default=True, help=\"training with CUDA: true, or false\")\n",
    "parser.add_argument(\"--log_freq\", type=int, default=10, help=\"printing loss every n iter: setting n\")\n",
    "parser.add_argument(\"--corpus_lines\", type=int, default=None, help=\"total number of lines in corpus\")\n",
    "parser.add_argument(\"--cuda_devices\", type=int, nargs='+', default=None, help=\"CUDA device ids\")\n",
    "parser.add_argument(\"--on_memory\", type=bool, default=True, help=\"Loading on memory: true or false\")\n",
    "\n",
    "parser.add_argument(\"--lr\", type=float, default=1e-3, help=\"learning rate of adam\")\n",
    "parser.add_argument(\"--adam_weight_decay\", type=float, default=0.01, help=\"weight_decay of adam\")\n",
    "parser.add_argument(\"--adam_beta1\", type=float, default=0.9, help=\"adam first beta value\")\n",
    "parser.add_argument(\"--adam_beta2\", type=float, default=0.999, help=\"adam first beta value\")\n",
    "args = parser.parse_args(\"\")"
   ]
  },
  {
   "cell_type": "code",
   "execution_count": 79,
   "id": "9e405a4b",
   "metadata": {
    "execution": {
     "iopub.execute_input": "2022-04-25T12:41:21.225530Z",
     "iopub.status.busy": "2022-04-25T12:41:21.224663Z",
     "iopub.status.idle": "2022-04-25T12:41:21.226904Z",
     "shell.execute_reply": "2022-04-25T12:41:21.226268Z",
     "shell.execute_reply.started": "2022-04-25T11:38:57.837407Z"
    },
    "papermill": {
     "duration": 0.164041,
     "end_time": "2022-04-25T12:41:21.227076",
     "exception": false,
     "start_time": "2022-04-25T12:41:21.063035",
     "status": "completed"
    },
    "tags": []
   },
   "outputs": [],
   "source": [
    "betas=(0.9, 0.999)\n"
   ]
  },
  {
   "cell_type": "code",
   "execution_count": 80,
   "id": "92602529",
   "metadata": {
    "execution": {
     "iopub.execute_input": "2022-04-25T12:41:21.545458Z",
     "iopub.status.busy": "2022-04-25T12:41:21.544465Z",
     "iopub.status.idle": "2022-04-25T12:41:21.548314Z",
     "shell.execute_reply": "2022-04-25T12:41:21.546239Z",
     "shell.execute_reply.started": "2022-04-25T11:38:57.848026Z"
    },
    "papermill": {
     "duration": 0.166248,
     "end_time": "2022-04-25T12:41:21.548475",
     "exception": false,
     "start_time": "2022-04-25T12:41:21.382227",
     "status": "completed"
    },
    "tags": []
   },
   "outputs": [
    {
     "data": {
      "text/plain": [
       "Namespace(adam_beta1=0.9, adam_beta2=0.999, adam_weight_decay=0.01, attn_heads=8, batch_size=64, corpus_lines=None, cuda_devices=None, epochs=10, hidden=512, layers=8, log_freq=10, lr=0.001, num_workers=5, on_memory=True, seq_len=20, warm_up_step=1000, with_cuda=True)"
      ]
     },
     "execution_count": 80,
     "metadata": {},
     "output_type": "execute_result"
    }
   ],
   "source": [
    "args"
   ]
  },
  {
   "cell_type": "markdown",
   "id": "558a6fcf",
   "metadata": {
    "papermill": {
     "duration": 0.148308,
     "end_time": "2022-04-25T12:41:21.850598",
     "exception": false,
     "start_time": "2022-04-25T12:41:21.702290",
     "status": "completed"
    },
    "tags": []
   },
   "source": [
    "### Define model hyper parameter"
   ]
  },
  {
   "cell_type": "code",
   "execution_count": 81,
   "id": "375e4679",
   "metadata": {
    "execution": {
     "iopub.execute_input": "2022-04-25T12:41:22.052501Z",
     "iopub.status.busy": "2022-04-25T12:41:22.051684Z",
     "iopub.status.idle": "2022-04-25T12:41:22.054092Z",
     "shell.execute_reply": "2022-04-25T12:41:22.053693Z",
     "shell.execute_reply.started": "2022-04-25T11:38:57.858051Z"
    },
    "papermill": {
     "duration": 0.107229,
     "end_time": "2022-04-25T12:41:22.054228",
     "exception": false,
     "start_time": "2022-04-25T12:41:21.946999",
     "status": "completed"
    },
    "tags": []
   },
   "outputs": [],
   "source": [
    "class ScheduledOptim():\n",
    "    '''A simple wrapper class for learning rate scheduling'''\n",
    "\n",
    "    def __init__(self, optimizer, d_model, n_warmup_steps):\n",
    "        self._optimizer = optimizer\n",
    "        self.n_warmup_steps = n_warmup_steps\n",
    "        self.n_current_steps = 0\n",
    "        self.init_lr = np.power(d_model, -0.5)\n",
    "\n",
    "    def step_and_update_lr(self):\n",
    "        \"Step with the inner optimizer\"\n",
    "        self._update_learning_rate()\n",
    "        self._optimizer.step()\n",
    "\n",
    "    def zero_grad(self):\n",
    "        \"Zero out the gradients by the inner optimizer\"\n",
    "        self._optimizer.zero_grad()\n",
    "\n",
    "    def _get_lr_scale(self):\n",
    "        return np.min([\n",
    "            np.power(self.n_current_steps, -0.5),\n",
    "            np.power(self.n_warmup_steps, -1.5) * self.n_current_steps])\n",
    "\n",
    "    def _update_learning_rate(self):\n",
    "        ''' Learning rate scheduling per step '''\n",
    "\n",
    "        self.n_current_steps += 1\n",
    "        lr = self.init_lr * self._get_lr_scale()\n",
    "\n",
    "        for param_group in self._optimizer.param_groups:\n",
    "            param_group['lr'] = lr"
   ]
  },
  {
   "cell_type": "code",
   "execution_count": 82,
   "id": "f661848f",
   "metadata": {
    "execution": {
     "iopub.execute_input": "2022-04-25T12:41:22.247644Z",
     "iopub.status.busy": "2022-04-25T12:41:22.246824Z",
     "iopub.status.idle": "2022-04-25T12:41:22.248855Z",
     "shell.execute_reply": "2022-04-25T12:41:22.249235Z",
     "shell.execute_reply.started": "2022-04-25T11:38:57.876773Z"
    },
    "papermill": {
     "duration": 0.101453,
     "end_time": "2022-04-25T12:41:22.249374",
     "exception": false,
     "start_time": "2022-04-25T12:41:22.147921",
     "status": "completed"
    },
    "tags": []
   },
   "outputs": [],
   "source": [
    "from torch.optim import Adam\n",
    "optim = Adam(model.parameters(), lr=args.lr, betas=betas, weight_decay=args.adam_weight_decay)\n",
    "optim_schedule = ScheduledOptim(optim, args.hidden, n_warmup_steps=args.warm_up_step)\n",
    "#criterion = nn.NLLLoss(ignore_index=0)\n",
    "#log_freq = args.log_freq"
   ]
  },
  {
   "cell_type": "code",
   "execution_count": 83,
   "id": "76ca2e9e",
   "metadata": {
    "execution": {
     "iopub.execute_input": "2022-04-25T12:41:22.442178Z",
     "iopub.status.busy": "2022-04-25T12:41:22.441334Z",
     "iopub.status.idle": "2022-04-25T12:41:22.443133Z",
     "shell.execute_reply": "2022-04-25T12:41:22.443589Z",
     "shell.execute_reply.started": "2022-04-25T11:38:57.884007Z"
    },
    "papermill": {
     "duration": 0.100157,
     "end_time": "2022-04-25T12:41:22.443728",
     "exception": false,
     "start_time": "2022-04-25T12:41:22.343571",
     "status": "completed"
    },
    "tags": []
   },
   "outputs": [],
   "source": [
    "model.parameters()\n",
    "criterion = nn.NLLLoss(ignore_index=0)\n"
   ]
  },
  {
   "cell_type": "code",
   "execution_count": 84,
   "id": "e7bd25af",
   "metadata": {
    "execution": {
     "iopub.execute_input": "2022-04-25T12:41:22.635375Z",
     "iopub.status.busy": "2022-04-25T12:41:22.634512Z",
     "iopub.status.idle": "2022-04-25T12:41:22.636362Z",
     "shell.execute_reply": "2022-04-25T12:41:22.636817Z",
     "shell.execute_reply.started": "2022-04-25T11:38:57.894463Z"
    },
    "papermill": {
     "duration": 0.099702,
     "end_time": "2022-04-25T12:41:22.636950",
     "exception": false,
     "start_time": "2022-04-25T12:41:22.537248",
     "status": "completed"
    },
    "tags": []
   },
   "outputs": [],
   "source": [
    "avg_loss = 0.0\n",
    "total_correct = 0\n",
    "total_element = 0"
   ]
  },
  {
   "cell_type": "code",
   "execution_count": 85,
   "id": "b251b876",
   "metadata": {
    "execution": {
     "iopub.execute_input": "2022-04-25T12:41:22.836298Z",
     "iopub.status.busy": "2022-04-25T12:41:22.835376Z",
     "iopub.status.idle": "2022-04-25T12:41:22.837279Z",
     "shell.execute_reply": "2022-04-25T12:41:22.837813Z",
     "shell.execute_reply.started": "2022-04-25T11:38:57.900971Z"
    },
    "papermill": {
     "duration": 0.107759,
     "end_time": "2022-04-25T12:41:22.837951",
     "exception": false,
     "start_time": "2022-04-25T12:41:22.730192",
     "status": "completed"
    },
    "tags": []
   },
   "outputs": [],
   "source": [
    "sampleData = train_data[1]"
   ]
  },
  {
   "cell_type": "code",
   "execution_count": 86,
   "id": "f3b92862",
   "metadata": {
    "execution": {
     "iopub.execute_input": "2022-04-25T12:41:23.036911Z",
     "iopub.status.busy": "2022-04-25T12:41:23.036327Z",
     "iopub.status.idle": "2022-04-25T12:41:23.038978Z",
     "shell.execute_reply": "2022-04-25T12:41:23.039454Z",
     "shell.execute_reply.started": "2022-04-25T11:38:57.909942Z"
    },
    "papermill": {
     "duration": 0.10215,
     "end_time": "2022-04-25T12:41:23.039605",
     "exception": false,
     "start_time": "2022-04-25T12:41:22.937455",
     "status": "completed"
    },
    "tags": []
   },
   "outputs": [
    {
     "data": {
      "text/plain": [
       "torch.Size([4, 256])"
      ]
     },
     "execution_count": 86,
     "metadata": {},
     "output_type": "execute_result"
    }
   ],
   "source": [
    "sampleData[0].shape"
   ]
  },
  {
   "cell_type": "code",
   "execution_count": 87,
   "id": "67fe3a86",
   "metadata": {
    "execution": {
     "iopub.execute_input": "2022-04-25T12:41:23.232657Z",
     "iopub.status.busy": "2022-04-25T12:41:23.231829Z",
     "iopub.status.idle": "2022-04-25T12:41:23.235464Z",
     "shell.execute_reply": "2022-04-25T12:41:23.235032Z",
     "shell.execute_reply.started": "2022-04-25T11:38:57.920817Z"
    },
    "papermill": {
     "duration": 0.100315,
     "end_time": "2022-04-25T12:41:23.235581",
     "exception": false,
     "start_time": "2022-04-25T12:41:23.135266",
     "status": "completed"
    },
    "tags": []
   },
   "outputs": [],
   "source": [
    "#model.train()"
   ]
  },
  {
   "cell_type": "code",
   "execution_count": 88,
   "id": "7430aa17",
   "metadata": {
    "execution": {
     "iopub.execute_input": "2022-04-25T12:41:23.431074Z",
     "iopub.status.busy": "2022-04-25T12:41:23.430223Z",
     "iopub.status.idle": "2022-04-25T12:41:23.431929Z",
     "shell.execute_reply": "2022-04-25T12:41:23.432392Z",
     "shell.execute_reply.started": "2022-04-25T11:38:57.929173Z"
    },
    "papermill": {
     "duration": 0.100018,
     "end_time": "2022-04-25T12:41:23.432532",
     "exception": false,
     "start_time": "2022-04-25T12:41:23.332514",
     "status": "completed"
    },
    "tags": []
   },
   "outputs": [],
   "source": [
    "#(sampleData[2][3:4,:])"
   ]
  },
  {
   "cell_type": "code",
   "execution_count": 89,
   "id": "28eaa5d1",
   "metadata": {
    "execution": {
     "iopub.execute_input": "2022-04-25T12:41:23.623352Z",
     "iopub.status.busy": "2022-04-25T12:41:23.622621Z",
     "iopub.status.idle": "2022-04-25T12:41:23.624771Z",
     "shell.execute_reply": "2022-04-25T12:41:23.625227Z",
     "shell.execute_reply.started": "2022-04-25T11:38:57.936701Z"
    },
    "papermill": {
     "duration": 0.099806,
     "end_time": "2022-04-25T12:41:23.625372",
     "exception": false,
     "start_time": "2022-04-25T12:41:23.525566",
     "status": "completed"
    },
    "tags": []
   },
   "outputs": [],
   "source": [
    "#next_sent_output, mask_lm_output = model.forward(sampleData[0].to(device), sampleData[2].to(device))"
   ]
  },
  {
   "cell_type": "code",
   "execution_count": 90,
   "id": "8951abac",
   "metadata": {
    "execution": {
     "iopub.execute_input": "2022-04-25T12:41:23.817643Z",
     "iopub.status.busy": "2022-04-25T12:41:23.816879Z",
     "iopub.status.idle": "2022-04-25T12:41:23.819437Z",
     "shell.execute_reply": "2022-04-25T12:41:23.819015Z",
     "shell.execute_reply.started": "2022-04-25T11:38:57.945206Z"
    },
    "papermill": {
     "duration": 0.100647,
     "end_time": "2022-04-25T12:41:23.819553",
     "exception": false,
     "start_time": "2022-04-25T12:41:23.718906",
     "status": "completed"
    },
    "tags": []
   },
   "outputs": [],
   "source": [
    "#next_sent_output.shape, mask_lm_output.shape"
   ]
  },
  {
   "cell_type": "code",
   "execution_count": 91,
   "id": "ed2d2188",
   "metadata": {
    "execution": {
     "iopub.execute_input": "2022-04-25T12:41:24.012874Z",
     "iopub.status.busy": "2022-04-25T12:41:24.012253Z",
     "iopub.status.idle": "2022-04-25T12:41:24.014851Z",
     "shell.execute_reply": "2022-04-25T12:41:24.015273Z",
     "shell.execute_reply.started": "2022-04-25T11:38:57.952570Z"
    },
    "papermill": {
     "duration": 0.101542,
     "end_time": "2022-04-25T12:41:24.015413",
     "exception": false,
     "start_time": "2022-04-25T12:41:23.913871",
     "status": "completed"
    },
    "tags": []
   },
   "outputs": [
    {
     "data": {
      "text/plain": [
       "15000"
      ]
     },
     "execution_count": 91,
     "metadata": {},
     "output_type": "execute_result"
    }
   ],
   "source": [
    "len(train_data)"
   ]
  },
  {
   "cell_type": "code",
   "execution_count": 92,
   "id": "2b5eba2c",
   "metadata": {
    "execution": {
     "iopub.execute_input": "2022-04-25T12:41:24.318169Z",
     "iopub.status.busy": "2022-04-25T12:41:24.317298Z",
     "iopub.status.idle": "2022-04-25T12:41:24.319674Z",
     "shell.execute_reply": "2022-04-25T12:41:24.320222Z",
     "shell.execute_reply.started": "2022-04-25T11:38:57.962366Z"
    },
    "papermill": {
     "duration": 0.194516,
     "end_time": "2022-04-25T12:41:24.320434",
     "exception": false,
     "start_time": "2022-04-25T12:41:24.125918",
     "status": "completed"
    },
    "tags": []
   },
   "outputs": [],
   "source": [
    "import random\n",
    "docIdxs = [i+1 for i in range(len(train_data))]\n",
    "loss_val = []"
   ]
  },
  {
   "cell_type": "code",
   "execution_count": 93,
   "id": "f7c72e87",
   "metadata": {
    "execution": {
     "iopub.execute_input": "2022-04-25T12:41:24.645373Z",
     "iopub.status.busy": "2022-04-25T12:41:24.644496Z",
     "iopub.status.idle": "2022-04-25T20:56:03.861360Z",
     "shell.execute_reply": "2022-04-25T20:56:03.861824Z",
     "shell.execute_reply.started": "2022-04-25T11:55:47.829199Z"
    },
    "papermill": {
     "duration": 29679.384271,
     "end_time": "2022-04-25T20:56:03.861982",
     "exception": false,
     "start_time": "2022-04-25T12:41:24.477711",
     "status": "completed"
    },
    "tags": []
   },
   "outputs": [
    {
     "name": "stdout",
     "output_type": "stream",
     "text": [
      "Training for epoch  1\n",
      "10000\n",
      "avg_loss 7.701119273222654\n",
      "loss val [0.000513407951548177]\n",
      "Training for epoch  2\n",
      "10000\n",
      "avg_loss 4.629200781467428\n",
      "loss val [0.000513407951548177, 0.0003086133854311618]\n",
      "Training for epoch  3\n",
      "10000\n",
      "avg_loss 3.6046374673283648\n",
      "loss val [0.000513407951548177, 0.0003086133854311618, 0.00024030916448855764]\n",
      "Training for epoch  4\n",
      "10000\n",
      "avg_loss 3.0958640383093816\n",
      "loss val [0.000513407951548177, 0.0003086133854311618, 0.00024030916448855764, 0.0002063909358872921]\n",
      "Training for epoch  5\n",
      "10000\n",
      "avg_loss 2.7871143460692815\n",
      "loss val [0.000513407951548177, 0.0003086133854311618, 0.00024030916448855764, 0.0002063909358872921, 0.00018580762307128545]\n",
      "Training for epoch  6\n",
      "10000\n",
      "avg_loss 2.5819540553274805\n",
      "loss val [0.000513407951548177, 0.0003086133854311618, 0.00024030916448855764, 0.0002063909358872921, 0.00018580762307128545, 0.00017213027035516536]\n",
      "Training for epoch  7\n",
      "10000\n",
      "avg_loss 2.43682072885813\n",
      "loss val [0.000513407951548177, 0.0003086133854311618, 0.00024030916448855764, 0.0002063909358872921, 0.00018580762307128545, 0.00017213027035516536, 0.00016245471525720866]\n",
      "Training for epoch  8\n",
      "10000\n",
      "avg_loss 2.326765580062053\n",
      "loss val [0.000513407951548177, 0.0003086133854311618, 0.00024030916448855764, 0.0002063909358872921, 0.00018580762307128545, 0.00017213027035516536, 0.00016245471525720866, 0.0001551177053374702]\n",
      "Training for epoch  9\n",
      "10000\n",
      "avg_loss 2.2413127620748234\n",
      "loss val [0.000513407951548177, 0.0003086133854311618, 0.00024030916448855764, 0.0002063909358872921, 0.00018580762307128545, 0.00017213027035516536, 0.00016245471525720866, 0.0001551177053374702, 0.00014942085080498822]\n",
      "Training for epoch  10\n",
      "10000\n",
      "avg_loss 2.1733763533620634\n",
      "loss val [0.000513407951548177, 0.0003086133854311618, 0.00024030916448855764, 0.0002063909358872921, 0.00018580762307128545, 0.00017213027035516536, 0.00016245471525720866, 0.0001551177053374702, 0.00014942085080498822, 0.00014489175689080423]\n",
      "Training for epoch  11\n",
      "10000\n",
      "avg_loss 2.1171411944921448\n",
      "loss val [0.000513407951548177, 0.0003086133854311618, 0.00024030916448855764, 0.0002063909358872921, 0.00018580762307128545, 0.00017213027035516536, 0.00016245471525720866, 0.0001551177053374702, 0.00014942085080498822, 0.00014489175689080423, 0.00014114274629947632]\n",
      "Training for epoch  12\n",
      "10000\n",
      "avg_loss 2.0710349548308797\n",
      "loss val [0.000513407951548177, 0.0003086133854311618, 0.00024030916448855764, 0.0002063909358872921, 0.00018580762307128545, 0.00017213027035516536, 0.00016245471525720866, 0.0001551177053374702, 0.00014942085080498822, 0.00014489175689080423, 0.00014114274629947632, 0.0001380689969887253]\n",
      "Training for epoch  13\n",
      "10000\n",
      "avg_loss 2.0314790261119957\n",
      "loss val [0.000513407951548177, 0.0003086133854311618, 0.00024030916448855764, 0.0002063909358872921, 0.00018580762307128545, 0.00017213027035516536, 0.00016245471525720866, 0.0001551177053374702, 0.00014942085080498822, 0.00014489175689080423, 0.00014114274629947632, 0.0001380689969887253, 0.00013543193507413304]\n",
      "Training for epoch  14\n",
      "10000\n",
      "avg_loss 1.997156113803964\n",
      "loss val [0.000513407951548177, 0.0003086133854311618, 0.00024030916448855764, 0.0002063909358872921, 0.00018580762307128545, 0.00017213027035516536, 0.00016245471525720866, 0.0001551177053374702, 0.00014942085080498822, 0.00014489175689080423, 0.00014114274629947632, 0.0001380689969887253, 0.00013543193507413304, 0.00013314374092026425]\n",
      "Training for epoch  15\n",
      "10000\n",
      "avg_loss 1.966998112342666\n",
      "loss val [0.000513407951548177, 0.0003086133854311618, 0.00024030916448855764, 0.0002063909358872921, 0.00018580762307128545, 0.00017213027035516536, 0.00016245471525720866, 0.0001551177053374702, 0.00014942085080498822, 0.00014489175689080423, 0.00014114274629947632, 0.0001380689969887253, 0.00013543193507413304, 0.00013314374092026425, 0.00013113320748951108]\n",
      "Training for epoch  16\n",
      "10000\n",
      "avg_loss 1.9408654577664903\n",
      "loss val [0.000513407951548177, 0.0003086133854311618, 0.00024030916448855764, 0.0002063909358872921, 0.00018580762307128545, 0.00017213027035516536, 0.00016245471525720866, 0.0001551177053374702, 0.00014942085080498822, 0.00014489175689080423, 0.00014114274629947632, 0.0001380689969887253, 0.00013543193507413304, 0.00013314374092026425, 0.00013113320748951108, 0.00012939103051776602]\n",
      "Training for epoch  17\n",
      "10000\n",
      "avg_loss 1.9177595997912467\n",
      "loss val [0.000513407951548177, 0.0003086133854311618, 0.00024030916448855764, 0.0002063909358872921, 0.00018580762307128545, 0.00017213027035516536, 0.00016245471525720866, 0.0001551177053374702, 0.00014942085080498822, 0.00014489175689080423, 0.00014114274629947632, 0.0001380689969887253, 0.00013543193507413304, 0.00013314374092026425, 0.00013113320748951108, 0.00012939103051776602, 0.0001278506399860831]\n",
      "Training for epoch  18\n",
      "10000\n",
      "avg_loss 1.8966645222589495\n",
      "loss val [0.000513407951548177, 0.0003086133854311618, 0.00024030916448855764, 0.0002063909358872921, 0.00018580762307128545, 0.00017213027035516536, 0.00016245471525720866, 0.0001551177053374702, 0.00014942085080498822, 0.00014489175689080423, 0.00014114274629947632, 0.0001380689969887253, 0.00013543193507413304, 0.00013314374092026425, 0.00013113320748951108, 0.00012939103051776602, 0.0001278506399860831, 0.00012644430148392997]\n",
      "Training for epoch  19\n",
      "10000\n",
      "avg_loss 1.8786310896435372\n",
      "loss val [0.000513407951548177, 0.0003086133854311618, 0.00024030916448855764, 0.0002063909358872921, 0.00018580762307128545, 0.00017213027035516536, 0.00016245471525720866, 0.0001551177053374702, 0.00014942085080498822, 0.00014489175689080423, 0.00014114274629947632, 0.0001380689969887253, 0.00013543193507413304, 0.00013314374092026425, 0.00013113320748951108, 0.00012939103051776602, 0.0001278506399860831, 0.00012644430148392997, 0.00012524207264290248]\n",
      "Training for epoch  20\n",
      "10000\n",
      "avg_loss 1.8623861573183849\n",
      "loss val [0.000513407951548177, 0.0003086133854311618, 0.00024030916448855764, 0.0002063909358872921, 0.00018580762307128545, 0.00017213027035516536, 0.00016245471525720866, 0.0001551177053374702, 0.00014942085080498822, 0.00014489175689080423, 0.00014114274629947632, 0.0001380689969887253, 0.00013543193507413304, 0.00013314374092026425, 0.00013113320748951108, 0.00012939103051776602, 0.0001278506399860831, 0.00012644430148392997, 0.00012524207264290248, 0.000124159077154559]\n",
      "Training for epoch  21\n",
      "10000\n",
      "avg_loss 1.8472977132307495\n",
      "loss val [0.000513407951548177, 0.0003086133854311618, 0.00024030916448855764, 0.0002063909358872921, 0.00018580762307128545, 0.00017213027035516536, 0.00016245471525720866, 0.0001551177053374702, 0.00014942085080498822, 0.00014489175689080423, 0.00014114274629947632, 0.0001380689969887253, 0.00013543193507413304, 0.00013314374092026425, 0.00013113320748951108, 0.00012939103051776602, 0.0001278506399860831, 0.00012644430148392997, 0.00012524207264290248, 0.000124159077154559, 0.00012315318088204996]\n",
      "Training for epoch  22\n",
      "10000\n",
      "avg_loss 1.8344144914709053\n",
      "loss val [0.000513407951548177, 0.0003086133854311618, 0.00024030916448855764, 0.0002063909358872921, 0.00018580762307128545, 0.00017213027035516536, 0.00016245471525720866, 0.0001551177053374702, 0.00014942085080498822, 0.00014489175689080423, 0.00014114274629947632, 0.0001380689969887253, 0.00013543193507413304, 0.00013314374092026425, 0.00013113320748951108, 0.00012939103051776602, 0.0001278506399860831, 0.00012644430148392997, 0.00012524207264290248, 0.000124159077154559, 0.00012315318088204996, 0.0001222942994313937]\n",
      "Training for epoch  23\n",
      "10000\n",
      "avg_loss 1.8223864009324502\n",
      "loss val [0.000513407951548177, 0.0003086133854311618, 0.00024030916448855764, 0.0002063909358872921, 0.00018580762307128545, 0.00017213027035516536, 0.00016245471525720866, 0.0001551177053374702, 0.00014942085080498822, 0.00014489175689080423, 0.00014114274629947632, 0.0001380689969887253, 0.00013543193507413304, 0.00013314374092026425, 0.00013113320748951108, 0.00012939103051776602, 0.0001278506399860831, 0.00012644430148392997, 0.00012524207264290248, 0.000124159077154559, 0.00012315318088204996, 0.0001222942994313937, 0.00012149242672883001]\n",
      "Training for epoch  24\n",
      "10000\n",
      "avg_loss 1.811335825825184\n",
      "loss val [0.000513407951548177, 0.0003086133854311618, 0.00024030916448855764, 0.0002063909358872921, 0.00018580762307128545, 0.00017213027035516536, 0.00016245471525720866, 0.0001551177053374702, 0.00014942085080498822, 0.00014489175689080423, 0.00014114274629947632, 0.0001380689969887253, 0.00013543193507413304, 0.00013314374092026425, 0.00013113320748951108, 0.00012939103051776602, 0.0001278506399860831, 0.00012644430148392997, 0.00012524207264290248, 0.000124159077154559, 0.00012315318088204996, 0.0001222942994313937, 0.00012149242672883001, 0.00012075572172167893]\n",
      "Training for epoch  25\n",
      "10000\n",
      "avg_loss 1.8010651974384566\n",
      "loss val [0.000513407951548177, 0.0003086133854311618, 0.00024030916448855764, 0.0002063909358872921, 0.00018580762307128545, 0.00017213027035516536, 0.00016245471525720866, 0.0001551177053374702, 0.00014942085080498822, 0.00014489175689080423, 0.00014114274629947632, 0.0001380689969887253, 0.00013543193507413304, 0.00013314374092026425, 0.00013113320748951108, 0.00012939103051776602, 0.0001278506399860831, 0.00012644430148392997, 0.00012524207264290248, 0.000124159077154559, 0.00012315318088204996, 0.0001222942994313937, 0.00012149242672883001, 0.00012075572172167893, 0.00012007101316256377]\n",
      "Training for epoch  26\n",
      "10000\n",
      "avg_loss 1.7912847621182026\n",
      "loss val [0.000513407951548177, 0.0003086133854311618, 0.00024030916448855764, 0.0002063909358872921, 0.00018580762307128545, 0.00017213027035516536, 0.00016245471525720866, 0.0001551177053374702, 0.00014942085080498822, 0.00014489175689080423, 0.00014114274629947632, 0.0001380689969887253, 0.00013543193507413304, 0.00013314374092026425, 0.00013113320748951108, 0.00012939103051776602, 0.0001278506399860831, 0.00012644430148392997, 0.00012524207264290248, 0.000124159077154559, 0.00012315318088204996, 0.0001222942994313937, 0.00012149242672883001, 0.00012075572172167893, 0.00012007101316256377, 0.00011941898414121351]\n",
      "Training for epoch  27\n",
      "10000\n",
      "avg_loss 1.7824159551901346\n",
      "loss val [0.000513407951548177, 0.0003086133854311618, 0.00024030916448855764, 0.0002063909358872921, 0.00018580762307128545, 0.00017213027035516536, 0.00016245471525720866, 0.0001551177053374702, 0.00014942085080498822, 0.00014489175689080423, 0.00014114274629947632, 0.0001380689969887253, 0.00013543193507413304, 0.00013314374092026425, 0.00013113320748951108, 0.00012939103051776602, 0.0001278506399860831, 0.00012644430148392997, 0.00012524207264290248, 0.000124159077154559, 0.00012315318088204996, 0.0001222942994313937, 0.00012149242672883001, 0.00012075572172167893, 0.00012007101316256377, 0.00011941898414121351, 0.00011882773034600898]\n",
      "Training for epoch  28\n",
      "10000\n",
      "avg_loss 1.774467377980768\n",
      "loss val [0.000513407951548177, 0.0003086133854311618, 0.00024030916448855764, 0.0002063909358872921, 0.00018580762307128545, 0.00017213027035516536, 0.00016245471525720866, 0.0001551177053374702, 0.00014942085080498822, 0.00014489175689080423, 0.00014114274629947632, 0.0001380689969887253, 0.00013543193507413304, 0.00013314374092026425, 0.00013113320748951108, 0.00012939103051776602, 0.0001278506399860831, 0.00012644430148392997, 0.00012524207264290248, 0.000124159077154559, 0.00012315318088204996, 0.0001222942994313937, 0.00012149242672883001, 0.00012075572172167893, 0.00012007101316256377, 0.00011941898414121351, 0.00011882773034600898, 0.00011829782519871787]\n",
      "Training for epoch  29\n",
      "10000\n",
      "avg_loss 1.7672468162746602\n",
      "loss val [0.000513407951548177, 0.0003086133854311618, 0.00024030916448855764, 0.0002063909358872921, 0.00018580762307128545, 0.00017213027035516536, 0.00016245471525720866, 0.0001551177053374702, 0.00014942085080498822, 0.00014489175689080423, 0.00014114274629947632, 0.0001380689969887253, 0.00013543193507413304, 0.00013314374092026425, 0.00013113320748951108, 0.00012939103051776602, 0.0001278506399860831, 0.00012644430148392997, 0.00012524207264290248, 0.000124159077154559, 0.00012315318088204996, 0.0001222942994313937, 0.00012149242672883001, 0.00012075572172167893, 0.00012007101316256377, 0.00011941898414121351, 0.00011882773034600898, 0.00011829782519871787, 0.00011781645441831068]\n",
      "Training for epoch  30\n",
      "10000\n",
      "avg_loss 1.7602061737500603\n",
      "loss val [0.000513407951548177, 0.0003086133854311618, 0.00024030916448855764, 0.0002063909358872921, 0.00018580762307128545, 0.00017213027035516536, 0.00016245471525720866, 0.0001551177053374702, 0.00014942085080498822, 0.00014489175689080423, 0.00014114274629947632, 0.0001380689969887253, 0.00013543193507413304, 0.00013314374092026425, 0.00013113320748951108, 0.00012939103051776602, 0.0001278506399860831, 0.00012644430148392997, 0.00012524207264290248, 0.000124159077154559, 0.00012315318088204996, 0.0001222942994313937, 0.00012149242672883001, 0.00012075572172167893, 0.00012007101316256377, 0.00011941898414121351, 0.00011882773034600898, 0.00011829782519871787, 0.00011781645441831068, 0.00011734707825000402]\n",
      "Training for epoch  31\n",
      "10000\n",
      "avg_loss 1.7537733923815344\n",
      "loss val [0.000513407951548177, 0.0003086133854311618, 0.00024030916448855764, 0.0002063909358872921, 0.00018580762307128545, 0.00017213027035516536, 0.00016245471525720866, 0.0001551177053374702, 0.00014942085080498822, 0.00014489175689080423, 0.00014114274629947632, 0.0001380689969887253, 0.00013543193507413304, 0.00013314374092026425, 0.00013113320748951108, 0.00012939103051776602, 0.0001278506399860831, 0.00012644430148392997, 0.00012524207264290248, 0.000124159077154559, 0.00012315318088204996, 0.0001222942994313937, 0.00012149242672883001, 0.00012075572172167893, 0.00012007101316256377, 0.00011941898414121351, 0.00011882773034600898, 0.00011829782519871787, 0.00011781645441831068, 0.00011734707825000402, 0.00011691822615876897]\n",
      "Training for epoch  32\n",
      "10000\n",
      "avg_loss 1.7473895645779\n",
      "loss val [0.000513407951548177, 0.0003086133854311618, 0.00024030916448855764, 0.0002063909358872921, 0.00018580762307128545, 0.00017213027035516536, 0.00016245471525720866, 0.0001551177053374702, 0.00014942085080498822, 0.00014489175689080423, 0.00014114274629947632, 0.0001380689969887253, 0.00013543193507413304, 0.00013314374092026425, 0.00013113320748951108, 0.00012939103051776602, 0.0001278506399860831, 0.00012644430148392997, 0.00012524207264290248, 0.000124159077154559, 0.00012315318088204996, 0.0001222942994313937, 0.00012149242672883001, 0.00012075572172167893, 0.00012007101316256377, 0.00011941898414121351, 0.00011882773034600898, 0.00011829782519871787, 0.00011781645441831068, 0.00011734707825000402, 0.00011691822615876897, 0.00011649263763852668]\n",
      "Training for epoch  33\n",
      "10000\n",
      "avg_loss 1.7419079762785206\n",
      "loss val [0.000513407951548177, 0.0003086133854311618, 0.00024030916448855764, 0.0002063909358872921, 0.00018580762307128545, 0.00017213027035516536, 0.00016245471525720866, 0.0001551177053374702, 0.00014942085080498822, 0.00014489175689080423, 0.00014114274629947632, 0.0001380689969887253, 0.00013543193507413304, 0.00013314374092026425, 0.00013113320748951108, 0.00012939103051776602, 0.0001278506399860831, 0.00012644430148392997, 0.00012524207264290248, 0.000124159077154559, 0.00012315318088204996, 0.0001222942994313937, 0.00012149242672883001, 0.00012075572172167893, 0.00012007101316256377, 0.00011941898414121351, 0.00011882773034600898, 0.00011829782519871787, 0.00011781645441831068, 0.00011734707825000402, 0.00011691822615876897, 0.00011649263763852668, 0.00011612719841856804]\n",
      "Training for epoch  34\n",
      "10000\n",
      "avg_loss 1.7368781953384969\n",
      "loss val [0.000513407951548177, 0.0003086133854311618, 0.00024030916448855764, 0.0002063909358872921, 0.00018580762307128545, 0.00017213027035516536, 0.00016245471525720866, 0.0001551177053374702, 0.00014942085080498822, 0.00014489175689080423, 0.00014114274629947632, 0.0001380689969887253, 0.00013543193507413304, 0.00013314374092026425, 0.00013113320748951108, 0.00012939103051776602, 0.0001278506399860831, 0.00012644430148392997, 0.00012524207264290248, 0.000124159077154559, 0.00012315318088204996, 0.0001222942994313937, 0.00012149242672883001, 0.00012075572172167893, 0.00012007101316256377, 0.00011941898414121351, 0.00011882773034600898, 0.00011829782519871787, 0.00011781645441831068, 0.00011734707825000402, 0.00011691822615876897, 0.00011649263763852668, 0.00011612719841856804, 0.00011579187968923312]\n",
      "Training for epoch  35\n",
      "10000\n",
      "avg_loss 1.73134616141122\n",
      "loss val [0.000513407951548177, 0.0003086133854311618, 0.00024030916448855764, 0.0002063909358872921, 0.00018580762307128545, 0.00017213027035516536, 0.00016245471525720866, 0.0001551177053374702, 0.00014942085080498822, 0.00014489175689080423, 0.00014114274629947632, 0.0001380689969887253, 0.00013543193507413304, 0.00013314374092026425, 0.00013113320748951108, 0.00012939103051776602, 0.0001278506399860831, 0.00012644430148392997, 0.00012524207264290248, 0.000124159077154559, 0.00012315318088204996, 0.0001222942994313937, 0.00012149242672883001, 0.00012075572172167893, 0.00012007101316256377, 0.00011941898414121351, 0.00011882773034600898, 0.00011829782519871787, 0.00011781645441831068, 0.00011734707825000402, 0.00011691822615876897, 0.00011649263763852668, 0.00011612719841856804, 0.00011579187968923312, 0.00011542307742741467]\n",
      "Training for epoch  36\n",
      "10000\n",
      "avg_loss 1.7266795415372596\n",
      "loss val [0.000513407951548177, 0.0003086133854311618, 0.00024030916448855764, 0.0002063909358872921, 0.00018580762307128545, 0.00017213027035516536, 0.00016245471525720866, 0.0001551177053374702, 0.00014942085080498822, 0.00014489175689080423, 0.00014114274629947632, 0.0001380689969887253, 0.00013543193507413304, 0.00013314374092026425, 0.00013113320748951108, 0.00012939103051776602, 0.0001278506399860831, 0.00012644430148392997, 0.00012524207264290248, 0.000124159077154559, 0.00012315318088204996, 0.0001222942994313937, 0.00012149242672883001, 0.00012075572172167893, 0.00012007101316256377, 0.00011941898414121351, 0.00011882773034600898, 0.00011829782519871787, 0.00011781645441831068, 0.00011734707825000402, 0.00011691822615876897, 0.00011649263763852668, 0.00011612719841856804, 0.00011579187968923312, 0.00011542307742741467, 0.00011511196943581731]\n",
      "Training for epoch  37\n",
      "10000\n",
      "avg_loss 1.7224275980895398\n",
      "loss val [0.000513407951548177, 0.0003086133854311618, 0.00024030916448855764, 0.0002063909358872921, 0.00018580762307128545, 0.00017213027035516536, 0.00016245471525720866, 0.0001551177053374702, 0.00014942085080498822, 0.00014489175689080423, 0.00014114274629947632, 0.0001380689969887253, 0.00013543193507413304, 0.00013314374092026425, 0.00013113320748951108, 0.00012939103051776602, 0.0001278506399860831, 0.00012644430148392997, 0.00012524207264290248, 0.000124159077154559, 0.00012315318088204996, 0.0001222942994313937, 0.00012149242672883001, 0.00012075572172167893, 0.00012007101316256377, 0.00011941898414121351, 0.00011882773034600898, 0.00011829782519871787, 0.00011781645441831068, 0.00011734707825000402, 0.00011691822615876897, 0.00011649263763852668, 0.00011612719841856804, 0.00011579187968923312, 0.00011542307742741467, 0.00011511196943581731, 0.00011482850653930266]\n",
      "Training for epoch  38\n",
      "10000\n",
      "avg_loss 1.7178466769166763\n",
      "loss val [0.000513407951548177, 0.0003086133854311618, 0.00024030916448855764, 0.0002063909358872921, 0.00018580762307128545, 0.00017213027035516536, 0.00016245471525720866, 0.0001551177053374702, 0.00014942085080498822, 0.00014489175689080423, 0.00014114274629947632, 0.0001380689969887253, 0.00013543193507413304, 0.00013314374092026425, 0.00013113320748951108, 0.00012939103051776602, 0.0001278506399860831, 0.00012644430148392997, 0.00012524207264290248, 0.000124159077154559, 0.00012315318088204996, 0.0001222942994313937, 0.00012149242672883001, 0.00012075572172167893, 0.00012007101316256377, 0.00011941898414121351, 0.00011882773034600898, 0.00011829782519871787, 0.00011781645441831068, 0.00011734707825000402, 0.00011691822615876897, 0.00011649263763852668, 0.00011612719841856804, 0.00011579187968923312, 0.00011542307742741467, 0.00011511196943581731, 0.00011482850653930266, 0.00011452311179444508]\n",
      "Training for epoch  39\n",
      "10000\n",
      "avg_loss 1.7135076622340062\n",
      "loss val [0.000513407951548177, 0.0003086133854311618, 0.00024030916448855764, 0.0002063909358872921, 0.00018580762307128545, 0.00017213027035516536, 0.00016245471525720866, 0.0001551177053374702, 0.00014942085080498822, 0.00014489175689080423, 0.00014114274629947632, 0.0001380689969887253, 0.00013543193507413304, 0.00013314374092026425, 0.00013113320748951108, 0.00012939103051776602, 0.0001278506399860831, 0.00012644430148392997, 0.00012524207264290248, 0.000124159077154559, 0.00012315318088204996, 0.0001222942994313937, 0.00012149242672883001, 0.00012075572172167893, 0.00012007101316256377, 0.00011941898414121351, 0.00011882773034600898, 0.00011829782519871787, 0.00011781645441831068, 0.00011734707825000402, 0.00011691822615876897, 0.00011649263763852668, 0.00011612719841856804, 0.00011579187968923312, 0.00011542307742741467, 0.00011511196943581731, 0.00011482850653930266, 0.00011452311179444508, 0.00011423384414893374]\n",
      "Training for epoch  40\n",
      "10000\n",
      "avg_loss 1.7094488520011386\n",
      "loss val [0.000513407951548177, 0.0003086133854311618, 0.00024030916448855764, 0.0002063909358872921, 0.00018580762307128545, 0.00017213027035516536, 0.00016245471525720866, 0.0001551177053374702, 0.00014942085080498822, 0.00014489175689080423, 0.00014114274629947632, 0.0001380689969887253, 0.00013543193507413304, 0.00013314374092026425, 0.00013113320748951108, 0.00012939103051776602, 0.0001278506399860831, 0.00012644430148392997, 0.00012524207264290248, 0.000124159077154559, 0.00012315318088204996, 0.0001222942994313937, 0.00012149242672883001, 0.00012075572172167893, 0.00012007101316256377, 0.00011941898414121351, 0.00011882773034600898, 0.00011829782519871787, 0.00011781645441831068, 0.00011734707825000402, 0.00011691822615876897, 0.00011649263763852668, 0.00011612719841856804, 0.00011579187968923312, 0.00011542307742741467, 0.00011511196943581731, 0.00011482850653930266, 0.00011452311179444508, 0.00011423384414893374, 0.00011396325680007591]\n",
      "Training for epoch  41\n",
      "10000\n",
      "avg_loss 1.7053381608846203\n",
      "loss val [0.000513407951548177, 0.0003086133854311618, 0.00024030916448855764, 0.0002063909358872921, 0.00018580762307128545, 0.00017213027035516536, 0.00016245471525720866, 0.0001551177053374702, 0.00014942085080498822, 0.00014489175689080423, 0.00014114274629947632, 0.0001380689969887253, 0.00013543193507413304, 0.00013314374092026425, 0.00013113320748951108, 0.00012939103051776602, 0.0001278506399860831, 0.00012644430148392997, 0.00012524207264290248, 0.000124159077154559, 0.00012315318088204996, 0.0001222942994313937, 0.00012149242672883001, 0.00012075572172167893, 0.00012007101316256377, 0.00011941898414121351, 0.00011882773034600898, 0.00011829782519871787, 0.00011781645441831068, 0.00011734707825000402, 0.00011691822615876897, 0.00011649263763852668, 0.00011612719841856804, 0.00011579187968923312, 0.00011542307742741467, 0.00011511196943581731, 0.00011482850653930266, 0.00011452311179444508, 0.00011423384414893374, 0.00011396325680007591, 0.00011368921072564135]\n",
      "Training for epoch  42\n",
      "10000\n",
      "avg_loss 1.701649394763427\n",
      "loss val [0.000513407951548177, 0.0003086133854311618, 0.00024030916448855764, 0.0002063909358872921, 0.00018580762307128545, 0.00017213027035516536, 0.00016245471525720866, 0.0001551177053374702, 0.00014942085080498822, 0.00014489175689080423, 0.00014114274629947632, 0.0001380689969887253, 0.00013543193507413304, 0.00013314374092026425, 0.00013113320748951108, 0.00012939103051776602, 0.0001278506399860831, 0.00012644430148392997, 0.00012524207264290248, 0.000124159077154559, 0.00012315318088204996, 0.0001222942994313937, 0.00012149242672883001, 0.00012075572172167893, 0.00012007101316256377, 0.00011941898414121351, 0.00011882773034600898, 0.00011829782519871787, 0.00011781645441831068, 0.00011734707825000402, 0.00011691822615876897, 0.00011649263763852668, 0.00011612719841856804, 0.00011579187968923312, 0.00011542307742741467, 0.00011511196943581731, 0.00011482850653930266, 0.00011452311179444508, 0.00011423384414893374, 0.00011396325680007591, 0.00011368921072564135, 0.00011344329298422846]\n",
      "Training for epoch  43\n",
      "10000\n",
      "avg_loss 1.6984490404048953\n",
      "loss val [0.000513407951548177, 0.0003086133854311618, 0.00024030916448855764, 0.0002063909358872921, 0.00018580762307128545, 0.00017213027035516536, 0.00016245471525720866, 0.0001551177053374702, 0.00014942085080498822, 0.00014489175689080423, 0.00014114274629947632, 0.0001380689969887253, 0.00013543193507413304, 0.00013314374092026425, 0.00013113320748951108, 0.00012939103051776602, 0.0001278506399860831, 0.00012644430148392997, 0.00012524207264290248, 0.000124159077154559, 0.00012315318088204996, 0.0001222942994313937, 0.00012149242672883001, 0.00012075572172167893, 0.00012007101316256377, 0.00011941898414121351, 0.00011882773034600898, 0.00011829782519871787, 0.00011781645441831068, 0.00011734707825000402, 0.00011691822615876897, 0.00011649263763852668, 0.00011612719841856804, 0.00011579187968923312, 0.00011542307742741467, 0.00011511196943581731, 0.00011482850653930266, 0.00011452311179444508, 0.00011423384414893374, 0.00011396325680007591, 0.00011368921072564135, 0.00011344329298422846, 0.00011322993602699303]\n",
      "Training for epoch  44\n",
      "10000\n",
      "avg_loss 1.6950374257569463\n",
      "loss val [0.000513407951548177, 0.0003086133854311618, 0.00024030916448855764, 0.0002063909358872921, 0.00018580762307128545, 0.00017213027035516536, 0.00016245471525720866, 0.0001551177053374702, 0.00014942085080498822, 0.00014489175689080423, 0.00014114274629947632, 0.0001380689969887253, 0.00013543193507413304, 0.00013314374092026425, 0.00013113320748951108, 0.00012939103051776602, 0.0001278506399860831, 0.00012644430148392997, 0.00012524207264290248, 0.000124159077154559, 0.00012315318088204996, 0.0001222942994313937, 0.00012149242672883001, 0.00012075572172167893, 0.00012007101316256377, 0.00011941898414121351, 0.00011882773034600898, 0.00011829782519871787, 0.00011781645441831068, 0.00011734707825000402, 0.00011691822615876897, 0.00011649263763852668, 0.00011612719841856804, 0.00011579187968923312, 0.00011542307742741467, 0.00011511196943581731, 0.00011482850653930266, 0.00011452311179444508, 0.00011423384414893374, 0.00011396325680007591, 0.00011368921072564135, 0.00011344329298422846, 0.00011322993602699303, 0.00011300249505046308]\n",
      "Training for epoch  45\n",
      "10000\n",
      "avg_loss 1.69183859912123\n",
      "loss val [0.000513407951548177, 0.0003086133854311618, 0.00024030916448855764, 0.0002063909358872921, 0.00018580762307128545, 0.00017213027035516536, 0.00016245471525720866, 0.0001551177053374702, 0.00014942085080498822, 0.00014489175689080423, 0.00014114274629947632, 0.0001380689969887253, 0.00013543193507413304, 0.00013314374092026425, 0.00013113320748951108, 0.00012939103051776602, 0.0001278506399860831, 0.00012644430148392997, 0.00012524207264290248, 0.000124159077154559, 0.00012315318088204996, 0.0001222942994313937, 0.00012149242672883001, 0.00012075572172167893, 0.00012007101316256377, 0.00011941898414121351, 0.00011882773034600898, 0.00011829782519871787, 0.00011781645441831068, 0.00011734707825000402, 0.00011691822615876897, 0.00011649263763852668, 0.00011612719841856804, 0.00011579187968923312, 0.00011542307742741467, 0.00011511196943581731, 0.00011482850653930266, 0.00011452311179444508, 0.00011423384414893374, 0.00011396325680007591, 0.00011368921072564135, 0.00011344329298422846, 0.00011322993602699303, 0.00011300249505046308, 0.00011278923994141532]\n",
      "Training for epoch  46\n",
      "10000\n",
      "avg_loss 1.6888881876157573\n",
      "loss val [0.000513407951548177, 0.0003086133854311618, 0.00024030916448855764, 0.0002063909358872921, 0.00018580762307128545, 0.00017213027035516536, 0.00016245471525720866, 0.0001551177053374702, 0.00014942085080498822, 0.00014489175689080423, 0.00014114274629947632, 0.0001380689969887253, 0.00013543193507413304, 0.00013314374092026425, 0.00013113320748951108, 0.00012939103051776602, 0.0001278506399860831, 0.00012644430148392997, 0.00012524207264290248, 0.000124159077154559, 0.00012315318088204996, 0.0001222942994313937, 0.00012149242672883001, 0.00012075572172167893, 0.00012007101316256377, 0.00011941898414121351, 0.00011882773034600898, 0.00011829782519871787, 0.00011781645441831068, 0.00011734707825000402, 0.00011691822615876897, 0.00011649263763852668, 0.00011612719841856804, 0.00011579187968923312, 0.00011542307742741467, 0.00011511196943581731, 0.00011482850653930266, 0.00011452311179444508, 0.00011423384414893374, 0.00011396325680007591, 0.00011368921072564135, 0.00011344329298422846, 0.00011322993602699303, 0.00011300249505046308, 0.00011278923994141532, 0.00011259254584105048]\n",
      "Training for epoch  47\n",
      "10000\n",
      "avg_loss 1.686157951802138\n",
      "loss val [0.000513407951548177, 0.0003086133854311618, 0.00024030916448855764, 0.0002063909358872921, 0.00018580762307128545, 0.00017213027035516536, 0.00016245471525720866, 0.0001551177053374702, 0.00014942085080498822, 0.00014489175689080423, 0.00014114274629947632, 0.0001380689969887253, 0.00013543193507413304, 0.00013314374092026425, 0.00013113320748951108, 0.00012939103051776602, 0.0001278506399860831, 0.00012644430148392997, 0.00012524207264290248, 0.000124159077154559, 0.00012315318088204996, 0.0001222942994313937, 0.00012149242672883001, 0.00012075572172167893, 0.00012007101316256377, 0.00011941898414121351, 0.00011882773034600898, 0.00011829782519871787, 0.00011781645441831068, 0.00011734707825000402, 0.00011691822615876897, 0.00011649263763852668, 0.00011612719841856804, 0.00011579187968923312, 0.00011542307742741467, 0.00011511196943581731, 0.00011482850653930266, 0.00011452311179444508, 0.00011423384414893374, 0.00011396325680007591, 0.00011368921072564135, 0.00011344329298422846, 0.00011322993602699303, 0.00011300249505046308, 0.00011278923994141532, 0.00011259254584105048, 0.00011241053012014253]\n",
      "Training for epoch  48\n",
      "10000\n",
      "avg_loss 1.683432916137587\n",
      "loss val [0.000513407951548177, 0.0003086133854311618, 0.00024030916448855764, 0.0002063909358872921, 0.00018580762307128545, 0.00017213027035516536, 0.00016245471525720866, 0.0001551177053374702, 0.00014942085080498822, 0.00014489175689080423, 0.00014114274629947632, 0.0001380689969887253, 0.00013543193507413304, 0.00013314374092026425, 0.00013113320748951108, 0.00012939103051776602, 0.0001278506399860831, 0.00012644430148392997, 0.00012524207264290248, 0.000124159077154559, 0.00012315318088204996, 0.0001222942994313937, 0.00012149242672883001, 0.00012075572172167893, 0.00012007101316256377, 0.00011941898414121351, 0.00011882773034600898, 0.00011829782519871787, 0.00011781645441831068, 0.00011734707825000402, 0.00011691822615876897, 0.00011649263763852668, 0.00011612719841856804, 0.00011579187968923312, 0.00011542307742741467, 0.00011511196943581731, 0.00011482850653930266, 0.00011452311179444508, 0.00011423384414893374, 0.00011396325680007591, 0.00011368921072564135, 0.00011344329298422846, 0.00011322993602699303, 0.00011300249505046308, 0.00011278923994141532, 0.00011259254584105048, 0.00011241053012014253, 0.00011222886107583913]\n",
      "Training for epoch  49\n",
      "10000\n",
      "avg_loss 1.6807383708523211\n",
      "loss val [0.000513407951548177, 0.0003086133854311618, 0.00024030916448855764, 0.0002063909358872921, 0.00018580762307128545, 0.00017213027035516536, 0.00016245471525720866, 0.0001551177053374702, 0.00014942085080498822, 0.00014489175689080423, 0.00014114274629947632, 0.0001380689969887253, 0.00013543193507413304, 0.00013314374092026425, 0.00013113320748951108, 0.00012939103051776602, 0.0001278506399860831, 0.00012644430148392997, 0.00012524207264290248, 0.000124159077154559, 0.00012315318088204996, 0.0001222942994313937, 0.00012149242672883001, 0.00012075572172167893, 0.00012007101316256377, 0.00011941898414121351, 0.00011882773034600898, 0.00011829782519871787, 0.00011781645441831068, 0.00011734707825000402, 0.00011691822615876897, 0.00011649263763852668, 0.00011612719841856804, 0.00011579187968923312, 0.00011542307742741467, 0.00011511196943581731, 0.00011482850653930266, 0.00011452311179444508, 0.00011423384414893374, 0.00011396325680007591, 0.00011368921072564135, 0.00011344329298422846, 0.00011322993602699303, 0.00011300249505046308, 0.00011278923994141532, 0.00011259254584105048, 0.00011241053012014253, 0.00011222886107583913, 0.00011204922472348808]\n",
      "Training for epoch  50\n",
      "10000\n",
      "avg_loss 1.6781310535358045\n",
      "loss val [0.000513407951548177, 0.0003086133854311618, 0.00024030916448855764, 0.0002063909358872921, 0.00018580762307128545, 0.00017213027035516536, 0.00016245471525720866, 0.0001551177053374702, 0.00014942085080498822, 0.00014489175689080423, 0.00014114274629947632, 0.0001380689969887253, 0.00013543193507413304, 0.00013314374092026425, 0.00013113320748951108, 0.00012939103051776602, 0.0001278506399860831, 0.00012644430148392997, 0.00012524207264290248, 0.000124159077154559, 0.00012315318088204996, 0.0001222942994313937, 0.00012149242672883001, 0.00012075572172167893, 0.00012007101316256377, 0.00011941898414121351, 0.00011882773034600898, 0.00011829782519871787, 0.00011781645441831068, 0.00011734707825000402, 0.00011691822615876897, 0.00011649263763852668, 0.00011612719841856804, 0.00011579187968923312, 0.00011542307742741467, 0.00011511196943581731, 0.00011482850653930266, 0.00011452311179444508, 0.00011423384414893374, 0.00011396325680007591, 0.00011368921072564135, 0.00011344329298422846, 0.00011322993602699303, 0.00011300249505046308, 0.00011278923994141532, 0.00011259254584105048, 0.00011241053012014253, 0.00011222886107583913, 0.00011204922472348808, 0.00011187540356905363]\n"
     ]
    }
   ],
   "source": [
    "import time\n",
    "epochs = 50\n",
    "for epoch in range(epochs):\n",
    "    print('Training for epoch ',epoch+1)\n",
    "    random.shuffle(docIdxs)\n",
    "    start = time.time()\n",
    "    codeCount =0\n",
    "    for docIdx in docIdxs:\n",
    "        trainTensors = train_data[docIdx]\n",
    "        #next_sent_output, mask_lm_output = model.forward(trainTensors[0].to(device), trainTensors[2].to(device))\n",
    "        next_sent_output= model.forward(trainTensors[0].to(device), trainTensors[2].to(device))\n",
    "        next_loss = criterion(next_sent_output, trainTensors[3].to(device))\n",
    "        #mask_loss = criterion(mask_lm_output.transpose(1, 2), trainTensors[1].to(device))\n",
    "        #loss =  mask_loss + next_loss\n",
    "        loss = next_loss\n",
    "        codeCount +=1\n",
    "        if(codeCount+10000)%10000 ==0:\n",
    "            print(codeCount)\n",
    "        if True:\n",
    "                optim_schedule.zero_grad()\n",
    "                loss.backward()\n",
    "                optim_schedule.step_and_update_lr()\n",
    "        # next sentence prediction accuracy\n",
    "        #correct = next_sent_output.argmax(dim=-1).eq(trainTensors[3].to(device)).sum().item()\n",
    "        avg_loss += (loss.item())/trainTensors[0].shape[0]\n",
    "        #total_correct += correct\n",
    "        total_element += trainTensors[3].nelement()\n",
    "    #print(\"avg_acc\",(total_correct / (total_element ))* 100)\n",
    "    print(\"avg_loss\", avg_loss / (epoch + 1))\n",
    "    loss_val.append((avg_loss / (epoch + 1) )/len(train_data))\n",
    "    if((epoch+3) % 3==0):\n",
    "        torch.save(model.state_dict(), str(epoch)+'_model_weights.pth')\n",
    "        torch.save(model, str(epoch)+'_bertML.model')\n",
    "    print(\"loss val\", loss_val)\n"
   ]
  },
  {
   "cell_type": "code",
   "execution_count": 94,
   "id": "da8848b4",
   "metadata": {
    "execution": {
     "iopub.execute_input": "2022-04-25T20:56:04.129474Z",
     "iopub.status.busy": "2022-04-25T20:56:04.128836Z",
     "iopub.status.idle": "2022-04-25T20:56:04.131949Z",
     "shell.execute_reply": "2022-04-25T20:56:04.132375Z",
     "shell.execute_reply.started": "2022-04-25T12:05:42.452452Z"
    },
    "papermill": {
     "duration": 0.140286,
     "end_time": "2022-04-25T20:56:04.132512",
     "exception": false,
     "start_time": "2022-04-25T20:56:03.992226",
     "status": "completed"
    },
    "tags": []
   },
   "outputs": [
    {
     "data": {
      "text/plain": [
       "[0.000513407951548177,\n",
       " 0.0003086133854311618,\n",
       " 0.00024030916448855764,\n",
       " 0.0002063909358872921,\n",
       " 0.00018580762307128545,\n",
       " 0.00017213027035516536,\n",
       " 0.00016245471525720866,\n",
       " 0.0001551177053374702,\n",
       " 0.00014942085080498822,\n",
       " 0.00014489175689080423,\n",
       " 0.00014114274629947632,\n",
       " 0.0001380689969887253,\n",
       " 0.00013543193507413304,\n",
       " 0.00013314374092026425,\n",
       " 0.00013113320748951108,\n",
       " 0.00012939103051776602,\n",
       " 0.0001278506399860831,\n",
       " 0.00012644430148392997,\n",
       " 0.00012524207264290248,\n",
       " 0.000124159077154559,\n",
       " 0.00012315318088204996,\n",
       " 0.0001222942994313937,\n",
       " 0.00012149242672883001,\n",
       " 0.00012075572172167893,\n",
       " 0.00012007101316256377,\n",
       " 0.00011941898414121351,\n",
       " 0.00011882773034600898,\n",
       " 0.00011829782519871787,\n",
       " 0.00011781645441831068,\n",
       " 0.00011734707825000402,\n",
       " 0.00011691822615876897,\n",
       " 0.00011649263763852668,\n",
       " 0.00011612719841856804,\n",
       " 0.00011579187968923312,\n",
       " 0.00011542307742741467,\n",
       " 0.00011511196943581731,\n",
       " 0.00011482850653930266,\n",
       " 0.00011452311179444508,\n",
       " 0.00011423384414893374,\n",
       " 0.00011396325680007591,\n",
       " 0.00011368921072564135,\n",
       " 0.00011344329298422846,\n",
       " 0.00011322993602699303,\n",
       " 0.00011300249505046308,\n",
       " 0.00011278923994141532,\n",
       " 0.00011259254584105048,\n",
       " 0.00011241053012014253,\n",
       " 0.00011222886107583913,\n",
       " 0.00011204922472348808,\n",
       " 0.00011187540356905363]"
      ]
     },
     "execution_count": 94,
     "metadata": {},
     "output_type": "execute_result"
    }
   ],
   "source": [
    "loss_val"
   ]
  },
  {
   "cell_type": "code",
   "execution_count": 95,
   "id": "185aacfa",
   "metadata": {
    "execution": {
     "iopub.execute_input": "2022-04-25T20:56:04.419491Z",
     "iopub.status.busy": "2022-04-25T20:56:04.418888Z",
     "iopub.status.idle": "2022-04-25T20:56:04.421391Z",
     "shell.execute_reply": "2022-04-25T20:56:04.421805Z",
     "shell.execute_reply.started": "2022-04-25T12:05:42.460500Z"
    },
    "papermill": {
     "duration": 0.141652,
     "end_time": "2022-04-25T20:56:04.421926",
     "exception": false,
     "start_time": "2022-04-25T20:56:04.280274",
     "status": "completed"
    },
    "tags": []
   },
   "outputs": [
    {
     "name": "stdout",
     "output_type": "stream",
     "text": [
      "9.728822465737661\n"
     ]
    }
   ],
   "source": [
    "print((time.time()-start)/60)"
   ]
  },
  {
   "cell_type": "code",
   "execution_count": 96,
   "id": "777c457a",
   "metadata": {
    "execution": {
     "iopub.execute_input": "2022-04-25T20:56:04.696838Z",
     "iopub.status.busy": "2022-04-25T20:56:04.695956Z",
     "iopub.status.idle": "2022-04-25T20:56:04.873641Z",
     "shell.execute_reply": "2022-04-25T20:56:04.873111Z",
     "shell.execute_reply.started": "2022-04-25T12:05:42.471713Z"
    },
    "papermill": {
     "duration": 0.321694,
     "end_time": "2022-04-25T20:56:04.873766",
     "exception": false,
     "start_time": "2022-04-25T20:56:04.552072",
     "status": "completed"
    },
    "tags": []
   },
   "outputs": [],
   "source": [
    "torch.save(model, str(epochs)+'_bertML.model')"
   ]
  },
  {
   "cell_type": "code",
   "execution_count": 97,
   "id": "a863dc2c",
   "metadata": {
    "execution": {
     "iopub.execute_input": "2022-04-25T20:56:05.144900Z",
     "iopub.status.busy": "2022-04-25T20:56:05.144055Z",
     "iopub.status.idle": "2022-04-25T20:56:05.326867Z",
     "shell.execute_reply": "2022-04-25T20:56:05.326387Z",
     "shell.execute_reply.started": "2022-04-25T11:38:59.079734Z"
    },
    "papermill": {
     "duration": 0.322342,
     "end_time": "2022-04-25T20:56:05.326997",
     "exception": false,
     "start_time": "2022-04-25T20:56:05.004655",
     "status": "completed"
    },
    "tags": []
   },
   "outputs": [],
   "source": [
    "torch.save(model.state_dict(), str(epochs)+'_model_weights.pth')"
   ]
  },
  {
   "cell_type": "code",
   "execution_count": 98,
   "id": "f9a7f95f",
   "metadata": {
    "execution": {
     "iopub.execute_input": "2022-04-25T20:56:05.597838Z",
     "iopub.status.busy": "2022-04-25T20:56:05.597133Z",
     "iopub.status.idle": "2022-04-25T20:56:05.809187Z",
     "shell.execute_reply": "2022-04-25T20:56:05.808777Z",
     "shell.execute_reply.started": "2022-04-25T11:38:59.081723Z"
    },
    "papermill": {
     "duration": 0.350626,
     "end_time": "2022-04-25T20:56:05.809328",
     "exception": false,
     "start_time": "2022-04-25T20:56:05.458702",
     "status": "completed"
    },
    "tags": []
   },
   "outputs": [
    {
     "data": {
      "image/png": "[encoded data removed]",
      "text/plain": [
       "<Figure size 432x288 with 1 Axes>"
      ]
     },
     "metadata": {
      "needs_background": "light"
     },
     "output_type": "display_data"
    }
   ],
   "source": [
    "# summarize history for model loss\n",
    "import matplotlib.pyplot as plt\n",
    "plt.plot(loss_val)\n",
    "#plt.plot(train_history1.history['val_loss'])\n",
    "plt.title('Model Loss')\n",
    "#plt.ylabel('validation loss')\n",
    "plt.xlabel('epoch')\n",
    "plt.legend(['train loss'], loc='upper left')\n",
    "plt.show()\n",
    "#plt.savefig('Loss_trainVsValidation.png', bbox_inches='tight', dpi = 300)"
   ]
  },
  {
   "cell_type": "code",
   "execution_count": null,
   "id": "60e4f1ca",
   "metadata": {
    "papermill": {
     "duration": 0.139295,
     "end_time": "2022-04-25T20:56:06.080296",
     "exception": false,
     "start_time": "2022-04-25T20:56:05.941001",
     "status": "completed"
    },
    "tags": []
   },
   "outputs": [],
   "source": []
  }
 ],
 "metadata": {
  "kernelspec": {
   "display_name": "Python 3",
   "language": "python",
   "name": "python3"
  },
  "language_info": {
   "codemirror_mode": {
    "name": "ipython",
    "version": 3
   },
   "file_extension": ".py",
   "mimetype": "text/x-python",
   "name": "python",
   "nbconvert_exporter": "python",
   "pygments_lexer": "ipython3",
   "version": "3.7.12"
  },
  "papermill": {
   "default_parameters": {},
   "duration": 30181.709518,
   "end_time": "2022-04-25T20:56:09.055921",
   "environment_variables": {},
   "exception": null,
   "input_path": "__notebook__.ipynb",
   "output_path": "__notebook__.ipynb",
   "parameters": {},
   "start_time": "2022-04-25T12:33:07.346403",
   "version": "2.3.3"
  }
 },
 "nbformat": 4,
 "nbformat_minor": 5
}
