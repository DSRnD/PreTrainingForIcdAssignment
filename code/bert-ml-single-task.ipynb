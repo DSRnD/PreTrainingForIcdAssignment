{
 "cells": [
  {
   "cell_type": "code",
   "execution_count": 1,
   "id": "3f2a375a",
   "metadata": {
    "_cell_guid": "b1076dfc-b9ad-4769-8c92-a6c4dae69d19",
    "_uuid": "8f2839f25d086af736a60e9eeb907d3b93b6e0e5",
    "execution": {
     "iopub.execute_input": "2022-04-24T16:46:08.797234Z",
     "iopub.status.busy": "2022-04-24T16:46:08.796058Z",
     "iopub.status.idle": "2022-04-24T16:46:08.826653Z",
     "shell.execute_reply": "2022-04-24T16:46:08.827950Z",
     "shell.execute_reply.started": "2022-04-24T16:19:48.298954Z"
    },
    "papermill": {
     "duration": 0.157991,
     "end_time": "2022-04-24T16:46:08.828336",
     "exception": false,
     "start_time": "2022-04-24T16:46:08.670345",
     "status": "completed"
    },
    "tags": []
   },
   "outputs": [
    {
     "name": "stdout",
     "output_type": "stream",
     "text": [
      "/kaggle/input/mimic-clean-text/MIMIC-III-Final_cleaned.csv\n",
      "/kaggle/input/mimicdata/validation_full.csv\n",
      "/kaggle/input/mimicdata/test_full.csv\n",
      "/kaggle/input/mimicdata/vocab.csv\n",
      "/kaggle/input/mimicdata/train_full.csv\n",
      "/kaggle/input/mimicdata/ICD_desc_with_freq.csv\n",
      "/kaggle/input/autoencoderdecoderonpmcembeddingvocab/Vocab.txt\n",
      "/kaggle/input/pmcmodel/PMC-w2v.bin\n"
     ]
    }
   ],
   "source": [
    "# This Python 3 environment comes with many helpful analytics libraries installed\n",
    "# It is defined by the kaggle/python Docker image: https://github.com/kaggle/docker-python\n",
    "# For example, here's several helpful packages to load\n",
    "\n",
    "import numpy as np # linear algebra\n",
    "import pandas as pd # data processing, CSV file I/O (e.g. pd.read_csv)\n",
    "\n",
    "# Input data files are available in the read-only \"../input/\" directory\n",
    "# For example, running this (by clicking run or pressing Shift+Enter) will list all files under the input directory\n",
    "\n",
    "import os\n",
    "for dirname, _, filenames in os.walk('/kaggle/input'):\n",
    "    for filename in filenames:\n",
    "        print(os.path.join(dirname, filename))\n",
    "\n",
    "# You can write up to 20GB to the current directory (/kaggle/working/) that gets preserved as output when you create a version using \"Save & Run All\" \n",
    "# You can also write temporary files to /kaggle/temp/, but they won't be saved outside of the current session"
   ]
  },
  {
   "cell_type": "code",
   "execution_count": 2,
   "id": "4e04d1b0",
   "metadata": {
    "execution": {
     "iopub.execute_input": "2022-04-24T16:46:09.072037Z",
     "iopub.status.busy": "2022-04-24T16:46:09.071300Z",
     "iopub.status.idle": "2022-04-24T16:46:24.778506Z",
     "shell.execute_reply": "2022-04-24T16:46:24.777968Z",
     "shell.execute_reply.started": "2022-04-24T16:19:48.313212Z"
    },
    "papermill": {
     "duration": 15.833952,
     "end_time": "2022-04-24T16:46:24.778666",
     "exception": false,
     "start_time": "2022-04-24T16:46:08.944714",
     "status": "completed"
    },
    "tags": []
   },
   "outputs": [],
   "source": [
    "data =  pd.read_csv('/kaggle/input/mimic-clean-text/MIMIC-III-Final_cleaned.csv')[:12000]"
   ]
  },
  {
   "cell_type": "code",
   "execution_count": 3,
   "id": "501c38e3",
   "metadata": {
    "execution": {
     "iopub.execute_input": "2022-04-24T16:46:25.012419Z",
     "iopub.status.busy": "2022-04-24T16:46:25.011434Z",
     "iopub.status.idle": "2022-04-24T16:46:25.015666Z",
     "shell.execute_reply": "2022-04-24T16:46:25.016251Z",
     "shell.execute_reply.started": "2022-04-24T16:19:56.257625Z"
    },
    "papermill": {
     "duration": 0.125655,
     "end_time": "2022-04-24T16:46:25.016404",
     "exception": false,
     "start_time": "2022-04-24T16:46:24.890749",
     "status": "completed"
    },
    "tags": []
   },
   "outputs": [
    {
     "data": {
      "text/plain": [
       "((12000, 6),\n",
       " Index(['Unnamed: 0', 'TEXT', 'HADM_ID', 'ICD9_CODE', 'clean_text', 'top_ICD'], dtype='object'))"
      ]
     },
     "execution_count": 3,
     "metadata": {},
     "output_type": "execute_result"
    }
   ],
   "source": [
    "data.shape, data.columns"
   ]
  },
  {
   "cell_type": "code",
   "execution_count": 4,
   "id": "2f42a63e",
   "metadata": {
    "execution": {
     "iopub.execute_input": "2022-04-24T16:46:25.244568Z",
     "iopub.status.busy": "2022-04-24T16:46:25.243573Z",
     "iopub.status.idle": "2022-04-24T16:46:25.246607Z",
     "shell.execute_reply": "2022-04-24T16:46:25.247099Z",
     "shell.execute_reply.started": "2022-04-24T16:19:56.269460Z"
    },
    "papermill": {
     "duration": 0.119688,
     "end_time": "2022-04-24T16:46:25.247284",
     "exception": false,
     "start_time": "2022-04-24T16:46:25.127596",
     "status": "completed"
    },
    "tags": []
   },
   "outputs": [],
   "source": [
    "#data['length'] = data.apply(lambda x:len(x['clean_text'].split()) , axis=1)"
   ]
  },
  {
   "cell_type": "code",
   "execution_count": 5,
   "id": "c1371f4e",
   "metadata": {
    "execution": {
     "iopub.execute_input": "2022-04-24T16:46:25.479676Z",
     "iopub.status.busy": "2022-04-24T16:46:25.478423Z",
     "iopub.status.idle": "2022-04-24T16:46:25.497327Z",
     "shell.execute_reply": "2022-04-24T16:46:25.496755Z",
     "shell.execute_reply.started": "2022-04-24T16:19:56.278126Z"
    },
    "papermill": {
     "duration": 0.137526,
     "end_time": "2022-04-24T16:46:25.497484",
     "exception": false,
     "start_time": "2022-04-24T16:46:25.359958",
     "status": "completed"
    },
    "tags": []
   },
   "outputs": [
    {
     "data": {
      "text/html": [
       "<div>\n",
       "<style scoped>\n",
       "    .dataframe tbody tr th:only-of-type {\n",
       "        vertical-align: middle;\n",
       "    }\n",
       "\n",
       "    .dataframe tbody tr th {\n",
       "        vertical-align: top;\n",
       "    }\n",
       "\n",
       "    .dataframe thead th {\n",
       "        text-align: right;\n",
       "    }\n",
       "</style>\n",
       "<table border=\"1\" class=\"dataframe\">\n",
       "  <thead>\n",
       "    <tr style=\"text-align: right;\">\n",
       "      <th></th>\n",
       "      <th>Unnamed: 0</th>\n",
       "      <th>TEXT</th>\n",
       "      <th>HADM_ID</th>\n",
       "      <th>ICD9_CODE</th>\n",
       "      <th>clean_text</th>\n",
       "      <th>top_ICD</th>\n",
       "    </tr>\n",
       "  </thead>\n",
       "  <tbody>\n",
       "    <tr>\n",
       "      <th>0</th>\n",
       "      <td>0</td>\n",
       "      <td>{Admission Date:  [**2117-9-11**]             ...</td>\n",
       "      <td>100001.0</td>\n",
       "      <td>['25013', '3371', '5849', '5780', 'V5867', '25...</td>\n",
       "      <td>admission date discharge date of birth sex nam...</td>\n",
       "      <td>['25013', '3371', '5849', '5780', 'V5867', '25...</td>\n",
       "    </tr>\n",
       "    <tr>\n",
       "      <th>1</th>\n",
       "      <td>1</td>\n",
       "      <td>{Admission Date:  [**2150-4-17**]             ...</td>\n",
       "      <td>100003.0</td>\n",
       "      <td>['53100', '2851', '07054', '5715', '45621', '5...</td>\n",
       "      <td>admission date discharge date of birth sex rec...</td>\n",
       "      <td>['53100', '2851', '5715', '45621', '53789', '4...</td>\n",
       "    </tr>\n",
       "    <tr>\n",
       "      <th>2</th>\n",
       "      <td>2</td>\n",
       "      <td>{Admission Date:  [**2108-4-6**]       Dischar...</td>\n",
       "      <td>100006.0</td>\n",
       "      <td>['49320', '51881', '486', '20300', '2761', '78...</td>\n",
       "      <td>admission date discharge date of birth sex o c...</td>\n",
       "      <td>['49320', '51881', '486', '20300', '2761', '78...</td>\n",
       "    </tr>\n",
       "    <tr>\n",
       "      <th>3</th>\n",
       "      <td>3</td>\n",
       "      <td>{Admission Date:  [**2145-3-31**]             ...</td>\n",
       "      <td>100007.0</td>\n",
       "      <td>['56081', '5570', '9973', '486', '4019']</td>\n",
       "      <td>admission date discharge date of birth sex nam...</td>\n",
       "      <td>['56081', '5570', '486', '4019']</td>\n",
       "    </tr>\n",
       "    <tr>\n",
       "      <th>4</th>\n",
       "      <td>4</td>\n",
       "      <td>{Admission Date:  [**2162-5-16**]             ...</td>\n",
       "      <td>100009.0</td>\n",
       "      <td>['41401', '99604', '4142', '25000', '27800', '...</td>\n",
       "      <td>admission date discharge date of birth sex kno...</td>\n",
       "      <td>['41401', '99604', '4142', '25000', '27800', '...</td>\n",
       "    </tr>\n",
       "  </tbody>\n",
       "</table>\n",
       "</div>"
      ],
      "text/plain": [
       "   Unnamed: 0                                               TEXT   HADM_ID  \\\n",
       "0           0  {Admission Date:  [**2117-9-11**]             ...  100001.0   \n",
       "1           1  {Admission Date:  [**2150-4-17**]             ...  100003.0   \n",
       "2           2  {Admission Date:  [**2108-4-6**]       Dischar...  100006.0   \n",
       "3           3  {Admission Date:  [**2145-3-31**]             ...  100007.0   \n",
       "4           4  {Admission Date:  [**2162-5-16**]             ...  100009.0   \n",
       "\n",
       "                                           ICD9_CODE  \\\n",
       "0  ['25013', '3371', '5849', '5780', 'V5867', '25...   \n",
       "1  ['53100', '2851', '07054', '5715', '45621', '5...   \n",
       "2  ['49320', '51881', '486', '20300', '2761', '78...   \n",
       "3           ['56081', '5570', '9973', '486', '4019']   \n",
       "4  ['41401', '99604', '4142', '25000', '27800', '...   \n",
       "\n",
       "                                          clean_text  \\\n",
       "0  admission date discharge date of birth sex nam...   \n",
       "1  admission date discharge date of birth sex rec...   \n",
       "2  admission date discharge date of birth sex o c...   \n",
       "3  admission date discharge date of birth sex nam...   \n",
       "4  admission date discharge date of birth sex kno...   \n",
       "\n",
       "                                             top_ICD  \n",
       "0  ['25013', '3371', '5849', '5780', 'V5867', '25...  \n",
       "1  ['53100', '2851', '5715', '45621', '53789', '4...  \n",
       "2  ['49320', '51881', '486', '20300', '2761', '78...  \n",
       "3                   ['56081', '5570', '486', '4019']  \n",
       "4  ['41401', '99604', '4142', '25000', '27800', '...  "
      ]
     },
     "execution_count": 5,
     "metadata": {},
     "output_type": "execute_result"
    }
   ],
   "source": [
    "data.head()"
   ]
  },
  {
   "cell_type": "markdown",
   "id": "d81ee0b6",
   "metadata": {
    "papermill": {
     "duration": 0.111738,
     "end_time": "2022-04-24T16:46:25.736056",
     "exception": false,
     "start_time": "2022-04-24T16:46:25.624318",
     "status": "completed"
    },
    "tags": []
   },
   "source": [
    "### Create Processed Data for training the bert pytorch model  "
   ]
  },
  {
   "cell_type": "code",
   "execution_count": 6,
   "id": "43387ad4",
   "metadata": {
    "execution": {
     "iopub.execute_input": "2022-04-24T16:46:25.967464Z",
     "iopub.status.busy": "2022-04-24T16:46:25.966763Z",
     "iopub.status.idle": "2022-04-24T16:46:31.265573Z",
     "shell.execute_reply": "2022-04-24T16:46:31.264592Z",
     "shell.execute_reply.started": "2022-04-24T16:19:56.293676Z"
    },
    "papermill": {
     "duration": 5.417592,
     "end_time": "2022-04-24T16:46:31.265726",
     "exception": false,
     "start_time": "2022-04-24T16:46:25.848134",
     "status": "completed"
    },
    "tags": []
   },
   "outputs": [],
   "source": [
    "from __future__ import absolute_import\n",
    "from __future__ import division\n",
    "from __future__ import print_function\n",
    "\n",
    "import collections\n",
    "import re\n",
    "import unicodedata\n",
    "import six\n",
    "import tensorflow as tf"
   ]
  },
  {
   "cell_type": "code",
   "execution_count": 7,
   "id": "da27071b",
   "metadata": {
    "execution": {
     "iopub.execute_input": "2022-04-24T16:46:31.515941Z",
     "iopub.status.busy": "2022-04-24T16:46:31.513404Z",
     "iopub.status.idle": "2022-04-24T16:46:31.516655Z",
     "shell.execute_reply": "2022-04-24T16:46:31.517178Z",
     "shell.execute_reply.started": "2022-04-24T16:19:56.299796Z"
    },
    "papermill": {
     "duration": 0.138361,
     "end_time": "2022-04-24T16:46:31.517323",
     "exception": false,
     "start_time": "2022-04-24T16:46:31.378962",
     "status": "completed"
    },
    "tags": []
   },
   "outputs": [],
   "source": [
    "#!pip install tensorflow==1.14\n",
    "#os.environ['CUDA_LAUNCH_BLOCKING'] = \"1\""
   ]
  },
  {
   "cell_type": "code",
   "execution_count": 8,
   "id": "584601d1",
   "metadata": {
    "execution": {
     "iopub.execute_input": "2022-04-24T16:46:31.749339Z",
     "iopub.status.busy": "2022-04-24T16:46:31.748640Z",
     "iopub.status.idle": "2022-04-24T16:46:31.753042Z",
     "shell.execute_reply": "2022-04-24T16:46:31.753540Z",
     "shell.execute_reply.started": "2022-04-24T16:19:56.310091Z"
    },
    "papermill": {
     "duration": 0.123952,
     "end_time": "2022-04-24T16:46:31.753693",
     "exception": false,
     "start_time": "2022-04-24T16:46:31.629741",
     "status": "completed"
    },
    "tags": []
   },
   "outputs": [],
   "source": [
    "def convert_to_unicode(text):\n",
    "  \"\"\"Converts `text` to Unicode (if it's not already), assuming utf-8 input.\"\"\"\n",
    "  if six.PY3:\n",
    "    if isinstance(text, str):\n",
    "      return text\n",
    "    elif isinstance(text, bytes):\n",
    "      return text.decode(\"utf-8\", \"ignore\")\n",
    "    else:\n",
    "      raise ValueError(\"Unsupported string type: %s\" % (type(text)))\n",
    "  elif six.PY2:\n",
    "    if isinstance(text, str):\n",
    "      return text.decode(\"utf-8\", \"ignore\")\n",
    "    elif isinstance(text, unicode):\n",
    "      return text\n",
    "    else:\n",
    "      raise ValueError(\"Unsupported string type: %s\" % (type(text)))\n",
    "  else:\n",
    "    raise ValueError(\"Not running on Python2 or Python 3?\")"
   ]
  },
  {
   "cell_type": "code",
   "execution_count": 9,
   "id": "fd2a5f66",
   "metadata": {
    "execution": {
     "iopub.execute_input": "2022-04-24T16:46:31.981900Z",
     "iopub.status.busy": "2022-04-24T16:46:31.980850Z",
     "iopub.status.idle": "2022-04-24T16:46:31.983247Z",
     "shell.execute_reply": "2022-04-24T16:46:31.983815Z",
     "shell.execute_reply.started": "2022-04-24T16:19:56.321240Z"
    },
    "papermill": {
     "duration": 0.118677,
     "end_time": "2022-04-24T16:46:31.983959",
     "exception": false,
     "start_time": "2022-04-24T16:46:31.865282",
     "status": "completed"
    },
    "tags": []
   },
   "outputs": [],
   "source": [
    "import re\n",
    "import numpy as np\n",
    "import six\n",
    "import tensorflow as tf"
   ]
  },
  {
   "cell_type": "code",
   "execution_count": 10,
   "id": "301fc237",
   "metadata": {
    "execution": {
     "iopub.execute_input": "2022-04-24T16:46:32.229985Z",
     "iopub.status.busy": "2022-04-24T16:46:32.228034Z",
     "iopub.status.idle": "2022-04-24T16:46:32.230692Z",
     "shell.execute_reply": "2022-04-24T16:46:32.231295Z",
     "shell.execute_reply.started": "2022-04-24T16:19:56.332372Z"
    },
    "papermill": {
     "duration": 0.135653,
     "end_time": "2022-04-24T16:46:32.231473",
     "exception": false,
     "start_time": "2022-04-24T16:46:32.095820",
     "status": "completed"
    },
    "tags": []
   },
   "outputs": [],
   "source": [
    "class BasicTokenizer(object):\n",
    "  \"\"\"Runs basic tokenization (punctuation splitting, lower casing, etc.).\"\"\"\n",
    "\n",
    "  def __init__(self, do_lower_case=True):\n",
    "    \"\"\"Constructs a BasicTokenizer.\n",
    "\n",
    "    Args:\n",
    "      do_lower_case: Whether to lower case the input.\n",
    "    \"\"\"\n",
    "    self.do_lower_case = do_lower_case\n",
    "\n",
    "  def tokenize(self, text):\n",
    "    \"\"\"Tokenizes a piece of text.\"\"\"\n",
    "    text = convert_to_unicode(text)\n",
    "    text = self._clean_text(text)#perform invalid char removal and whitespace removal\n",
    "\n",
    "    # This was added on November 1st, 2018 for the multilingual and Chinese\n",
    "    # models. This is also applied to the English models now, but it doesn't\n",
    "    # matter since the English models were not trained on any Chinese data\n",
    "    # and generally don't have any Chinese data in them (there are Chinese\n",
    "    # characters in the vocabulary because Wikipedia does have some Chinese\n",
    "    # words in the English Wikipedia.).\n",
    "    text = self._tokenize_chinese_chars(text)\n",
    "\n",
    "    orig_tokens = whitespace_tokenize(text)\n",
    "    split_tokens = []\n",
    "    for token in orig_tokens:\n",
    "      if self.do_lower_case:\n",
    "        token = token.lower()\n",
    "        token = self._run_strip_accents(token)\n",
    "      split_tokens.extend(self._run_split_on_punc(token))\n",
    "\n",
    "    output_tokens = whitespace_tokenize(\" \".join(split_tokens))\n",
    "    return output_tokens\n",
    "\n",
    "  def _run_strip_accents(self, text):\n",
    "    \"\"\"Strips accents from a piece of text.\"\"\"\n",
    "    text = unicodedata.normalize(\"NFD\", text)\n",
    "    output = []\n",
    "    for char in text:\n",
    "      cat = unicodedata.category(char)\n",
    "      if cat == \"Mn\":\n",
    "        continue\n",
    "      output.append(char)\n",
    "    return \"\".join(output)\n",
    "\n",
    "  def _run_split_on_punc(self, text):\n",
    "    \"\"\"Splits punctuation on a piece of text.\"\"\"\n",
    "    chars = list(text)\n",
    "    i = 0\n",
    "    start_new_word = True \n",
    "    output = []\n",
    "    while i < len(chars):\n",
    "      char = chars[i]\n",
    "      if _is_punctuation(char):\n",
    "        output.append([char])\n",
    "        start_new_word = True\n",
    "      else:\n",
    "        if start_new_word:\n",
    "          output.append([])\n",
    "        start_new_word = False\n",
    "        output[-1].append(char)\n",
    "      i += 1\n",
    "\n",
    "    return [\"\".join(x) for x in output]\n",
    "\n",
    "  def _tokenize_chinese_chars(self, text):\n",
    "    \"\"\"Adds whitespace around any CJK character.\"\"\"\n",
    "    output = []\n",
    "    for char in text:\n",
    "      cp = ord(char)\n",
    "      if self._is_chinese_char(cp):\n",
    "        output.append(\" \")\n",
    "        output.append(char)\n",
    "        output.append(\" \")\n",
    "      else:\n",
    "        output.append(char)\n",
    "    return \"\".join(output)\n",
    "\n",
    "  def _is_chinese_char(self, cp):\n",
    "    \"\"\"Checks whether CP is the codepoint of a CJK character.\"\"\"\n",
    "    # This defines a \"chinese character\" as anything in the CJK Unicode block:\n",
    "    #   https://en.wikipedia.org/wiki/CJK_Unified_Ideographs_(Unicode_block)\n",
    "    #\n",
    "    # Note that the CJK Unicode block is NOT all Japanese and Korean characters,\n",
    "    # despite its name. The modern Korean Hangul alphabet is a different block,\n",
    "    # as is Japanese Hiragana and Katakana. Those alphabets are used to write\n",
    "    # space-separated words, so they are not treated specially and handled\n",
    "    # like the all of the other languages.\n",
    "    if ((cp >= 0x4E00 and cp <= 0x9FFF) or  #\n",
    "        (cp >= 0x3400 and cp <= 0x4DBF) or  #\n",
    "        (cp >= 0x20000 and cp <= 0x2A6DF) or  #\n",
    "        (cp >= 0x2A700 and cp <= 0x2B73F) or  #\n",
    "        (cp >= 0x2B740 and cp <= 0x2B81F) or  #\n",
    "        (cp >= 0x2B820 and cp <= 0x2CEAF) or\n",
    "        (cp >= 0xF900 and cp <= 0xFAFF) or  #\n",
    "        (cp >= 0x2F800 and cp <= 0x2FA1F)):  #\n",
    "      return True\n",
    "\n",
    "    return False\n",
    "\n",
    "  def _clean_text(self, text):\n",
    "    \"\"\"Performs invalid character removal and whitespace cleanup on text.\"\"\"\n",
    "    output = []\n",
    "    for char in text:\n",
    "      cp = ord(char)\n",
    "      if cp == 0 or cp == 0xfffd or _is_control(char):\n",
    "        continue\n",
    "      if _is_whitespace(char):\n",
    "        output.append(\" \")\n",
    "      else:\n",
    "        output.append(char)\n",
    "    return \"\".join(output)"
   ]
  },
  {
   "cell_type": "code",
   "execution_count": 11,
   "id": "73ce414d",
   "metadata": {
    "execution": {
     "iopub.execute_input": "2022-04-24T16:46:32.463727Z",
     "iopub.status.busy": "2022-04-24T16:46:32.462826Z",
     "iopub.status.idle": "2022-04-24T16:46:32.466415Z",
     "shell.execute_reply": "2022-04-24T16:46:32.465908Z",
     "shell.execute_reply.started": "2022-04-24T16:19:56.356478Z"
    },
    "papermill": {
     "duration": 0.123309,
     "end_time": "2022-04-24T16:46:32.466566",
     "exception": false,
     "start_time": "2022-04-24T16:46:32.343257",
     "status": "completed"
    },
    "tags": []
   },
   "outputs": [],
   "source": [
    "def load_vocab(vocab_file):\n",
    "  \"\"\"Loads a vocabulary file into a dictionary.\"\"\"\n",
    "  vocab = collections.OrderedDict()\n",
    "  index = 0\n",
    "  #with tf.gfile.GFile(vocab_file, \"r\") as reader:\n",
    "  with tf.io.gfile.GFile(vocab_file, \"r\") as reader:\n",
    "    while True:\n",
    "      token = convert_to_unicode(reader.readline())\n",
    "      if not token:\n",
    "        break\n",
    "      token = (token.strip()).split(\"\\t\")\n",
    "      vocab[token[0]] = index\n",
    "      index += 1\n",
    "  print(\"\\nVocab loading done!\")\n",
    "  return vocab"
   ]
  },
  {
   "cell_type": "code",
   "execution_count": 12,
   "id": "9d706289",
   "metadata": {
    "execution": {
     "iopub.execute_input": "2022-04-24T16:46:32.709286Z",
     "iopub.status.busy": "2022-04-24T16:46:32.708351Z",
     "iopub.status.idle": "2022-04-24T16:46:32.711369Z",
     "shell.execute_reply": "2022-04-24T16:46:32.711911Z",
     "shell.execute_reply.started": "2022-04-24T16:19:56.367315Z"
    },
    "papermill": {
     "duration": 0.133919,
     "end_time": "2022-04-24T16:46:32.712069",
     "exception": false,
     "start_time": "2022-04-24T16:46:32.578150",
     "status": "completed"
    },
    "tags": []
   },
   "outputs": [],
   "source": [
    "class WordpieceTokenizer(object):\n",
    "  \"\"\"Runs WordPiece tokenziation.\"\"\"\n",
    "\n",
    "  def __init__(self, vocab, unk_token=\"[UNK]\", max_input_chars_per_word=200):\n",
    "    self.vocab = vocab\n",
    "    self.unk_token = unk_token\n",
    "    self.max_input_chars_per_word = max_input_chars_per_word\n",
    "\n",
    "  def tokenize(self, text):\n",
    "    \"\"\"Tokenizes a piece of text into its word pieces.\n",
    "\n",
    "    This uses a greedy longest-match-first algorithm to perform tokenization\n",
    "    using the given vocabulary.\n",
    "\n",
    "    For example:\n",
    "      input = \"unaffable\"\n",
    "      output = [\"un\", \"##aff\", \"##able\"]\n",
    "\n",
    "    Args:\n",
    "      text: A single token or whitespace separated tokens. This should have\n",
    "        already been passed through `BasicTokenizer.\n",
    "\n",
    "    Returns:\n",
    "      A list of wordpiece tokens.\n",
    "    \"\"\"\n",
    "\n",
    "    text = convert_to_unicode(text)\n",
    "\n",
    "    output_tokens = []\n",
    "    for token in whitespace_tokenize(text):\n",
    "      chars = list(token)\n",
    "      if len(chars) > self.max_input_chars_per_word:\n",
    "        output_tokens.append(self.unk_token)\n",
    "        #print(\"\\nunknown token inserted\")\n",
    "        continue\n",
    "\n",
    "      is_bad = False\n",
    "      start = 0\n",
    "      sub_tokens = []\n",
    "      while start < len(chars):\n",
    "        end = len(chars)\n",
    "        cur_substr = None\n",
    "        while start < end:\n",
    "          substr = \"\".join(chars[start:end])\n",
    "          if start > 0:\n",
    "            substr = \"##\" + substr\n",
    "          if substr in self.vocab:\n",
    "            cur_substr = substr\n",
    "            #print(\"\\nknown token inserted\", cur_substr)\n",
    "            break\n",
    "          end -= 1\n",
    "        if cur_substr is None:\n",
    "          is_bad = True\n",
    "          break\n",
    "        sub_tokens.append(cur_substr)\n",
    "        start = end\n",
    "\n",
    "      if is_bad:\n",
    "        output_tokens.append(self.unk_token)\n",
    "        #print(\"\\nunknown token inserted\") #This is where unknown tokens are being inserted\n",
    "      else:\n",
    "        output_tokens.extend(sub_tokens)\n",
    "    return output_tokens\n",
    "\n",
    "\n",
    "def _is_whitespace(char):\n",
    "  \"\"\"Checks whether `chars` is a whitespace character.\"\"\"\n",
    "  # \\t, \\n, and \\r are technically contorl characters but we treat them\n",
    "  # as whitespace since they are generally considered as such.\n",
    "  if char == \" \" or char == \"\\t\" or char == \"\\n\" or char == \"\\r\":\n",
    "    return True\n",
    "  cat = unicodedata.category(char)\n",
    "  if cat == \"Zs\":\n",
    "    return True\n",
    "  return False\n",
    "\n",
    "\n",
    "def _is_control(char):\n",
    "  \"\"\"Checks whether `chars` is a control character.\"\"\"\n",
    "  # These are technically control characters but we count them as whitespace\n",
    "  # characters.\n",
    "  if char == \"\\t\" or char == \"\\n\" or char == \"\\r\":\n",
    "    return False\n",
    "  cat = unicodedata.category(char)\n",
    "  if cat in (\"Cc\", \"Cf\"):\n",
    "    return True\n",
    "  return False\n",
    "\n",
    "\n",
    "def _is_punctuation(char):\n",
    "  \"\"\"Checks whether `chars` is a punctuation character.\"\"\"\n",
    "  cp = ord(char)\n",
    "  # We treat all non-letter/number ASCII as punctuation.\n",
    "  # Characters such as \"^\", \"$\", and \"`\" are not in the Unicode\n",
    "  # Punctuation class but we treat them as punctuation anyways, for\n",
    "  # consistency.\n",
    "  if ((cp >= 33 and cp <= 47) or (cp >= 58 and cp <= 64) or\n",
    "      (cp >= 91 and cp <= 96) or (cp >= 123 and cp <= 126)):\n",
    "    return True\n",
    "  cat = unicodedata.category(char)\n",
    "  if cat.startswith(\"P\"):\n",
    "    return True\n",
    "  return False"
   ]
  },
  {
   "cell_type": "code",
   "execution_count": 13,
   "id": "715b5711",
   "metadata": {
    "execution": {
     "iopub.execute_input": "2022-04-24T16:46:32.947303Z",
     "iopub.status.busy": "2022-04-24T16:46:32.946190Z",
     "iopub.status.idle": "2022-04-24T16:46:32.948733Z",
     "shell.execute_reply": "2022-04-24T16:46:32.949353Z",
     "shell.execute_reply.started": "2022-04-24T16:19:56.388084Z"
    },
    "papermill": {
     "duration": 0.125077,
     "end_time": "2022-04-24T16:46:32.949509",
     "exception": false,
     "start_time": "2022-04-24T16:46:32.824432",
     "status": "completed"
    },
    "tags": []
   },
   "outputs": [],
   "source": [
    "class FullTokenizer(object):\n",
    "  \"\"\"Runs end-to-end tokenziation.\"\"\"\n",
    "\n",
    "  def __init__(self, vocab_file, do_lower_case=True):\n",
    "    self.vocab = load_vocab(vocab_file)#Create Vocab dist with index 0\n",
    "    self.inv_vocab = {v: k for k, v in self.vocab.items()}#Get vocab dict with index as key and token as value\n",
    "    self.basic_tokenizer = BasicTokenizer(do_lower_case=do_lower_case)#Initialize the basic tokenizer \n",
    "    self.wordpiece_tokenizer = WordpieceTokenizer(vocab=self.vocab)\n",
    "\n",
    "  def tokenize(self, text):\n",
    "    split_tokens = []\n",
    "    for token in self.basic_tokenizer.tokenize(text):\n",
    "      #for sub_token in self.wordpiece_tokenizer.tokenize(token):\n",
    "        split_tokens.append(token)\n",
    "\n",
    "    return split_tokens\n",
    "\n",
    "  def convert_tokens_to_ids(self, tokens):\n",
    "    return convert_by_vocab(self.vocab, tokens)\n",
    "\n",
    "  def convert_ids_to_tokens(self, ids):\n",
    "    return convert_by_vocab(self.inv_vocab, ids)"
   ]
  },
  {
   "cell_type": "code",
   "execution_count": 14,
   "id": "154bd7e8",
   "metadata": {
    "execution": {
     "iopub.execute_input": "2022-04-24T16:46:33.175354Z",
     "iopub.status.busy": "2022-04-24T16:46:33.174729Z",
     "iopub.status.idle": "2022-04-24T16:46:33.367157Z",
     "shell.execute_reply": "2022-04-24T16:46:33.368098Z",
     "shell.execute_reply.started": "2022-04-24T16:19:56.399589Z"
    },
    "papermill": {
     "duration": 0.308324,
     "end_time": "2022-04-24T16:46:33.368333",
     "exception": false,
     "start_time": "2022-04-24T16:46:33.060009",
     "status": "completed"
    },
    "tags": []
   },
   "outputs": [
    {
     "name": "stdout",
     "output_type": "stream",
     "text": [
      "\n",
      "Vocab loading done!\n"
     ]
    }
   ],
   "source": [
    "tokenizer = FullTokenizer(\n",
    "      vocab_file='/kaggle/input/autoencoderdecoderonpmcembeddingvocab/Vocab.txt', do_lower_case=True)"
   ]
  },
  {
   "cell_type": "code",
   "execution_count": 15,
   "id": "598bc36e",
   "metadata": {
    "execution": {
     "iopub.execute_input": "2022-04-24T16:46:33.604593Z",
     "iopub.status.busy": "2022-04-24T16:46:33.599486Z",
     "iopub.status.idle": "2022-04-24T16:46:33.607861Z",
     "shell.execute_reply": "2022-04-24T16:46:33.607218Z",
     "shell.execute_reply.started": "2022-04-24T16:19:56.649843Z"
    },
    "papermill": {
     "duration": 0.123484,
     "end_time": "2022-04-24T16:46:33.608018",
     "exception": false,
     "start_time": "2022-04-24T16:46:33.484534",
     "status": "completed"
    },
    "tags": []
   },
   "outputs": [],
   "source": [
    "def convert_by_vocab(vocab, items):\n",
    "  \"\"\"Converts a sequence of [tokens|ids] using the vocab.\"\"\"\n",
    "  output = []\n",
    "  for item in items:\n",
    "    output.append(vocab[item])\n",
    "  return output\n",
    "\n",
    "\n",
    "def convert_tokens_to_ids(vocab, tokens):\n",
    "  return convert_by_vocab(vocab, tokens)\n",
    "\n",
    "\n",
    "def convert_ids_to_tokens(inv_vocab, ids):\n",
    "  return convert_by_vocab(inv_vocab, ids)\n",
    "\n",
    "\n",
    "def whitespace_tokenize(text):\n",
    "  \"\"\"Runs basic whitespace cleaning and splitting on a piece of text.\"\"\"\n",
    "  text = text.strip()\n",
    "  if not text:\n",
    "    return []\n",
    "  tokens = text.split()\n",
    "  return tokens"
   ]
  },
  {
   "cell_type": "code",
   "execution_count": 16,
   "id": "bb7ec358",
   "metadata": {
    "execution": {
     "iopub.execute_input": "2022-04-24T16:46:33.841475Z",
     "iopub.status.busy": "2022-04-24T16:46:33.840484Z",
     "iopub.status.idle": "2022-04-24T16:46:33.844260Z",
     "shell.execute_reply": "2022-04-24T16:46:33.844811Z",
     "shell.execute_reply.started": "2022-04-24T16:19:56.667007Z"
    },
    "papermill": {
     "duration": 0.123307,
     "end_time": "2022-04-24T16:46:33.844971",
     "exception": false,
     "start_time": "2022-04-24T16:46:33.721664",
     "status": "completed"
    },
    "tags": []
   },
   "outputs": [
    {
     "data": {
      "text/plain": [
       "['\\\\', 'this', 'is', 'the', 'string']"
      ]
     },
     "execution_count": 16,
     "metadata": {},
     "output_type": "execute_result"
    }
   ],
   "source": [
    "tokenizer.tokenize(\"\\This is the string\")"
   ]
  },
  {
   "cell_type": "code",
   "execution_count": 17,
   "id": "68ba76d0",
   "metadata": {
    "execution": {
     "iopub.execute_input": "2022-04-24T16:46:34.084404Z",
     "iopub.status.busy": "2022-04-24T16:46:34.083274Z",
     "iopub.status.idle": "2022-04-24T16:46:34.085893Z",
     "shell.execute_reply": "2022-04-24T16:46:34.086434Z",
     "shell.execute_reply.started": "2022-04-24T16:19:56.679882Z"
    },
    "papermill": {
     "duration": 0.128448,
     "end_time": "2022-04-24T16:46:34.086644",
     "exception": false,
     "start_time": "2022-04-24T16:46:33.958196",
     "status": "completed"
    },
    "tags": []
   },
   "outputs": [],
   "source": [
    "def cleanText(sentence):\n",
    "        sentence = re.sub(\n",
    "        r\"[\\*\\\"“”\\n\\\\…\\+\\-\\/\\=\\(\\)‘•:\\[\\]\\|’\\!;]\", \" \", str(sentence))\n",
    "        sentence = re.sub(r\"[ ]+\", \" \", sentence)\n",
    "        sentence = re.sub(r\"\\!+\", \"!\", sentence)\n",
    "        sentence = re.sub(r\"\\,+\", \",\", sentence)\n",
    "        sentence = re.sub(r\"\\?+\", \"?\", sentence)\n",
    "        sentence = re.sub(r'[0-9]', \" \", sentence)\n",
    "        sentence = re.sub(r'[^\\w\\s]','',sentence)\n",
    "        sentence = re.sub(r'(?:^| )\\w(?:$| )', ' ', (sentence)).strip()#AKS\n",
    "        sentence = sentence.lower()\n",
    "        #return [tok.text for tok in self.nlp.tokenizer(sentence) if tok.text != \" \"]\n",
    "        return sentence"
   ]
  },
  {
   "cell_type": "code",
   "execution_count": 18,
   "id": "43ab5522",
   "metadata": {
    "execution": {
     "iopub.execute_input": "2022-04-24T16:46:34.322134Z",
     "iopub.status.busy": "2022-04-24T16:46:34.321200Z",
     "iopub.status.idle": "2022-04-24T16:46:34.324165Z",
     "shell.execute_reply": "2022-04-24T16:46:34.324808Z",
     "shell.execute_reply.started": "2022-04-24T16:19:56.689239Z"
    },
    "papermill": {
     "duration": 0.123682,
     "end_time": "2022-04-24T16:46:34.325013",
     "exception": false,
     "start_time": "2022-04-24T16:46:34.201331",
     "status": "completed"
    },
    "tags": []
   },
   "outputs": [],
   "source": [
    "def processTextIntoSentences(text):\n",
    "    if(not len(text)):\n",
    "        print(\"\\nGiven string is empty. Please check again\")\n",
    "    sentenceSize  = 125\n",
    "    #sentenceSize = 256\n",
    "    line = convert_to_unicode(text)\n",
    "    line  = cleanText(text)\n",
    "    tokens = tokenizer.tokenize(line)\n",
    "    #print(\"\\nTokens\", tokens)\n",
    "    if(tokens):\n",
    "        all_tokens = [tokens[i: i+sentenceSize] for i in range(0, len(tokens), sentenceSize)]\n",
    "        #print(\"\\nbatched tokens\", len(all_tokens), all_tokens)\n",
    "        processedTokens = []\n",
    "        for token_ in all_tokens:\n",
    "            processedTokens.append(\" \".join(token_))\n",
    "        #print(len(processedTokens[1].split()))\n",
    "        return (\"|\".join(processedTokens))\n",
    "    \n",
    "            \n",
    "        "
   ]
  },
  {
   "cell_type": "code",
   "execution_count": 19,
   "id": "716338e1",
   "metadata": {
    "execution": {
     "iopub.execute_input": "2022-04-24T16:46:34.557393Z",
     "iopub.status.busy": "2022-04-24T16:46:34.556368Z",
     "iopub.status.idle": "2022-04-24T16:46:34.561140Z",
     "shell.execute_reply": "2022-04-24T16:46:34.561670Z",
     "shell.execute_reply.started": "2022-04-24T16:19:56.701759Z"
    },
    "papermill": {
     "duration": 0.122482,
     "end_time": "2022-04-24T16:46:34.561871",
     "exception": false,
     "start_time": "2022-04-24T16:46:34.439389",
     "status": "completed"
    },
    "tags": []
   },
   "outputs": [],
   "source": [
    "#processTextIntoSentences(a)"
   ]
  },
  {
   "cell_type": "code",
   "execution_count": 20,
   "id": "01b44ab9",
   "metadata": {
    "execution": {
     "iopub.execute_input": "2022-04-24T16:46:34.928790Z",
     "iopub.status.busy": "2022-04-24T16:46:34.927653Z",
     "iopub.status.idle": "2022-04-24T16:52:18.031440Z",
     "shell.execute_reply": "2022-04-24T16:52:18.030419Z",
     "shell.execute_reply.started": "2022-04-24T16:19:56.709679Z"
    },
    "papermill": {
     "duration": 343.330349,
     "end_time": "2022-04-24T16:52:18.031593",
     "exception": false,
     "start_time": "2022-04-24T16:46:34.701244",
     "status": "completed"
    },
    "tags": []
   },
   "outputs": [],
   "source": [
    "data['processedText'] = data.apply(lambda x:processTextIntoSentences(x['clean_text']) , axis=1)"
   ]
  },
  {
   "cell_type": "code",
   "execution_count": 21,
   "id": "9efb7a94",
   "metadata": {
    "execution": {
     "iopub.execute_input": "2022-04-24T16:52:18.268715Z",
     "iopub.status.busy": "2022-04-24T16:52:18.267740Z",
     "iopub.status.idle": "2022-04-24T16:52:18.271594Z",
     "shell.execute_reply": "2022-04-24T16:52:18.272167Z",
     "shell.execute_reply.started": "2022-04-24T16:24:49.418625Z"
    },
    "papermill": {
     "duration": 0.125067,
     "end_time": "2022-04-24T16:52:18.272340",
     "exception": false,
     "start_time": "2022-04-24T16:52:18.147273",
     "status": "completed"
    },
    "tags": []
   },
   "outputs": [
    {
     "data": {
      "text/plain": [
       "((12000, 7),\n",
       " Index(['Unnamed: 0', 'TEXT', 'HADM_ID', 'ICD9_CODE', 'clean_text', 'top_ICD',\n",
       "        'processedText'],\n",
       "       dtype='object'),\n",
       " 125)"
      ]
     },
     "execution_count": 21,
     "metadata": {},
     "output_type": "execute_result"
    }
   ],
   "source": [
    "data.shape, data.columns, len((data['processedText'][0]).split('|')[0].split())"
   ]
  },
  {
   "cell_type": "markdown",
   "id": "949c98c4",
   "metadata": {
    "papermill": {
     "duration": 0.224492,
     "end_time": "2022-04-24T16:52:18.654011",
     "exception": false,
     "start_time": "2022-04-24T16:52:18.429519",
     "status": "completed"
    },
    "tags": []
   },
   "source": [
    "### Build the vocabulary on training dataset"
   ]
  },
  {
   "cell_type": "markdown",
   "id": "c92c884f",
   "metadata": {
    "papermill": {
     "duration": 0.208208,
     "end_time": "2022-04-24T16:52:19.063107",
     "exception": false,
     "start_time": "2022-04-24T16:52:18.854899",
     "status": "completed"
    },
    "tags": []
   },
   "source": []
  },
  {
   "cell_type": "code",
   "execution_count": 22,
   "id": "74d8ce80",
   "metadata": {
    "execution": {
     "iopub.execute_input": "2022-04-24T16:52:19.444929Z",
     "iopub.status.busy": "2022-04-24T16:52:19.443097Z",
     "iopub.status.idle": "2022-04-24T16:52:19.445939Z",
     "shell.execute_reply": "2022-04-24T16:52:19.443994Z",
     "shell.execute_reply.started": "2022-04-24T16:24:49.427560Z"
    },
    "papermill": {
     "duration": 0.196385,
     "end_time": "2022-04-24T16:52:19.446120",
     "exception": false,
     "start_time": "2022-04-24T16:52:19.249735",
     "status": "completed"
    },
    "tags": []
   },
   "outputs": [],
   "source": [
    "import pickle\n",
    "import tqdm\n",
    "from collections import Counter"
   ]
  },
  {
   "cell_type": "code",
   "execution_count": 23,
   "id": "1483c9d9",
   "metadata": {
    "execution": {
     "iopub.execute_input": "2022-04-24T16:52:19.825834Z",
     "iopub.status.busy": "2022-04-24T16:52:19.824782Z",
     "iopub.status.idle": "2022-04-24T16:52:19.832211Z",
     "shell.execute_reply": "2022-04-24T16:52:19.833061Z",
     "shell.execute_reply.started": "2022-04-24T16:24:49.439410Z"
    },
    "papermill": {
     "duration": 0.203809,
     "end_time": "2022-04-24T16:52:19.833825",
     "exception": false,
     "start_time": "2022-04-24T16:52:19.630016",
     "status": "completed"
    },
    "tags": []
   },
   "outputs": [
    {
     "data": {
      "text/plain": [
       "'admission date discharge date of birth sex name lf surgical or invasive of present poorly controlled type diabetes mellitus htn gastroparesis ckd and retinopathy for orthostatic hypotension date range dka hospitalizations in and d history of worsening nausea vomiting emesis chills and dyspnea on exertion she had fall and hit her right face she also had diarrhea which resolved early last week found to be in ag and bicarb in the ed inital vitals were ra hco anion gap cr baseline she her rd ns insulin srip at on home at in am and at with difficult to control sugars been high given tartrate in ed she was started on an insulin drip at and also aspirin mg po and morphine mg ivx for pain|cxr was clear ekg nad review of systems otherwise negative past medical diabetes mellitis neuropathy nephropathy episodes of dka in and stage iii baseline cr vertebral fracture ejection lives at home in location un with her yo daughter she has no history of etoh tobacco or illicit she is currently unemployed and seeking disability family parents have htn and tdm grandfather had an mi in awake alert and mmm no jvd neck supple no cervical rrr ss normal systolic ejection murmur at the upper sternal border pulm with no crackles or wheezes abd bs soft nt no no hsm no doctor last name wwp no edema radials dps pts skin no rashes or bruising no skin tenting neuro cns intact upper extremities power le left|power right power reduced sensation distal le to ankles pertinent labs rbc hgb hct mcv plt alk phos tot bili glucose urea creat sodium potassium cl discharge labs rbc hgb hct mcv plt creat na cl phos mg no evidence of pneumonia or other effusions no pulmonary edema normal size of microbiology urine culture negative blood cultures no date stool for hospital course yo with htn poorly controlled type dm cb nephropathy ckd retinopathy presents with hypertension sbp to diabetic ketoacidosis patient controls diabetes at home ss and long acting levemir sugars at home been in in the ed glucose was ua was ve corrected to but rose again to she with an insulin drip which was transitioned to subq tolerated pos her electrolytes were|repleted and aggressive volume resuscitation last name un saw her sliding scale recommendations which were implemented for dka found to be gastroparesis with ativan and promethazine she on her home insulin and sliding scale to followup with last name un htn hypertensive with sbp in initially attributed as she has experienced in the past as she improved pressures normalized and she was restarted on her and midodrine regimen coffee grounds emesis emesis started off as clear then she started having vomiting this had also occurred on prior admissions for dka vomiting her hematocrit remained stable and and so workup was deferred to setting acute on chronic kidney disease stage iii patients cr was trending down to following with her known ckd secondary to diabetic nephropathy|medications on admission citalopram mg tablet sig one tablet po daily daily levemir solution sig twenty two every am levemir solution sig twelve at bedtime humalog solution sig sliding scale as four times day please use sliding scale by md first name last name titles metoprolol tartrate mg tablet sig tablets po take in the evening promethazine mg tablet sig tablet po qh every as needed for nausea gabapentin mg capsule sig one capsule po qh every hours disp capsules refills duloxetine mg capsule delayed sig two delayed po daily daily please capsule daily mg for first weeks of treatment disp capsule delayed refills oxycodone mg capsule sig one capsule po every eight hours as needed for pain midodrine mg tablet sig tablets po every|four can hold while sleeping disp tablets medications citalopram mg tablet sig one tablet po daily daily gabapentin mg capsule sig one capsule po qh every hours duloxetine mg capsule delayed sig one delayed po daily daily metoprolol tartrate mg tablet sig three tablet daily at pm midodrine mg tablet sig three tablet po levemir solution sig as directed by last name un as directed discharge blood in your renal status clear and coherent level of consciousness alert and interactive activity status ambulatory independent discharge were admitted to the hospital with dka hypertension in your vomit you were initially treated in the icu insulin drip and your blood sugars improved your medications were adjusted to better control your while you were in dka but you|were restarted on regimen at discharge the blood in your vomit was to mechanical trauma from repeated but followup with your primary care doctor to you should undergo further evaluation such as an given your complaints of chronic cough and should also discuss beginning trial of proton such as nexium or prilosec to see if this helps your insulin regimen was adjusted by the last name un team while here you should continue to followup with them with or concerns regarding your insulin management followup call name office to schedule within days of discharge her office number you should also continue to followup with your last name un needed'"
      ]
     },
     "execution_count": 23,
     "metadata": {},
     "output_type": "execute_result"
    }
   ],
   "source": [
    "((list(data['processedText']))[0])"
   ]
  },
  {
   "cell_type": "code",
   "execution_count": 24,
   "id": "2d2ac460",
   "metadata": {
    "execution": {
     "iopub.execute_input": "2022-04-24T16:52:20.140207Z",
     "iopub.status.busy": "2022-04-24T16:52:20.129762Z",
     "iopub.status.idle": "2022-04-24T16:52:20.186985Z",
     "shell.execute_reply": "2022-04-24T16:52:20.185758Z",
     "shell.execute_reply.started": "2022-04-24T16:24:49.454834Z"
    },
    "papermill": {
     "duration": 0.207208,
     "end_time": "2022-04-24T16:52:20.187149",
     "exception": false,
     "start_time": "2022-04-24T16:52:19.979941",
     "status": "completed"
    },
    "tags": []
   },
   "outputs": [],
   "source": [
    "texts = ''\n",
    "trainingDocs = list(data['processedText'])\n",
    "for doc in trainingDocs:\n",
    "    texts = texts + doc\n"
   ]
  },
  {
   "cell_type": "code",
   "execution_count": 25,
   "id": "a35de989",
   "metadata": {
    "execution": {
     "iopub.execute_input": "2022-04-24T16:52:21.944958Z",
     "iopub.status.busy": "2022-04-24T16:52:21.943869Z",
     "iopub.status.idle": "2022-04-24T16:52:21.951587Z",
     "shell.execute_reply": "2022-04-24T16:52:21.952771Z",
     "shell.execute_reply.started": "2022-04-24T16:24:49.549936Z"
    },
    "papermill": {
     "duration": 1.646913,
     "end_time": "2022-04-24T16:52:21.953174",
     "exception": false,
     "start_time": "2022-04-24T16:52:20.306261",
     "status": "completed"
    },
    "tags": []
   },
   "outputs": [
    {
     "data": {
      "text/plain": [
       "13339980"
      ]
     },
     "execution_count": 25,
     "metadata": {},
     "output_type": "execute_result"
    }
   ],
   "source": [
    "len(texts.split())"
   ]
  },
  {
   "cell_type": "code",
   "execution_count": 26,
   "id": "c9800fdc",
   "metadata": {
    "execution": {
     "iopub.execute_input": "2022-04-24T16:52:22.376020Z",
     "iopub.status.busy": "2022-04-24T16:52:22.370836Z",
     "iopub.status.idle": "2022-04-24T16:52:22.389213Z",
     "shell.execute_reply": "2022-04-24T16:52:22.388342Z",
     "shell.execute_reply.started": "2022-04-24T16:24:50.856489Z"
    },
    "papermill": {
     "duration": 0.2096,
     "end_time": "2022-04-24T16:52:22.389338",
     "exception": false,
     "start_time": "2022-04-24T16:52:22.179738",
     "status": "completed"
    },
    "tags": []
   },
   "outputs": [],
   "source": [
    "class TorchVocab(object):\n",
    "    \"\"\"Defines a vocabulary object that will be used to numericalize a field.\n",
    "    Attributes:\n",
    "        freqs: A collections.Counter object holding the frequencies of tokens\n",
    "            in the data used to build the Vocab.\n",
    "        stoi: A collections.defaultdict instance mapping token strings to\n",
    "            numerical identifiers.\n",
    "        itos: A list of token strings indexed by their numerical identifiers.\n",
    "    \"\"\"\n",
    "\n",
    "    def __init__(self, counter, max_size=None, min_freq=1, specials=['<pad>', '<oov>'],\n",
    "                 vectors=None, unk_init=None, vectors_cache=None):\n",
    "        \"\"\"Create a Vocab object from a collections.Counter.\n",
    "        Arguments:\n",
    "            counter: collections.Counter object holding the frequencies of\n",
    "                each value found in the data.\n",
    "            max_size: The maximum size of the vocabulary, or None for no\n",
    "                maximum. Default: None.\n",
    "            min_freq: The minimum frequency needed to include a token in the\n",
    "                vocabulary. Values less than 1 will be set to 1. Default: 1.\n",
    "            specials: The list of special tokens (e.g., padding or eos) that\n",
    "                will be prepended to the vocabulary in addition to an <unk>\n",
    "                token. Default: ['<pad>']\n",
    "            vectors: One of either the available pretrained vectors\n",
    "                or custom pretrained vectors (see Vocab.load_vectors);\n",
    "                or a list of aforementioned vectors\n",
    "            unk_init (callback): by default, initialize out-of-vocabulary word vectors\n",
    "                to zero vectors; can be any function that takes in a Tensor and\n",
    "                returns a Tensor of the same size. Default: torch.Tensor.zero_\n",
    "            vectors_cache: directory for cached vectors. Default: '.vector_cache'\n",
    "        \"\"\"\n",
    "        self.freqs = counter\n",
    "        counter = counter.copy()\n",
    "        min_freq = max(min_freq, 1)\n",
    "\n",
    "        self.itos = list(specials)\n",
    "        # frequencies of special tokens are not counted when building vocabulary\n",
    "        # in frequency order\n",
    "        for tok in specials:\n",
    "            del counter[tok]\n",
    "\n",
    "        max_size = None if max_size is None else max_size + len(self.itos)\n",
    "\n",
    "        # sort by frequency, then alphabetically\n",
    "        words_and_frequencies = sorted(counter.items(), key=lambda tup: tup[0])\n",
    "        words_and_frequencies.sort(key=lambda tup: tup[1], reverse=True)\n",
    "\n",
    "        for word, freq in words_and_frequencies:\n",
    "            if freq < min_freq or len(self.itos) == max_size:\n",
    "                break\n",
    "            self.itos.append(word)\n",
    "\n",
    "        # stoi is simply a reverse dict for itos\n",
    "        self.stoi = {tok: i for i, tok in enumerate(self.itos)}\n",
    "\n",
    "        self.vectors = None\n",
    "        if vectors is not None:\n",
    "            self.load_vectors(vectors, unk_init=unk_init, cache=vectors_cache)\n",
    "        else:\n",
    "            assert unk_init is None and vectors_cache is None\n",
    "\n",
    "    def __eq__(self, other):\n",
    "        if self.freqs != other.freqs:\n",
    "            return False\n",
    "        if self.stoi != other.stoi:\n",
    "            return False\n",
    "        if self.itos != other.itos:\n",
    "            return False\n",
    "        if self.vectors != other.vectors:\n",
    "            return False\n",
    "        return True\n",
    "\n",
    "    def __len__(self):\n",
    "        return len(self.itos)\n",
    "\n",
    "    def vocab_rerank(self):\n",
    "        self.stoi = {word: i for i, word in enumerate(self.itos)}\n",
    "\n",
    "    def extend(self, v, sort=False):\n",
    "        words = sorted(v.itos) if sort else v.itos\n",
    "        for w in words:\n",
    "            if w not in self.stoi:\n",
    "                self.itos.append(w)\n",
    "                self.stoi[w] = len(self.itos) - 1\n",
    "\n",
    "\n",
    "class Vocab(TorchVocab):\n",
    "    def __init__(self, counter, max_size=None, min_freq=1):\n",
    "        self.pad_index = 0\n",
    "        self.unk_index = 1\n",
    "        self.eos_index = 2\n",
    "        self.sos_index = 3\n",
    "        self.mask_index = 4\n",
    "        super().__init__(counter, specials=[\"<pad>\", \"<unk>\", \"<eos>\", \"<sos>\", \"<mask>\"],\n",
    "                         max_size=max_size, min_freq=min_freq)\n",
    "\n",
    "    def to_seq(self, sentece, seq_len, with_eos=False, with_sos=False) -> list:\n",
    "        pass\n",
    "\n",
    "    def from_seq(self, seq, join=False, with_pad=False):\n",
    "        pass\n",
    "\n",
    "    @staticmethod\n",
    "    def load_vocab(vocab_path: str) -> 'Vocab':\n",
    "        with open(vocab_path, \"rb\") as f:\n",
    "            return pickle.load(f)\n",
    "\n",
    "    def save_vocab(self, vocab_path):\n",
    "        with open(vocab_path, \"wb\") as f:\n",
    "            pickle.dump(self, f)\n",
    "\n",
    "\n",
    "# Building Vocab with text files\n",
    "class WordVocab(Vocab):\n",
    "    def __init__(self, texts, max_size=None, min_freq=1):\n",
    "        print(\"Building Vocab\")\n",
    "        counter = Counter()\n",
    "        count = 0\n",
    "        words = ((texts.replace(\"\\n\", \"\").replace(\"\\t\", \"\")).replace(\"|\",\" \")).split()\n",
    "        for word in words:\n",
    "            counter[word] += 1\n",
    "            count += 1\n",
    "        print(\"\\nTotal line\", count)\n",
    "        super().__init__(counter, max_size=max_size, min_freq=min_freq)\n",
    "\n",
    "    def to_seq(self, sentence, seq_len=None, with_eos=False, with_sos=False, with_len=False):\n",
    "        if isinstance(sentence, str):\n",
    "            sentence = sentence.split()\n",
    "\n",
    "        seq = [self.stoi.get(word, self.unk_index) for word in sentence]\n",
    "\n",
    "        if with_eos:\n",
    "            seq += [self.eos_index]  # this would be index 1\n",
    "        if with_sos:\n",
    "            seq = [self.sos_index] + seq\n",
    "\n",
    "        origin_seq_len = len(seq)\n",
    "\n",
    "        if seq_len is None:\n",
    "            pass\n",
    "        elif len(seq) <= seq_len:\n",
    "            seq += [self.pad_index for _ in range(seq_len - len(seq))]\n",
    "        else:\n",
    "            seq = seq[:seq_len]\n",
    "\n",
    "        return (seq, origin_seq_len) if with_len else seq\n",
    "\n",
    "    def from_seq(self, seq, join=False, with_pad=False):\n",
    "        words = [self.itos[idx]\n",
    "                 if idx < len(self.itos)\n",
    "                 else \"<%d>\" % idx\n",
    "                 for idx in seq\n",
    "                 if not with_pad or idx != self.pad_index]\n",
    "\n",
    "        return \" \".join(words) if join else words\n",
    "\n",
    "    @staticmethod\n",
    "    def load_vocab(vocab_path: str) -> 'WordVocab':\n",
    "        with open(vocab_path, \"rb\") as f:\n",
    "            return pickle.load(f)"
   ]
  },
  {
   "cell_type": "code",
   "execution_count": 27,
   "id": "a3388b08",
   "metadata": {
    "execution": {
     "iopub.execute_input": "2022-04-24T16:52:23.999366Z",
     "iopub.status.busy": "2022-04-24T16:52:23.989460Z",
     "iopub.status.idle": "2022-04-24T16:52:30.469611Z",
     "shell.execute_reply": "2022-04-24T16:52:30.470333Z",
     "shell.execute_reply.started": "2022-04-24T16:24:50.901386Z"
    },
    "papermill": {
     "duration": 7.966141,
     "end_time": "2022-04-24T16:52:30.470524",
     "exception": false,
     "start_time": "2022-04-24T16:52:22.504383",
     "status": "completed"
    },
    "tags": []
   },
   "outputs": [
    {
     "name": "stdout",
     "output_type": "stream",
     "text": [
      "Building Vocab\n",
      "\n",
      "Total line 13441513\n"
     ]
    }
   ],
   "source": [
    "newvocab = WordVocab(texts,100000,1)"
   ]
  },
  {
   "cell_type": "code",
   "execution_count": 28,
   "id": "8b34e474",
   "metadata": {
    "execution": {
     "iopub.execute_input": "2022-04-24T16:52:30.706482Z",
     "iopub.status.busy": "2022-04-24T16:52:30.705585Z",
     "iopub.status.idle": "2022-04-24T16:52:30.709010Z",
     "shell.execute_reply": "2022-04-24T16:52:30.709610Z",
     "shell.execute_reply.started": "2022-04-24T16:24:57.389462Z"
    },
    "papermill": {
     "duration": 0.124066,
     "end_time": "2022-04-24T16:52:30.709774",
     "exception": false,
     "start_time": "2022-04-24T16:52:30.585708",
     "status": "completed"
    },
    "tags": []
   },
   "outputs": [
    {
     "data": {
      "text/plain": [
       "dict"
      ]
     },
     "execution_count": 28,
     "metadata": {},
     "output_type": "execute_result"
    }
   ],
   "source": [
    "type(newvocab.stoi)"
   ]
  },
  {
   "cell_type": "code",
   "execution_count": 29,
   "id": "edd13f28",
   "metadata": {
    "execution": {
     "iopub.execute_input": "2022-04-24T16:52:30.947912Z",
     "iopub.status.busy": "2022-04-24T16:52:30.946920Z",
     "iopub.status.idle": "2022-04-24T16:52:30.982099Z",
     "shell.execute_reply": "2022-04-24T16:52:30.982652Z",
     "shell.execute_reply.started": "2022-04-24T16:24:57.401160Z"
    },
    "papermill": {
     "duration": 0.158356,
     "end_time": "2022-04-24T16:52:30.982811",
     "exception": false,
     "start_time": "2022-04-24T16:52:30.824455",
     "status": "completed"
    },
    "tags": []
   },
   "outputs": [],
   "source": [
    "with open('vocabOn30k2minFreqNew.txt' , 'w') as f:\n",
    "    for key, val in (newvocab.stoi).items():\n",
    "        f.write(\"%s\\t%s\\n\"%(key,val))"
   ]
  },
  {
   "cell_type": "code",
   "execution_count": 30,
   "id": "748318a9",
   "metadata": {
    "execution": {
     "iopub.execute_input": "2022-04-24T16:52:31.244176Z",
     "iopub.status.busy": "2022-04-24T16:52:31.242729Z",
     "iopub.status.idle": "2022-04-24T16:52:31.248660Z",
     "shell.execute_reply": "2022-04-24T16:52:31.249147Z",
     "shell.execute_reply.started": "2022-04-24T16:24:57.435070Z"
    },
    "papermill": {
     "duration": 0.150998,
     "end_time": "2022-04-24T16:52:31.249297",
     "exception": false,
     "start_time": "2022-04-24T16:52:31.098299",
     "status": "completed"
    },
    "tags": []
   },
   "outputs": [],
   "source": [
    "newvocab.save_vocab('vocabOn30k2minfreqNew.txt')"
   ]
  },
  {
   "cell_type": "code",
   "execution_count": 31,
   "id": "61c07e23",
   "metadata": {
    "execution": {
     "iopub.execute_input": "2022-04-24T16:52:31.483695Z",
     "iopub.status.busy": "2022-04-24T16:52:31.482619Z",
     "iopub.status.idle": "2022-04-24T16:52:31.507087Z",
     "shell.execute_reply": "2022-04-24T16:52:31.507705Z",
     "shell.execute_reply.started": "2022-04-24T16:24:57.466653Z"
    },
    "papermill": {
     "duration": 0.144086,
     "end_time": "2022-04-24T16:52:31.507880",
     "exception": false,
     "start_time": "2022-04-24T16:52:31.363794",
     "status": "completed"
    },
    "tags": []
   },
   "outputs": [
    {
     "data": {
      "text/plain": [
       "36841"
      ]
     },
     "execution_count": 31,
     "metadata": {},
     "output_type": "execute_result"
    }
   ],
   "source": [
    "vocab = WordVocab.load_vocab('vocabOn30k2minfreqNew.txt')\n",
    "len(newvocab.stoi)"
   ]
  },
  {
   "cell_type": "code",
   "execution_count": 32,
   "id": "81864dd3",
   "metadata": {
    "execution": {
     "iopub.execute_input": "2022-04-24T16:52:31.745952Z",
     "iopub.status.busy": "2022-04-24T16:52:31.744428Z",
     "iopub.status.idle": "2022-04-24T16:52:31.748524Z",
     "shell.execute_reply": "2022-04-24T16:52:31.749069Z",
     "shell.execute_reply.started": "2022-04-24T16:24:57.493248Z"
    },
    "papermill": {
     "duration": 0.122526,
     "end_time": "2022-04-24T16:52:31.749216",
     "exception": false,
     "start_time": "2022-04-24T16:52:31.626690",
     "status": "completed"
    },
    "tags": []
   },
   "outputs": [],
   "source": [
    "#with open('vocabOn30k2minfreqNew.txt', \"rb\") as f:\n",
    "    #print(len(f))"
   ]
  },
  {
   "cell_type": "code",
   "execution_count": 33,
   "id": "e7924c8d",
   "metadata": {
    "execution": {
     "iopub.execute_input": "2022-04-24T16:52:31.983317Z",
     "iopub.status.busy": "2022-04-24T16:52:31.982621Z",
     "iopub.status.idle": "2022-04-24T16:52:31.986532Z",
     "shell.execute_reply": "2022-04-24T16:52:31.985988Z",
     "shell.execute_reply.started": "2022-04-24T16:24:57.500834Z"
    },
    "papermill": {
     "duration": 0.122543,
     "end_time": "2022-04-24T16:52:31.986657",
     "exception": false,
     "start_time": "2022-04-24T16:52:31.864114",
     "status": "completed"
    },
    "tags": []
   },
   "outputs": [],
   "source": [
    "#newvocab.counter"
   ]
  },
  {
   "cell_type": "code",
   "execution_count": 34,
   "id": "db1ff0e9",
   "metadata": {
    "execution": {
     "iopub.execute_input": "2022-04-24T16:52:32.220214Z",
     "iopub.status.busy": "2022-04-24T16:52:32.218744Z",
     "iopub.status.idle": "2022-04-24T16:52:32.224812Z",
     "shell.execute_reply": "2022-04-24T16:52:32.224281Z",
     "shell.execute_reply.started": "2022-04-24T16:24:57.509062Z"
    },
    "papermill": {
     "duration": 0.123564,
     "end_time": "2022-04-24T16:52:32.224943",
     "exception": false,
     "start_time": "2022-04-24T16:52:32.101379",
     "status": "completed"
    },
    "tags": []
   },
   "outputs": [
    {
     "data": {
      "text/plain": [
       "'admission date discharge date of birth sex name lf surgical or invasive of present poorly controlled type diabetes mellitus htn gastroparesis ckd and retinopathy for orthostatic hypotension date range dka hospitalizations in and d history of worsening nausea vomiting emesis chills and dyspnea on exertion she had fall and hit her right face she also had diarrhea which resolved early last week found to be in ag and bicarb in the ed inital vitals were ra hco anion gap cr baseline she her rd ns insulin srip at on home at in am and at with difficult to control sugars been high given tartrate in ed she was started on an insulin drip at and also aspirin mg po and morphine mg ivx for pain|cxr was clear ekg nad review of systems otherwise negative past medical diabetes mellitis neuropathy nephropathy episodes of dka in and stage iii baseline cr vertebral fracture ejection lives at home in location un with her yo daughter she has no history of etoh tobacco or illicit she is currently unemployed and seeking disability family parents have htn and tdm grandfather had an mi in awake alert and mmm no jvd neck supple no cervical rrr ss normal systolic ejection murmur at the upper sternal border pulm with no crackles or wheezes abd bs soft nt no no hsm no doctor last name wwp no edema radials dps pts skin no rashes or bruising no skin tenting neuro cns intact upper extremities power le left|power right power reduced sensation distal le to ankles pertinent labs rbc hgb hct mcv plt alk phos tot bili glucose urea creat sodium potassium cl discharge labs rbc hgb hct mcv plt creat na cl phos mg no evidence of pneumonia or other effusions no pulmonary edema normal size of microbiology urine culture negative blood cultures no date stool for hospital course yo with htn poorly controlled type dm cb nephropathy ckd retinopathy presents with hypertension sbp to diabetic ketoacidosis patient controls diabetes at home ss and long acting levemir sugars at home been in in the ed glucose was ua was ve corrected to but rose again to she with an insulin drip which was transitioned to subq tolerated pos her electrolytes were|repleted and aggressive volume resuscitation last name un saw her sliding scale recommendations which were implemented for dka found to be gastroparesis with ativan and promethazine she on her home insulin and sliding scale to followup with last name un htn hypertensive with sbp in initially attributed as she has experienced in the past as she improved pressures normalized and she was restarted on her and midodrine regimen coffee grounds emesis emesis started off as clear then she started having vomiting this had also occurred on prior admissions for dka vomiting her hematocrit remained stable and and so workup was deferred to setting acute on chronic kidney disease stage iii patients cr was trending down to following with her known ckd secondary to diabetic nephropathy|medications on admission citalopram mg tablet sig one tablet po daily daily levemir solution sig twenty two every am levemir solution sig twelve at bedtime humalog solution sig sliding scale as four times day please use sliding scale by md first name last name titles metoprolol tartrate mg tablet sig tablets po take in the evening promethazine mg tablet sig tablet po qh every as needed for nausea gabapentin mg capsule sig one capsule po qh every hours disp capsules refills duloxetine mg capsule delayed sig two delayed po daily daily please capsule daily mg for first weeks of treatment disp capsule delayed refills oxycodone mg capsule sig one capsule po every eight hours as needed for pain midodrine mg tablet sig tablets po every|four can hold while sleeping disp tablets medications citalopram mg tablet sig one tablet po daily daily gabapentin mg capsule sig one capsule po qh every hours duloxetine mg capsule delayed sig one delayed po daily daily metoprolol tartrate mg tablet sig three tablet daily at pm midodrine mg tablet sig three tablet po levemir solution sig as directed by last name un as directed discharge blood in your renal status clear and coherent level of consciousness alert and interactive activity status ambulatory independent discharge were admitted to the hospital with dka hypertension in your vomit you were initially treated in the icu insulin drip and your blood sugars improved your medications were adjusted to better control your while you were in dka but you|were restarted on regimen at discharge the blood in your vomit was to mechanical trauma from repeated but followup with your primary care doctor to you should undergo further evaluation such as an given your complaints of chronic cough and should also discuss beginning trial of proton such as nexium or prilosec to see if this helps your insulin regimen was adjusted by the last name un team while here you should continue to followup with them with or concerns regarding your insulin management followup call name office to schedule within days of discharge her office number you should also continue to followup with your last name un needed'"
      ]
     },
     "execution_count": 34,
     "metadata": {},
     "output_type": "execute_result"
    }
   ],
   "source": [
    "data['processedText'][0]"
   ]
  },
  {
   "cell_type": "code",
   "execution_count": 35,
   "id": "b44102c9",
   "metadata": {
    "execution": {
     "iopub.execute_input": "2022-04-24T16:52:32.460405Z",
     "iopub.status.busy": "2022-04-24T16:52:32.459436Z",
     "iopub.status.idle": "2022-04-24T16:52:43.192288Z",
     "shell.execute_reply": "2022-04-24T16:52:43.191439Z",
     "shell.execute_reply.started": "2022-04-24T16:24:57.521074Z"
    },
    "papermill": {
     "duration": 10.852368,
     "end_time": "2022-04-24T16:52:43.192518",
     "exception": false,
     "start_time": "2022-04-24T16:52:32.340150",
     "status": "completed"
    },
    "tags": []
   },
   "outputs": [
    {
     "name": "stdout",
     "output_type": "stream",
     "text": [
      "Requirement already satisfied: torch in /opt/conda/lib/python3.7/site-packages (1.9.1)\r\n",
      "Requirement already satisfied: typing-extensions in /opt/conda/lib/python3.7/site-packages (from torch) (4.0.1)\r\n",
      "\u001b[33mWARNING: Running pip as the 'root' user can result in broken permissions and conflicting behaviour with the system package manager. It is recommended to use a virtual environment instead: https://pip.pypa.io/warnings/venv\u001b[0m\r\n"
     ]
    }
   ],
   "source": [
    "!pip install torch "
   ]
  },
  {
   "cell_type": "code",
   "execution_count": 36,
   "id": "f2363aea",
   "metadata": {
    "execution": {
     "iopub.execute_input": "2022-04-24T16:52:43.434610Z",
     "iopub.status.busy": "2022-04-24T16:52:43.433736Z",
     "iopub.status.idle": "2022-04-24T16:52:45.085625Z",
     "shell.execute_reply": "2022-04-24T16:52:45.084509Z",
     "shell.execute_reply.started": "2022-04-24T16:25:06.592137Z"
    },
    "papermill": {
     "duration": 1.774045,
     "end_time": "2022-04-24T16:52:45.085814",
     "exception": false,
     "start_time": "2022-04-24T16:52:43.311769",
     "status": "completed"
    },
    "tags": []
   },
   "outputs": [],
   "source": [
    "import torch.nn as nn\n",
    "import torch.nn.functional as F\n",
    "import torch\n",
    "import math"
   ]
  },
  {
   "cell_type": "code",
   "execution_count": 37,
   "id": "79ea5d1f",
   "metadata": {
    "execution": {
     "iopub.execute_input": "2022-04-24T16:52:45.322402Z",
     "iopub.status.busy": "2022-04-24T16:52:45.321338Z",
     "iopub.status.idle": "2022-04-24T16:52:45.970208Z",
     "shell.execute_reply": "2022-04-24T16:52:45.969428Z",
     "shell.execute_reply.started": "2022-04-24T16:25:07.920994Z"
    },
    "papermill": {
     "duration": 0.768735,
     "end_time": "2022-04-24T16:52:45.970353",
     "exception": false,
     "start_time": "2022-04-24T16:52:45.201618",
     "status": "completed"
    },
    "tags": []
   },
   "outputs": [],
   "source": [
    "import gensim\n",
    "from gensim.models.keyedvectors import KeyedVectors"
   ]
  },
  {
   "cell_type": "code",
   "execution_count": 38,
   "id": "4e52382a",
   "metadata": {
    "execution": {
     "iopub.execute_input": "2022-04-24T16:52:46.211798Z",
     "iopub.status.busy": "2022-04-24T16:52:46.210924Z",
     "iopub.status.idle": "2022-04-24T16:52:46.213929Z",
     "shell.execute_reply": "2022-04-24T16:52:46.214492Z",
     "shell.execute_reply.started": "2022-04-24T16:25:08.435893Z"
    },
    "papermill": {
     "duration": 0.124932,
     "end_time": "2022-04-24T16:52:46.214644",
     "exception": false,
     "start_time": "2022-04-24T16:52:46.089712",
     "status": "completed"
    },
    "tags": []
   },
   "outputs": [],
   "source": [
    "#!pip install pytorch torchvision torchaudio cudatoolkit=10.2 -c pytorch"
   ]
  },
  {
   "cell_type": "code",
   "execution_count": 39,
   "id": "1ce685cc",
   "metadata": {
    "execution": {
     "iopub.execute_input": "2022-04-24T16:52:46.455862Z",
     "iopub.status.busy": "2022-04-24T16:52:46.455203Z",
     "iopub.status.idle": "2022-04-24T16:52:46.459432Z",
     "shell.execute_reply": "2022-04-24T16:52:46.459944Z",
     "shell.execute_reply.started": "2022-04-24T16:25:08.441601Z"
    },
    "papermill": {
     "duration": 0.127608,
     "end_time": "2022-04-24T16:52:46.460100",
     "exception": false,
     "start_time": "2022-04-24T16:52:46.332492",
     "status": "completed"
    },
    "tags": []
   },
   "outputs": [],
   "source": [
    "class SegmentEmbedding(nn.Embedding):\n",
    "    def __init__(self, embed_size=512):\n",
    "        super().__init__(3, embed_size, padding_idx=0)"
   ]
  },
  {
   "cell_type": "code",
   "execution_count": 40,
   "id": "dedf50bd",
   "metadata": {
    "execution": {
     "iopub.execute_input": "2022-04-24T16:52:46.702894Z",
     "iopub.status.busy": "2022-04-24T16:52:46.701892Z",
     "iopub.status.idle": "2022-04-24T16:52:46.705010Z",
     "shell.execute_reply": "2022-04-24T16:52:46.704479Z",
     "shell.execute_reply.started": "2022-04-24T16:25:08.451248Z"
    },
    "papermill": {
     "duration": 0.128342,
     "end_time": "2022-04-24T16:52:46.705139",
     "exception": false,
     "start_time": "2022-04-24T16:52:46.576797",
     "status": "completed"
    },
    "tags": []
   },
   "outputs": [],
   "source": [
    "class PositionalEmbedding(nn.Module):\n",
    "\n",
    "    def __init__(self, d_model, max_len=256):\n",
    "        super().__init__()\n",
    "\n",
    "        # Compute the positional encodings once in log space.\n",
    "        pe = torch.zeros(max_len, d_model).float()\n",
    "        pe.require_grad = False\n",
    "\n",
    "        position = torch.arange(0, max_len).float().unsqueeze(1)\n",
    "        div_term = (torch.arange(0, d_model, 2).float() * -(math.log(10000.0) / d_model)).exp()\n",
    "\n",
    "        pe[:, 0::2] = torch.sin(position * div_term)\n",
    "        pe[:, 1::2] = torch.cos(position * div_term)\n",
    "\n",
    "        pe = pe.unsqueeze(0)\n",
    "        self.register_buffer('pe', pe)\n",
    "\n",
    "    def forward(self, x):\n",
    "        return self.pe[:, :x.size(1)]"
   ]
  },
  {
   "cell_type": "code",
   "execution_count": 41,
   "id": "6674e89f",
   "metadata": {
    "execution": {
     "iopub.execute_input": "2022-04-24T16:52:46.945039Z",
     "iopub.status.busy": "2022-04-24T16:52:46.943947Z",
     "iopub.status.idle": "2022-04-24T16:52:46.947295Z",
     "shell.execute_reply": "2022-04-24T16:52:46.946711Z",
     "shell.execute_reply.started": "2022-04-24T16:25:08.463118Z"
    },
    "papermill": {
     "duration": 0.125648,
     "end_time": "2022-04-24T16:52:46.947426",
     "exception": false,
     "start_time": "2022-04-24T16:52:46.821778",
     "status": "completed"
    },
    "tags": []
   },
   "outputs": [],
   "source": [
    "#newvocab.stoi.keys()\n"
   ]
  },
  {
   "cell_type": "code",
   "execution_count": 42,
   "id": "1572d172",
   "metadata": {
    "execution": {
     "iopub.execute_input": "2022-04-24T16:52:47.189846Z",
     "iopub.status.busy": "2022-04-24T16:52:47.189026Z",
     "iopub.status.idle": "2022-04-24T16:53:45.837662Z",
     "shell.execute_reply": "2022-04-24T16:53:45.836107Z",
     "shell.execute_reply.started": "2022-04-24T16:25:08.471857Z"
    },
    "papermill": {
     "duration": 58.773266,
     "end_time": "2022-04-24T16:53:45.837851",
     "exception": false,
     "start_time": "2022-04-24T16:52:47.064585",
     "status": "completed"
    },
    "tags": []
   },
   "outputs": [
    {
     "name": "stdout",
     "output_type": "stream",
     "text": [
      "Found 2515686 word vectors.\n",
      "(200,)\n",
      "words not found 4343 (36841, 200)\n"
     ]
    },
    {
     "data": {
      "text/plain": [
       "array([[-0.777801  ,  0.25912982,  0.14973439, ..., -0.26239011,\n",
       "        -0.45684998,  0.99075586],\n",
       "       [-0.020878  ,  0.65247675, -0.25346665, ...,  0.24662527,\n",
       "         0.52940128, -0.61485518],\n",
       "       [-0.19571768,  0.4843978 ,  1.02531592, ...,  0.52562846,\n",
       "        -0.31252194,  0.07389932],\n",
       "       ...,\n",
       "       [ 0.00479148,  0.01465072,  0.03300364, ...,  0.01149676,\n",
       "        -0.02512572, -0.00507415],\n",
       "       [-0.18379182,  0.01382235, -0.47541678, ..., -0.23423208,\n",
       "        -0.04168127,  0.40313837],\n",
       "       [ 0.74480507,  0.22038227, -0.10771598, ...,  0.13840563,\n",
       "         0.68247741, -1.05065152]])"
      ]
     },
     "execution_count": 42,
     "metadata": {},
     "output_type": "execute_result"
    }
   ],
   "source": [
    "word_model = KeyedVectors.load_word2vec_format(\"/kaggle/input/pmcmodel/PMC-w2v.bin\", binary=True)\n",
    "print('Found %s word vectors.' % len(word_model.index_to_key))\n",
    "print(word_model['Cholera'].shape)\n",
    "matrix_len = len(newvocab.stoi)\n",
    "weights_matrix = np.zeros((matrix_len, 200))\n",
    "words_found = 0\n",
    "\n",
    "for word, i in (newvocab.stoi.items()):\n",
    "    try: \n",
    "        weights_matrix[i] = word_model[word]\n",
    "        words_found += 1\n",
    "    except KeyError:\n",
    "        weights_matrix[i] = np.random.normal(scale=0.6, size=(200, ))\n",
    "print('words not found',len(newvocab.stoi)- words_found, weights_matrix.shape )\n",
    "weights_matrix"
   ]
  },
  {
   "cell_type": "code",
   "execution_count": 43,
   "id": "4f8e2d9f",
   "metadata": {
    "execution": {
     "iopub.execute_input": "2022-04-24T16:53:46.082624Z",
     "iopub.status.busy": "2022-04-24T16:53:46.081601Z",
     "iopub.status.idle": "2022-04-24T16:53:46.085224Z",
     "shell.execute_reply": "2022-04-24T16:53:46.084503Z",
     "shell.execute_reply.started": "2022-04-24T16:25:55.746048Z"
    },
    "papermill": {
     "duration": 0.127947,
     "end_time": "2022-04-24T16:53:46.085349",
     "exception": false,
     "start_time": "2022-04-24T16:53:45.957402",
     "status": "completed"
    },
    "tags": []
   },
   "outputs": [],
   "source": [
    "def create_emb_layer(src_vocab_size,embed_size,non_trainable=False):\n",
    "    #num_embeddings, embedding_dim = weights_matrix.shape()\n",
    "    emb_layer = nn.Embedding(src_vocab_size, embed_size)\n",
    "    #emb_layer.load_state_dict({'weight': weights_matrix})\n",
    "    emb_layer.weight=nn.Parameter(torch.tensor(weights_matrix,dtype=torch.float32))\n",
    "    if non_trainable:\n",
    "        emb_layer.weight.requires_grad = False\n",
    "\n",
    "    return emb_layer"
   ]
  },
  {
   "cell_type": "code",
   "execution_count": 44,
   "id": "30bd5641",
   "metadata": {
    "execution": {
     "iopub.execute_input": "2022-04-24T16:53:46.327909Z",
     "iopub.status.busy": "2022-04-24T16:53:46.326741Z",
     "iopub.status.idle": "2022-04-24T16:53:46.330016Z",
     "shell.execute_reply": "2022-04-24T16:53:46.329515Z",
     "shell.execute_reply.started": "2022-04-24T16:25:55.754584Z"
    },
    "papermill": {
     "duration": 0.125949,
     "end_time": "2022-04-24T16:53:46.330141",
     "exception": false,
     "start_time": "2022-04-24T16:53:46.204192",
     "status": "completed"
    },
    "tags": []
   },
   "outputs": [],
   "source": [
    "class TokenEmbedding(nn.Embedding):\n",
    "    def __init__(self, vocab_size, embed_size=512):\n",
    "        super().__init__(vocab_size, embed_size, padding_idx=0)"
   ]
  },
  {
   "cell_type": "code",
   "execution_count": 45,
   "id": "b7c00e67",
   "metadata": {
    "execution": {
     "iopub.execute_input": "2022-04-24T16:53:46.580152Z",
     "iopub.status.busy": "2022-04-24T16:53:46.579288Z",
     "iopub.status.idle": "2022-04-24T16:53:46.582949Z",
     "shell.execute_reply": "2022-04-24T16:53:46.582396Z",
     "shell.execute_reply.started": "2022-04-24T16:25:55.766375Z"
    },
    "papermill": {
     "duration": 0.132781,
     "end_time": "2022-04-24T16:53:46.583092",
     "exception": false,
     "start_time": "2022-04-24T16:53:46.450311",
     "status": "completed"
    },
    "tags": []
   },
   "outputs": [],
   "source": [
    "class BERTEmbedding(nn.Module):\n",
    "    \"\"\"\n",
    "    BERT Embedding which is consisted with under features\n",
    "        1. TokenEmbedding : normal embedding matrix\n",
    "        2. PositionalEmbedding : adding positional information using sin, cos\n",
    "        2. SegmentEmbedding : adding sentence segment info, (sent_A:1, sent_B:2)\n",
    "\n",
    "        sum of all these features are output of BERTEmbedding\n",
    "    \"\"\"\n",
    "\n",
    "    def __init__(self, vocab_size, embed_size, dropout=0.1):\n",
    "        \"\"\"\n",
    "        :param vocab_size: total vocab size\n",
    "        :param embed_size: embedding size of token embedding\n",
    "        :param dropout: dropout rate\n",
    "        \"\"\"\n",
    "        super().__init__()\n",
    "        #self.token = TokenEmbedding(vocab_size=vocab_size, embed_size=embed_size)\n",
    "        self.token = create_emb_layer(vocab_size,embed_size )\n",
    "        self.position = PositionalEmbedding(d_model=self.token.embedding_dim)\n",
    "        self.segment = SegmentEmbedding(embed_size=self.token.embedding_dim)\n",
    "        self.dropout = nn.Dropout(p=dropout)\n",
    "        self.embed_size = embed_size\n",
    "\n",
    "    def forward(self, sequence, segment_label):\n",
    "        x = self.token(sequence) + self.position(sequence) + self.segment(segment_label)\n",
    "        return self.dropout(x)"
   ]
  },
  {
   "cell_type": "code",
   "execution_count": 46,
   "id": "74ebf872",
   "metadata": {
    "execution": {
     "iopub.execute_input": "2022-04-24T16:53:46.831855Z",
     "iopub.status.busy": "2022-04-24T16:53:46.829426Z",
     "iopub.status.idle": "2022-04-24T16:53:46.832696Z",
     "shell.execute_reply": "2022-04-24T16:53:46.833260Z",
     "shell.execute_reply.started": "2022-04-24T16:25:55.776284Z"
    },
    "papermill": {
     "duration": 0.131764,
     "end_time": "2022-04-24T16:53:46.833411",
     "exception": false,
     "start_time": "2022-04-24T16:53:46.701647",
     "status": "completed"
    },
    "tags": []
   },
   "outputs": [],
   "source": [
    "class LayerNorm(nn.Module):\n",
    "    \"Construct a layernorm module (See citation for details).\"\n",
    "\n",
    "    def __init__(self, features, eps=1e-6):\n",
    "        super(LayerNorm, self).__init__()\n",
    "        self.a_2 = nn.Parameter(torch.ones(features))\n",
    "        self.b_2 = nn.Parameter(torch.zeros(features))\n",
    "        self.eps = eps\n",
    "\n",
    "    def forward(self, x):\n",
    "        mean = x.mean(-1, keepdim=True)\n",
    "        std = x.std(-1, keepdim=True)\n",
    "        return self.a_2 * (x - mean) / (std + self.eps) + self.b_2"
   ]
  },
  {
   "cell_type": "code",
   "execution_count": 47,
   "id": "e73b7ccc",
   "metadata": {
    "execution": {
     "iopub.execute_input": "2022-04-24T16:53:47.078616Z",
     "iopub.status.busy": "2022-04-24T16:53:47.077583Z",
     "iopub.status.idle": "2022-04-24T16:53:47.080661Z",
     "shell.execute_reply": "2022-04-24T16:53:47.080184Z",
     "shell.execute_reply.started": "2022-04-24T16:25:55.843292Z"
    },
    "papermill": {
     "duration": 0.127808,
     "end_time": "2022-04-24T16:53:47.080807",
     "exception": false,
     "start_time": "2022-04-24T16:53:46.952999",
     "status": "completed"
    },
    "tags": []
   },
   "outputs": [],
   "source": [
    "class PositionwiseFeedForward(nn.Module):\n",
    "    \"Implements FFN equation.\"\n",
    "\n",
    "    def __init__(self, d_model, d_ff, dropout=0.1):\n",
    "        super(PositionwiseFeedForward, self).__init__()\n",
    "        self.w_1 = nn.Linear(d_model, d_ff)\n",
    "        self.w_2 = nn.Linear(d_ff, d_model)\n",
    "        self.dropout = nn.Dropout(dropout)\n",
    "        self.activation = GELU()\n",
    "\n",
    "    def forward(self, x):\n",
    "        return self.w_2(self.dropout(self.activation(self.w_1(x))))\n"
   ]
  },
  {
   "cell_type": "code",
   "execution_count": 48,
   "id": "661f8ec7",
   "metadata": {
    "execution": {
     "iopub.execute_input": "2022-04-24T16:53:47.320167Z",
     "iopub.status.busy": "2022-04-24T16:53:47.319114Z",
     "iopub.status.idle": "2022-04-24T16:53:47.322024Z",
     "shell.execute_reply": "2022-04-24T16:53:47.322551Z",
     "shell.execute_reply.started": "2022-04-24T16:25:55.852373Z"
    },
    "papermill": {
     "duration": 0.125931,
     "end_time": "2022-04-24T16:53:47.322691",
     "exception": false,
     "start_time": "2022-04-24T16:53:47.196760",
     "status": "completed"
    },
    "tags": []
   },
   "outputs": [],
   "source": [
    "class GELU(nn.Module):\n",
    "    \"\"\"\n",
    "    Paper Section 3.4, last paragraph notice that BERT used the GELU instead of RELU\n",
    "    \"\"\"\n",
    "\n",
    "    def forward(self, x):\n",
    "        return 0.5 * x * (1 + torch.tanh(math.sqrt(2 / math.pi) * (x + 0.044715 * torch.pow(x, 3))))"
   ]
  },
  {
   "cell_type": "code",
   "execution_count": 49,
   "id": "4f30404f",
   "metadata": {
    "execution": {
     "iopub.execute_input": "2022-04-24T16:53:47.568721Z",
     "iopub.status.busy": "2022-04-24T16:53:47.566416Z",
     "iopub.status.idle": "2022-04-24T16:53:47.569504Z",
     "shell.execute_reply": "2022-04-24T16:53:47.570201Z",
     "shell.execute_reply.started": "2022-04-24T16:25:55.864735Z"
    },
    "papermill": {
     "duration": 0.128674,
     "end_time": "2022-04-24T16:53:47.570359",
     "exception": false,
     "start_time": "2022-04-24T16:53:47.441685",
     "status": "completed"
    },
    "tags": []
   },
   "outputs": [],
   "source": [
    "class SublayerConnection(nn.Module):\n",
    "    \"\"\"\n",
    "    A residual connection followed by a layer norm.\n",
    "    Note for code simplicity the norm is first as opposed to last.\n",
    "    \"\"\"\n",
    "\n",
    "    def __init__(self, size, dropout):\n",
    "        super(SublayerConnection, self).__init__()\n",
    "        self.norm = LayerNorm(size)\n",
    "        self.dropout = nn.Dropout(dropout)\n",
    "\n",
    "    def forward(self, x, sublayer):\n",
    "        \"Apply residual connection to any sublayer with the same size.\"\n",
    "        return x + self.dropout(sublayer(self.norm(x)))\n"
   ]
  },
  {
   "cell_type": "code",
   "execution_count": 50,
   "id": "b75117d3",
   "metadata": {
    "execution": {
     "iopub.execute_input": "2022-04-24T16:53:47.818166Z",
     "iopub.status.busy": "2022-04-24T16:53:47.817041Z",
     "iopub.status.idle": "2022-04-24T16:53:47.819395Z",
     "shell.execute_reply": "2022-04-24T16:53:47.820013Z",
     "shell.execute_reply.started": "2022-04-24T16:25:55.873949Z"
    },
    "papermill": {
     "duration": 0.130765,
     "end_time": "2022-04-24T16:53:47.820166",
     "exception": false,
     "start_time": "2022-04-24T16:53:47.689401",
     "status": "completed"
    },
    "tags": []
   },
   "outputs": [],
   "source": [
    "class Attention(nn.Module):\n",
    "    \"\"\"\n",
    "    Compute 'Scaled Dot Product Attention\n",
    "    \"\"\"\n",
    "\n",
    "    def forward(self, query, key, value, mask=None, dropout=None):\n",
    "        scores = torch.matmul(query, key.transpose(-2, -1)) \\\n",
    "                 / math.sqrt(query.size(-1))\n",
    "\n",
    "        if mask is not None:\n",
    "            scores = scores.masked_fill(mask == 0, -1e9)\n",
    "\n",
    "        p_attn = F.softmax(scores, dim=-1)\n",
    "\n",
    "        if dropout is not None:\n",
    "            p_attn = dropout(p_attn)\n",
    "\n",
    "        return torch.matmul(p_attn, value), p_attn"
   ]
  },
  {
   "cell_type": "code",
   "execution_count": 51,
   "id": "2841bff5",
   "metadata": {
    "execution": {
     "iopub.execute_input": "2022-04-24T16:53:48.123241Z",
     "iopub.status.busy": "2022-04-24T16:53:48.116867Z",
     "iopub.status.idle": "2022-04-24T16:53:48.127192Z",
     "shell.execute_reply": "2022-04-24T16:53:48.126527Z",
     "shell.execute_reply.started": "2022-04-24T16:25:55.884574Z"
    },
    "papermill": {
     "duration": 0.189728,
     "end_time": "2022-04-24T16:53:48.127356",
     "exception": false,
     "start_time": "2022-04-24T16:53:47.937628",
     "status": "completed"
    },
    "tags": []
   },
   "outputs": [],
   "source": [
    "class MultiHeadedAttention(nn.Module):\n",
    "    \"\"\"\n",
    "    Take in model size and number of heads.\n",
    "    \"\"\"\n",
    "\n",
    "    def __init__(self, h, d_model, dropout=0.1):\n",
    "        super().__init__()\n",
    "        assert d_model % h == 0\n",
    "\n",
    "        # We assume d_v always equals d_k\n",
    "        self.d_k = d_model // h\n",
    "        self.h = h\n",
    "\n",
    "        self.linear_layers = nn.ModuleList([nn.Linear(d_model, d_model) for _ in range(3)])\n",
    "        self.output_linear = nn.Linear(d_model, d_model)\n",
    "        self.attention = Attention()\n",
    "\n",
    "        self.dropout = nn.Dropout(p=dropout)\n",
    "\n",
    "    def forward(self, query, key, value, mask=None):\n",
    "        batch_size = query.size(0)\n",
    "\n",
    "        # 1) Do all the linear projections in batch from d_model => h x d_k\n",
    "        query, key, value = [l(x).view(batch_size, -1, self.h, self.d_k).transpose(1, 2)\n",
    "                             for l, x in zip(self.linear_layers, (query, key, value))]\n",
    "\n",
    "        # 2) Apply attention on all the projected vectors in batch.\n",
    "        x, attn = self.attention(query, key, value, mask=mask, dropout=self.dropout)\n",
    "\n",
    "        # 3) \"Concat\" using a view and apply a final linear.\n",
    "        x = x.transpose(1, 2).contiguous().view(batch_size, -1, self.h * self.d_k)\n",
    "\n",
    "        return self.output_linear(x)\n"
   ]
  },
  {
   "cell_type": "code",
   "execution_count": 52,
   "id": "797f5687",
   "metadata": {
    "execution": {
     "iopub.execute_input": "2022-04-24T16:53:48.380436Z",
     "iopub.status.busy": "2022-04-24T16:53:48.378147Z",
     "iopub.status.idle": "2022-04-24T16:53:48.381253Z",
     "shell.execute_reply": "2022-04-24T16:53:48.381816Z",
     "shell.execute_reply.started": "2022-04-24T16:25:55.898068Z"
    },
    "papermill": {
     "duration": 0.134069,
     "end_time": "2022-04-24T16:53:48.381975",
     "exception": false,
     "start_time": "2022-04-24T16:53:48.247906",
     "status": "completed"
    },
    "tags": []
   },
   "outputs": [],
   "source": [
    "class TransformerBlock(nn.Module):\n",
    "    \"\"\"\n",
    "    Bidirectional Encoder = Transformer (self-attention)\n",
    "    Transformer = MultiHead_Attention + Feed_Forward with sublayer connection\n",
    "    \"\"\"\n",
    "\n",
    "    def __init__(self, hidden, attn_heads, feed_forward_hidden, dropout):\n",
    "        \"\"\"\n",
    "        :param hidden: hidden size of transformer\n",
    "        :param attn_heads: head sizes of multi-head attention\n",
    "        :param feed_forward_hidden: feed_forward_hidden, usually 4*hidden_size\n",
    "        :param dropout: dropout rate\n",
    "        \"\"\"\n",
    "\n",
    "        super().__init__()\n",
    "        self.attention = MultiHeadedAttention(h=attn_heads, d_model=hidden)\n",
    "        self.feed_forward = PositionwiseFeedForward(d_model=hidden, d_ff=feed_forward_hidden, dropout=dropout)\n",
    "        self.input_sublayer = SublayerConnection(size=hidden, dropout=dropout)\n",
    "        self.output_sublayer = SublayerConnection(size=hidden, dropout=dropout)\n",
    "        self.dropout = nn.Dropout(p=dropout)\n",
    "\n",
    "    def forward(self, x, mask):\n",
    "        x = self.input_sublayer(x, lambda _x: self.attention.forward(_x, _x, _x, mask=mask))\n",
    "        x = self.output_sublayer(x, self.feed_forward)\n",
    "        return self.dropout(x)"
   ]
  },
  {
   "cell_type": "code",
   "execution_count": 53,
   "id": "500380ba",
   "metadata": {
    "execution": {
     "iopub.execute_input": "2022-04-24T16:53:48.637436Z",
     "iopub.status.busy": "2022-04-24T16:53:48.636242Z",
     "iopub.status.idle": "2022-04-24T16:53:48.638689Z",
     "shell.execute_reply": "2022-04-24T16:53:48.639304Z",
     "shell.execute_reply.started": "2022-04-24T16:25:55.912139Z"
    },
    "papermill": {
     "duration": 0.139252,
     "end_time": "2022-04-24T16:53:48.639459",
     "exception": false,
     "start_time": "2022-04-24T16:53:48.500207",
     "status": "completed"
    },
    "tags": []
   },
   "outputs": [],
   "source": [
    "class BERT(nn.Module):\n",
    "    \"\"\"\n",
    "    BERT model : Bidirectional Encoder Representations from Transformers.\n",
    "    \"\"\"\n",
    "\n",
    "    def __init__(self, vocab_size, hidden=768, n_layers=12, attn_heads=12, dropout=0.1):\n",
    "        \"\"\"\n",
    "        :param vocab_size: vocab_size of total words\n",
    "        :param hidden: BERT model hidden size\n",
    "        :param n_layers: numbers of Transformer blocks(layers)\n",
    "        :param attn_heads: number of attention heads\n",
    "        :param dropout: dropout rate\n",
    "        \"\"\"\n",
    "\n",
    "        super().__init__()\n",
    "        self.hidden = hidden\n",
    "        self.n_layers = n_layers\n",
    "        self.attn_heads = attn_heads\n",
    "\n",
    "        # paper noted they used 4*hidden_size for ff_network_hidden_size\n",
    "        self.feed_forward_hidden = hidden * 4\n",
    "\n",
    "        # embedding for BERT, sum of positional, segment, token embeddings\n",
    "        self.embedding = BERTEmbedding(vocab_size=vocab_size, embed_size=hidden)\n",
    "\n",
    "        # multi-layers transformer blocks, deep network\n",
    "        self.transformer_blocks = nn.ModuleList(\n",
    "            [TransformerBlock(hidden, attn_heads, hidden * 4, dropout) for _ in range(n_layers)])\n",
    "\n",
    "    def forward(self, x, segment_info):\n",
    "        # attention masking for padded token\n",
    "        # torch.ByteTensor([batch_size, 1, seq_len, seq_len)\n",
    "        mask = (x > 0).unsqueeze(1).repeat(1, x.size(1), 1).unsqueeze(1)\n",
    "\n",
    "        # embedding the indexed sequence to sequence of vectors\n",
    "        x = self.embedding(x, segment_info)\n",
    "\n",
    "        # running over multiple transformer blocks\n",
    "        for transformer in self.transformer_blocks:\n",
    "            x = transformer.forward(x, mask)\n",
    "\n",
    "        return x"
   ]
  },
  {
   "cell_type": "code",
   "execution_count": 54,
   "id": "5f438345",
   "metadata": {
    "execution": {
     "iopub.execute_input": "2022-04-24T16:53:48.891653Z",
     "iopub.status.busy": "2022-04-24T16:53:48.890913Z",
     "iopub.status.idle": "2022-04-24T16:53:49.141970Z",
     "shell.execute_reply": "2022-04-24T16:53:49.141261Z",
     "shell.execute_reply.started": "2022-04-24T16:25:55.924832Z"
    },
    "papermill": {
     "duration": 0.380989,
     "end_time": "2022-04-24T16:53:49.142142",
     "exception": false,
     "start_time": "2022-04-24T16:53:48.761153",
     "status": "completed"
    },
    "tags": []
   },
   "outputs": [],
   "source": [
    "bert = BERT(len(vocab), hidden=200, n_layers=8, attn_heads=5)"
   ]
  },
  {
   "cell_type": "code",
   "execution_count": 55,
   "id": "41357722",
   "metadata": {
    "execution": {
     "iopub.execute_input": "2022-04-24T16:53:49.394957Z",
     "iopub.status.busy": "2022-04-24T16:53:49.393864Z",
     "iopub.status.idle": "2022-04-24T16:53:49.397042Z",
     "shell.execute_reply": "2022-04-24T16:53:49.396523Z",
     "shell.execute_reply.started": "2022-04-24T16:25:56.147276Z"
    },
    "papermill": {
     "duration": 0.134438,
     "end_time": "2022-04-24T16:53:49.397170",
     "exception": false,
     "start_time": "2022-04-24T16:53:49.262732",
     "status": "completed"
    },
    "tags": []
   },
   "outputs": [],
   "source": [
    "class BERTLM(nn.Module):\n",
    "    \"\"\"\n",
    "    BERT Language Model\n",
    "    Next Sentence Prediction Model + Masked Language Model\n",
    "    \"\"\"\n",
    "\n",
    "    def __init__(self, bert: BERT, vocab_size):\n",
    "        \"\"\"\n",
    "        :param bert: BERT model which should be trained\n",
    "        :param vocab_size: total vocab size for masked_lm\n",
    "        \"\"\"\n",
    "\n",
    "        super().__init__()\n",
    "        self.bert = bert\n",
    "        self.next_sentence = NextSentencePrediction(self.bert.hidden)\n",
    "        self.mask_lm = MaskedLanguageModel(self.bert.hidden, vocab_size)\n",
    "\n",
    "    def forward(self, x, segment_label):\n",
    "        x = self.bert(x, segment_label)\n",
    "        return self.mask_lm(x)#self.next_sentence(x), \n",
    "\n",
    "\n",
    "class NextSentencePrediction(nn.Module):\n",
    "    \"\"\"\n",
    "    2-class classification model : is_next, is_not_next\n",
    "    \"\"\"\n",
    "\n",
    "    def __init__(self, hidden):\n",
    "        \"\"\"\n",
    "        :param hidden: BERT model output size\n",
    "        \"\"\"\n",
    "        super().__init__()\n",
    "        self.linear = nn.Linear(hidden, 2)\n",
    "        self.softmax = nn.LogSoftmax(dim=-1)\n",
    "\n",
    "    def forward(self, x):\n",
    "        return self.softmax(self.linear(x[:, 0]))\n",
    "\n",
    "\n",
    "class MaskedLanguageModel(nn.Module):\n",
    "    \"\"\"\n",
    "    predicting origin token from masked input sequence\n",
    "    n-class classification problem, n-class = vocab_size\n",
    "    \"\"\"\n",
    "\n",
    "    def __init__(self, hidden, vocab_size):\n",
    "        \"\"\"\n",
    "        :param hidden: output size of BERT model\n",
    "        :param vocab_size: total vocab size\n",
    "        \"\"\"\n",
    "        super().__init__()\n",
    "        self.linear = nn.Linear(hidden, vocab_size)\n",
    "        self.softmax = nn.LogSoftmax(dim=-1)\n",
    "\n",
    "    def forward(self, x):\n",
    "        return self.softmax(self.linear(x))"
   ]
  },
  {
   "cell_type": "code",
   "execution_count": 56,
   "id": "db2e1bc3",
   "metadata": {
    "execution": {
     "iopub.execute_input": "2022-04-24T16:53:49.776996Z",
     "iopub.status.busy": "2022-04-24T16:53:49.775850Z",
     "iopub.status.idle": "2022-04-24T16:53:49.782829Z",
     "shell.execute_reply": "2022-04-24T16:53:49.784381Z",
     "shell.execute_reply.started": "2022-04-24T16:25:56.161578Z"
    },
    "papermill": {
     "duration": 0.27085,
     "end_time": "2022-04-24T16:53:49.784655",
     "exception": false,
     "start_time": "2022-04-24T16:53:49.513805",
     "status": "completed"
    },
    "tags": []
   },
   "outputs": [],
   "source": [
    "cuda_condition = torch.cuda.is_available()\n",
    "device = torch.device(\"cuda:0\" if cuda_condition else \"cpu\")"
   ]
  },
  {
   "cell_type": "code",
   "execution_count": 57,
   "id": "a7f351a5",
   "metadata": {
    "execution": {
     "iopub.execute_input": "2022-04-24T16:53:50.249918Z",
     "iopub.status.busy": "2022-04-24T16:53:50.248939Z",
     "iopub.status.idle": "2022-04-24T16:53:55.541044Z",
     "shell.execute_reply": "2022-04-24T16:53:55.540371Z",
     "shell.execute_reply.started": "2022-04-24T16:25:56.233072Z"
    },
    "papermill": {
     "duration": 5.510326,
     "end_time": "2022-04-24T16:53:55.541272",
     "exception": false,
     "start_time": "2022-04-24T16:53:50.030946",
     "status": "completed"
    },
    "tags": []
   },
   "outputs": [],
   "source": [
    "model = BERTLM(bert, len(vocab)).to(device)"
   ]
  },
  {
   "cell_type": "code",
   "execution_count": 58,
   "id": "efc737ef",
   "metadata": {
    "execution": {
     "iopub.execute_input": "2022-04-24T16:53:55.848265Z",
     "iopub.status.busy": "2022-04-24T16:53:55.847340Z",
     "iopub.status.idle": "2022-04-24T16:53:55.850687Z",
     "shell.execute_reply": "2022-04-24T16:53:55.850119Z",
     "shell.execute_reply.started": "2022-04-24T16:26:00.753056Z"
    },
    "papermill": {
     "duration": 0.126442,
     "end_time": "2022-04-24T16:53:55.850899",
     "exception": false,
     "start_time": "2022-04-24T16:53:55.724457",
     "status": "completed"
    },
    "tags": []
   },
   "outputs": [],
   "source": [
    "#model"
   ]
  },
  {
   "cell_type": "code",
   "execution_count": 59,
   "id": "90a13515",
   "metadata": {
    "execution": {
     "iopub.execute_input": "2022-04-24T16:53:56.096277Z",
     "iopub.status.busy": "2022-04-24T16:53:56.095161Z",
     "iopub.status.idle": "2022-04-24T16:53:56.097608Z",
     "shell.execute_reply": "2022-04-24T16:53:56.098204Z",
     "shell.execute_reply.started": "2022-04-24T16:26:00.762113Z"
    },
    "papermill": {
     "duration": 0.129965,
     "end_time": "2022-04-24T16:53:56.098353",
     "exception": false,
     "start_time": "2022-04-24T16:53:55.968388",
     "status": "completed"
    },
    "tags": []
   },
   "outputs": [],
   "source": [
    "from torch.utils.data import Dataset\n",
    "import tqdm\n",
    "import torch\n",
    "import random"
   ]
  },
  {
   "cell_type": "code",
   "execution_count": 60,
   "id": "9cd58757",
   "metadata": {
    "execution": {
     "iopub.execute_input": "2022-04-24T16:53:56.339713Z",
     "iopub.status.busy": "2022-04-24T16:53:56.338399Z",
     "iopub.status.idle": "2022-04-24T16:53:56.343248Z",
     "shell.execute_reply": "2022-04-24T16:53:56.342491Z",
     "shell.execute_reply.started": "2022-04-24T16:26:00.770025Z"
    },
    "papermill": {
     "duration": 0.124156,
     "end_time": "2022-04-24T16:53:56.343383",
     "exception": false,
     "start_time": "2022-04-24T16:53:56.219227",
     "status": "completed"
    },
    "tags": []
   },
   "outputs": [],
   "source": [
    "### Preparing Dataset and Dataloadrer "
   ]
  },
  {
   "cell_type": "code",
   "execution_count": 61,
   "id": "e68c715a",
   "metadata": {
    "execution": {
     "iopub.execute_input": "2022-04-24T16:53:56.584418Z",
     "iopub.status.busy": "2022-04-24T16:53:56.580829Z",
     "iopub.status.idle": "2022-04-24T16:53:56.614219Z",
     "shell.execute_reply": "2022-04-24T16:53:56.613643Z",
     "shell.execute_reply.started": "2022-04-24T16:26:00.780510Z"
    },
    "papermill": {
     "duration": 0.154334,
     "end_time": "2022-04-24T16:53:56.614347",
     "exception": false,
     "start_time": "2022-04-24T16:53:56.460013",
     "status": "completed"
    },
    "tags": []
   },
   "outputs": [],
   "source": [
    "icdCodeDescription  = '/kaggle/input/mimicdata/ICD_desc_with_freq.csv'\n",
    "topCodes  = 2833\n",
    "icdCodes = pd.read_csv(icdCodeDescription)[:topCodes]\n",
    "icdCodeDescDict = {}\n",
    "codes  = list(icdCodes[\"Code\"])\n",
    "Desc  = list(icdCodes[\"Long Description\"])\n",
    "code2Index = {}\n",
    "for i , code in enumerate(codes):\n",
    "    icdCodeDescDict[code] = Desc[i]\n",
    "    code2Index[code] = i+1\n",
    "#return icdCodeDescDict,code2Index"
   ]
  },
  {
   "cell_type": "code",
   "execution_count": 62,
   "id": "8526bc75",
   "metadata": {
    "execution": {
     "iopub.execute_input": "2022-04-24T16:53:56.881992Z",
     "iopub.status.busy": "2022-04-24T16:53:56.878968Z",
     "iopub.status.idle": "2022-04-24T16:53:56.893273Z",
     "shell.execute_reply": "2022-04-24T16:53:56.892577Z",
     "shell.execute_reply.started": "2022-04-24T16:26:00.815959Z"
    },
    "papermill": {
     "duration": 0.153571,
     "end_time": "2022-04-24T16:53:56.893405",
     "exception": false,
     "start_time": "2022-04-24T16:53:56.739834",
     "status": "completed"
    },
    "tags": []
   },
   "outputs": [
    {
     "data": {
      "text/plain": [
       "2833"
      ]
     },
     "execution_count": 62,
     "metadata": {},
     "output_type": "execute_result"
    }
   ],
   "source": [
    "len(icdCodeDescDict)"
   ]
  },
  {
   "cell_type": "code",
   "execution_count": 63,
   "id": "9185681e",
   "metadata": {
    "execution": {
     "iopub.execute_input": "2022-04-24T16:53:57.173684Z",
     "iopub.status.busy": "2022-04-24T16:53:57.172743Z",
     "iopub.status.idle": "2022-04-24T16:53:57.176839Z",
     "shell.execute_reply": "2022-04-24T16:53:57.177508Z",
     "shell.execute_reply.started": "2022-04-24T16:26:00.823302Z"
    },
    "papermill": {
     "duration": 0.148223,
     "end_time": "2022-04-24T16:53:57.177706",
     "exception": false,
     "start_time": "2022-04-24T16:53:57.029483",
     "status": "completed"
    },
    "tags": []
   },
   "outputs": [
    {
     "data": {
      "text/plain": [
       "Index(['Unnamed: 0', 'TEXT', 'HADM_ID', 'ICD9_CODE', 'clean_text', 'top_ICD',\n",
       "       'processedText'],\n",
       "      dtype='object')"
      ]
     },
     "execution_count": 63,
     "metadata": {},
     "output_type": "execute_result"
    }
   ],
   "source": [
    "data.columns"
   ]
  },
  {
   "cell_type": "code",
   "execution_count": 64,
   "id": "8178f8b8",
   "metadata": {
    "execution": {
     "iopub.execute_input": "2022-04-24T16:53:57.460724Z",
     "iopub.status.busy": "2022-04-24T16:53:57.456076Z",
     "iopub.status.idle": "2022-04-24T16:53:57.463692Z",
     "shell.execute_reply": "2022-04-24T16:53:57.464392Z",
     "shell.execute_reply.started": "2022-04-24T16:26:00.835837Z"
    },
    "papermill": {
     "duration": 0.149354,
     "end_time": "2022-04-24T16:53:57.464692",
     "exception": false,
     "start_time": "2022-04-24T16:53:57.315338",
     "status": "completed"
    },
    "tags": []
   },
   "outputs": [],
   "source": [
    "def CreateTextFileLableMap():\n",
    "    trueLabels = list(data['ICD9_CODE'])\n",
    "    textFileLabel = {}\n",
    "    for i , trueLabel in enumerate(trueLabels):\n",
    "        textFileLabel[i+1]  = [y for y in trueLabel[2:-2].split(\"', '\")if y in  icdCodeDescDict]\n",
    "    return textFileLabel"
   ]
  },
  {
   "cell_type": "code",
   "execution_count": 65,
   "id": "4349edbb",
   "metadata": {
    "execution": {
     "iopub.execute_input": "2022-04-24T16:53:57.850968Z",
     "iopub.status.busy": "2022-04-24T16:53:57.747531Z",
     "iopub.status.idle": "2022-04-24T16:53:57.874704Z",
     "shell.execute_reply": "2022-04-24T16:53:57.873921Z",
     "shell.execute_reply.started": "2022-04-24T16:26:00.844336Z"
    },
    "papermill": {
     "duration": 0.270611,
     "end_time": "2022-04-24T16:53:57.874909",
     "exception": false,
     "start_time": "2022-04-24T16:53:57.604298",
     "status": "completed"
    },
    "tags": []
   },
   "outputs": [],
   "source": [
    "label = CreateTextFileLableMap()"
   ]
  },
  {
   "cell_type": "code",
   "execution_count": 66,
   "id": "9cc26e01",
   "metadata": {
    "execution": {
     "iopub.execute_input": "2022-04-24T16:53:58.165877Z",
     "iopub.status.busy": "2022-04-24T16:53:58.164780Z",
     "iopub.status.idle": "2022-04-24T16:53:58.168863Z",
     "shell.execute_reply": "2022-04-24T16:53:58.169408Z",
     "shell.execute_reply.started": "2022-04-24T16:26:00.947917Z"
    },
    "papermill": {
     "duration": 0.151847,
     "end_time": "2022-04-24T16:53:58.169578",
     "exception": false,
     "start_time": "2022-04-24T16:53:58.017731",
     "status": "completed"
    },
    "tags": []
   },
   "outputs": [
    {
     "data": {
      "text/plain": [
       "['25013',\n",
       " '3371',\n",
       " '5849',\n",
       " '5780',\n",
       " 'V5867',\n",
       " '25063',\n",
       " '5363',\n",
       " '4580',\n",
       " '25043',\n",
       " '40390',\n",
       " '5853',\n",
       " '25053',\n",
       " '36201',\n",
       " '25083',\n",
       " '7078',\n",
       " 'V1351']"
      ]
     },
     "execution_count": 66,
     "metadata": {},
     "output_type": "execute_result"
    }
   ],
   "source": [
    "label[1]"
   ]
  },
  {
   "cell_type": "code",
   "execution_count": 67,
   "id": "41efe6b8",
   "metadata": {
    "execution": {
     "iopub.execute_input": "2022-04-24T16:53:58.451539Z",
     "iopub.status.busy": "2022-04-24T16:53:58.450321Z",
     "iopub.status.idle": "2022-04-24T16:53:58.452716Z",
     "shell.execute_reply": "2022-04-24T16:53:58.453332Z",
     "shell.execute_reply.started": "2022-04-24T16:26:00.954695Z"
    },
    "papermill": {
     "duration": 0.147931,
     "end_time": "2022-04-24T16:53:58.453490",
     "exception": false,
     "start_time": "2022-04-24T16:53:58.305559",
     "status": "completed"
    },
    "tags": []
   },
   "outputs": [],
   "source": [
    "listIds = [i for i in range(data.shape[0])]"
   ]
  },
  {
   "cell_type": "code",
   "execution_count": 68,
   "id": "5c58529d",
   "metadata": {
    "execution": {
     "iopub.execute_input": "2022-04-24T16:53:58.740489Z",
     "iopub.status.busy": "2022-04-24T16:53:58.739292Z",
     "iopub.status.idle": "2022-04-24T16:53:58.744144Z",
     "shell.execute_reply": "2022-04-24T16:53:58.744752Z",
     "shell.execute_reply.started": "2022-04-24T16:26:00.966002Z"
    },
    "papermill": {
     "duration": 0.151625,
     "end_time": "2022-04-24T16:53:58.744934",
     "exception": false,
     "start_time": "2022-04-24T16:53:58.593309",
     "status": "completed"
    },
    "tags": []
   },
   "outputs": [
    {
     "data": {
      "text/plain": [
       "12000"
      ]
     },
     "execution_count": 68,
     "metadata": {},
     "output_type": "execute_result"
    }
   ],
   "source": [
    "len(listIds)"
   ]
  },
  {
   "cell_type": "code",
   "execution_count": 69,
   "id": "1fd9c751",
   "metadata": {
    "execution": {
     "iopub.execute_input": "2022-04-24T16:53:59.032105Z",
     "iopub.status.busy": "2022-04-24T16:53:59.029835Z",
     "iopub.status.idle": "2022-04-24T16:53:59.039589Z",
     "shell.execute_reply": "2022-04-24T16:53:59.038673Z",
     "shell.execute_reply.started": "2022-04-24T16:26:00.976871Z"
    },
    "papermill": {
     "duration": 0.154346,
     "end_time": "2022-04-24T16:53:59.039735",
     "exception": false,
     "start_time": "2022-04-24T16:53:58.885389",
     "status": "completed"
    },
    "tags": []
   },
   "outputs": [],
   "source": [
    "class Dataset(torch.utils.data.Dataset):\n",
    "  'Characterizes a dataset for PyTorch'\n",
    "  def __init__(self, list_IDs, labels):\n",
    "        'Initialization'\n",
    "        self.labels = labels\n",
    "        self.list_IDs = list_IDs\n",
    "\n",
    "  def __len__(self):\n",
    "        'Denotes the total number of samples'\n",
    "        return len(self.list_IDs)\n",
    "\n",
    "  def __getitem__(self, index):\n",
    "        'Generates one sample of data'\n",
    "        # Select sample\n",
    "        ID = self.list_IDs[index]\n",
    "\n",
    "        # Load data and get label\n",
    "        X = data['processedText'][ID]\n",
    "        y = self.labels[ID]\n",
    "        return X, y"
   ]
  },
  {
   "cell_type": "code",
   "execution_count": 70,
   "id": "d8f7d928",
   "metadata": {
    "execution": {
     "iopub.execute_input": "2022-04-24T16:53:59.318106Z",
     "iopub.status.busy": "2022-04-24T16:53:59.317067Z",
     "iopub.status.idle": "2022-04-24T16:53:59.322571Z",
     "shell.execute_reply": "2022-04-24T16:53:59.322001Z",
     "shell.execute_reply.started": "2022-04-24T16:26:00.986802Z"
    },
    "papermill": {
     "duration": 0.141665,
     "end_time": "2022-04-24T16:53:59.322701",
     "exception": false,
     "start_time": "2022-04-24T16:53:59.181036",
     "status": "completed"
    },
    "tags": []
   },
   "outputs": [],
   "source": [
    "dataset = Dataset(listIds,label )"
   ]
  },
  {
   "cell_type": "code",
   "execution_count": 71,
   "id": "b6fb2bb4",
   "metadata": {
    "execution": {
     "iopub.execute_input": "2022-04-24T16:53:59.569177Z",
     "iopub.status.busy": "2022-04-24T16:53:59.568150Z",
     "iopub.status.idle": "2022-04-24T16:53:59.572132Z",
     "shell.execute_reply": "2022-04-24T16:53:59.572696Z",
     "shell.execute_reply.started": "2022-04-24T16:26:00.995354Z"
    },
    "papermill": {
     "duration": 0.130129,
     "end_time": "2022-04-24T16:53:59.572856",
     "exception": false,
     "start_time": "2022-04-24T16:53:59.442727",
     "status": "completed"
    },
    "tags": []
   },
   "outputs": [
    {
     "data": {
      "text/plain": [
       "('admission date discharge date of birth sex recorded as having no known allergies to name lf ground surgical or invasive ij of present known is m hepc cirrhosis cb grade iii and portal gastropathy last egd who emesis and melena days pt was in his until about days pta when he intermittent nausea he had episodes emesis and episode of tarry black stool in of admission he reports some lightheadedness which new but denies frank hematemesis abdominal chills significant increases in his abdominal girth drinking or medication noncompliance he also naproxen for back pain times day in the in the ed his vitals were on ra given ns iv protonix mg iv started on an he had guaiac positive brown stool on rectal exam he|by the liver fellow in the ed who felt this was unlikely bleed and recommended work up for infection an ng attempted however patient was unable to tolerate it in abdominal ultrasound was done which showed patent scant ascites but not enough to tap bp dropped to pt transferred to micu for hemodynamic monitoring in the micu pt was given prbc hct bumped from to started on norepinephrine gtt for few hours but on transfer to the floor remains feels good denies tarry or bloody bms emesis past medical cirrhosis tx with interferon with no ii esophageal lives alone he is drinking alcohol usually one session he has four to five drinks per session he was told abstain from alcohol effective as of today about|cigarettes per day family hr bp rr somnolent oriented unable to assess for supple jvp at angle of jaw fluid bolus running rrr s no appreciable distended non tender no rebound or guarding bowel pitting edema warm diaphoretic no rash or lesions on admission pm blood wbc rbc hgb hct mch mchc rdw plt ct pm blood neuts lymphs monos eos baso pm blood pt ptt pm blood glucose creat cl hco angap pm blood alt ast pm blood calcium phos mg labs on discharge am blood wbc rbc hgb hct mch mchc rdw plt ct am blood pt ptt am blood glucose creat cl hco angap am blood alt ast am blood calcium phos mg other labs am blood ckmb pm blood ckmb mb|indx pm blood lipase urine pm urine sp last name un pm urine ph pm urine rbc wbc urine cultures serum antibody negative cardiology tte left atrium is dilated left ventricular wall cavity size are normal left ventricular systolic hyperdynamic ef right ventricular chamber size wall motion are normal the aortic valve leaflets thickened but aortic stenosis is not present no is seen the mitral valve leaflets are mild mitral regurgitation is seen there pulmonary artery systolic hypertension there is effusion impression hyperdynamic lv systolic function mild moderate pulmonary artery systolic hypertension ekg qt interval is nonspecific but clinical correlation previous tracing available for comparison intervals pr qrs qrs varices at the lower third of the esophagus and middle the esophagus erythema and erosion in|the antrum and pylorus nonsteroidal induced gastritis bleeding from pyloric ulcer in the pylorus compatible induced ulcer injection thermal therapy normal mucosa in the duodenum otherwise normal egd to third part of the duodenum radiology cxr the prominent bulge to the right heart border could be due cyst and enlarged right atrium there is engorgement to suggest cardiac tamponade is normal the lungs are clear and there is effusion overall heart size is normal right ends at the junction of veins no pneumothorax or pleural effusion abd us no ni evidence for portal venous thrombosis flow is hepatopetal and no significant ascites sliver of perihepatic ascites persistent coarsened echotexture of the liver consistent of cirrhosis hospital known is m hcv cirrhosis grade ii esophageal emesis|and melena concerning for micu stay for hypotension ugib pt did not have any more bleeds while in hospital erythema and erosion in the antrum and with nonsteroidal induced gastritis pt did increased doses of naproxen for backache started mg po bid for one week with repeat in one week recommended to take tylenol dose of gm for pain instead of nsaids blood were held at first given micu admission for were restarted on discharge hcv cirrhosis appears to be progressing to liver elevated inr at decreased albumin at elevated at and chronic le edema pt was prophylactic medications full on mg mg mg medications phenol aerosol spray sig one spray prn as needed lactulose gram ml syrup sig thirty ml po tid day thiamine|hcl mg tablet sig one tablet po folic acid mg tablet sig one tablet po daily daily spironolactone mg tablet sig one tablet po furosemide mg tablet sig one tablet po once day acetaminophen mg tablet sig tablets po every as needed no more than tablets of regular per day terbinafine cream sig one appl topical hospital day for weeks refills nadolol mg tablet sig one tablet po daily daily pantoprazole mg tablet delayed release ec sig one tablet delayed release ec po twice day for take tablet daily disp tablet delayed release ec refills lotion sig one appl times day as needed for itching refills lisinopril mg tablet sig one tablet po once day discharge were admitted for bleeding from an ulcer in your|stomach this ulcer is at least partially caused by naproxen you taking naproxen and take only tylenol for pain you take any nsaids for pain including ibuprofen motrin aspirin toradol or advil it is okay to but do not take more than extra strength tylenol daily maximum the following medication changes were not take pantoprazole mg twice daily for one week then take daily you are scheduled to get repeat endoscopy next week prior procedure do not have anything to drink or eat please return to the er if you have any chest fever chills bloody or black stools or concerning symptoms followup name apartment address st gi rooms datetime first name name pattern last name md name last name md by',\n",
       " ['25013',\n",
       "  '3371',\n",
       "  '5849',\n",
       "  '5780',\n",
       "  'V5867',\n",
       "  '25063',\n",
       "  '5363',\n",
       "  '4580',\n",
       "  '25043',\n",
       "  '40390',\n",
       "  '5853',\n",
       "  '25053',\n",
       "  '36201',\n",
       "  '25083',\n",
       "  '7078',\n",
       "  'V1351'])"
      ]
     },
     "execution_count": 71,
     "metadata": {},
     "output_type": "execute_result"
    }
   ],
   "source": [
    " dataset[1]"
   ]
  },
  {
   "cell_type": "code",
   "execution_count": 72,
   "id": "be220dd9",
   "metadata": {
    "execution": {
     "iopub.execute_input": "2022-04-24T16:53:59.823979Z",
     "iopub.status.busy": "2022-04-24T16:53:59.822893Z",
     "iopub.status.idle": "2022-04-24T16:53:59.826636Z",
     "shell.execute_reply": "2022-04-24T16:53:59.827331Z",
     "shell.execute_reply.started": "2022-04-24T16:26:01.008207Z"
    },
    "papermill": {
     "duration": 0.130314,
     "end_time": "2022-04-24T16:53:59.827503",
     "exception": false,
     "start_time": "2022-04-24T16:53:59.697189",
     "status": "completed"
    },
    "tags": []
   },
   "outputs": [
    {
     "data": {
      "text/plain": [
       "125"
      ]
     },
     "execution_count": 72,
     "metadata": {},
     "output_type": "execute_result"
    }
   ],
   "source": [
    "len(dataset[1][0].split(\"|\")[4].split())"
   ]
  },
  {
   "cell_type": "code",
   "execution_count": null,
   "id": "83454283",
   "metadata": {
    "papermill": {
     "duration": 0.122463,
     "end_time": "2022-04-24T16:54:00.071958",
     "exception": false,
     "start_time": "2022-04-24T16:53:59.949495",
     "status": "completed"
    },
    "tags": []
   },
   "outputs": [],
   "source": []
  },
  {
   "cell_type": "code",
   "execution_count": 73,
   "id": "c505d853",
   "metadata": {
    "execution": {
     "iopub.execute_input": "2022-04-24T16:54:00.339126Z",
     "iopub.status.busy": "2022-04-24T16:54:00.337497Z",
     "iopub.status.idle": "2022-04-24T16:54:00.342611Z",
     "shell.execute_reply": "2022-04-24T16:54:00.342003Z",
     "shell.execute_reply.started": "2022-04-24T16:26:01.017524Z"
    },
    "papermill": {
     "duration": 0.149577,
     "end_time": "2022-04-24T16:54:00.342736",
     "exception": false,
     "start_time": "2022-04-24T16:54:00.193159",
     "status": "completed"
    },
    "tags": []
   },
   "outputs": [],
   "source": [
    "class BERTDataset(Dataset):\n",
    "    def __init__(self,vocab, seq_len, list_IDs, labels, encoding=\"utf-8\", on_memory=True):\n",
    "        self.vocab = vocab\n",
    "        self.seq_len = seq_len\n",
    "\n",
    "        self.on_memory = on_memory\n",
    "        #self.corpus_lines = corpus_lines\n",
    "        self.list_IDs  = list_IDs \n",
    "        self.encoding = encoding\n",
    "        self.labels = labels\n",
    "        self.texts  = data['processedText']\n",
    "\n",
    "\n",
    "    def __len__(self):\n",
    "        return len(self.list_IDs)\n",
    "\n",
    "    def __getitem__(self, item):# if item count start from 1 and till the size of docuemts length \n",
    "        text_ = self.texts[item-1]\n",
    "        text_ = text_.split('|')\n",
    "        if(len(text_) % 2):\n",
    "            text_.append(text_[-1])\n",
    "        text_ = [text_[i: i+2] for i in range(0, len(text_), 2)]\n",
    "        #print(len(text_))\n",
    "        bert_input_ = self.generateTensor(text_)\n",
    "        return bert_input_\n",
    "        #return {key: torch.tensor(value) for key, value in output.items()}\n",
    "    def generateTensor(self, text):\n",
    "        numberOfLines  = len(text)\n",
    "        bert_input_ = []\n",
    "        bert_label_ = []\n",
    "        segment_label_ = []\n",
    "        is_next_ = []\n",
    "        for i in range(numberOfLines):\n",
    "            t1, t2, is_next_label = self.random_sent(i, text)#generate the label for next sentence prediction in the form of 0 or 1\n",
    "            t1_random, t1_label = self.random_word(t1)#This will generate the masked token for sentence A and the label index for the masked token \n",
    "            t2_random, t2_label = self.random_word(t2)\n",
    "\n",
    "        # [CLS] tag = SOS tag, [SEP] tag = EOS tag\n",
    "            t1 = [self.vocab.sos_index] + t1_random + [self.vocab.eos_index]\n",
    "            t2 = t2_random + [self.vocab.eos_index]\n",
    "\n",
    "            t1_label = [self.vocab.pad_index] + t1_label + [self.vocab.pad_index]\n",
    "            t2_label = t2_label + [self.vocab.pad_index]\n",
    "\n",
    "            segment_label = ([1 for _ in range(len(t1))] + [2 for _ in range(len(t2))])[:self.seq_len]\n",
    "            bert_input = (t1 + t2)[:self.seq_len]\n",
    "            bert_label = (t1_label + t2_label)[:self.seq_len]\n",
    "\n",
    "            padding = [self.vocab.pad_index for _ in range(self.seq_len - len(bert_input))]#This would pad the input, output lable and sengement label up to the maximum length\n",
    "            bert_input.extend(padding), bert_label.extend(padding), segment_label.extend(padding)\n",
    "            bert_input_.append(bert_input)\n",
    "            bert_label_.append(bert_label)\n",
    "            segment_label_.append(segment_label)\n",
    "            is_next_.append(is_next_label)\n",
    "        return ([torch.tensor(bert_input_),torch.tensor(bert_label_),torch.tensor(segment_label_), torch.tensor(is_next_)])\n",
    "    def random_word(self, sentence):\n",
    "        tokens = sentence.split()\n",
    "        output_label = []\n",
    "\n",
    "        for i, token in enumerate(tokens):\n",
    "            prob = random.random()\n",
    "            if prob < 0.15:\n",
    "                prob /= 0.15\n",
    "\n",
    "                # 80% randomly change token to mask token\n",
    "                if prob < 0.8:\n",
    "                    tokens[i] = self.vocab.mask_index\n",
    "\n",
    "                # 10% randomly change token to random token\n",
    "                elif prob < 0.9:\n",
    "                    tokens[i] = random.randrange(len(self.vocab))\n",
    "\n",
    "                # 10% randomly change token to current token\n",
    "                else:\n",
    "                    tokens[i] = self.vocab.stoi.get(token, self.vocab.unk_index)\n",
    "\n",
    "                output_label.append(self.vocab.stoi.get(token, self.vocab.unk_index))\n",
    "\n",
    "            else:\n",
    "                tokens[i] = self.vocab.stoi.get(token, self.vocab.unk_index)\n",
    "                output_label.append(0)\n",
    "\n",
    "        return tokens, output_label\n",
    "\n",
    "    def random_sent(self, index,text):\n",
    "        t1, t2 = self.get_corpus_line(index,text)\n",
    "\n",
    "        # output_text, label(isNotNext:0, isNext:1)\n",
    "        if random.random() > 0.5:\n",
    "            return t1, t2, 1\n",
    "        else:\n",
    "            return t1, t2, 1 #0\n",
    "\n",
    "    def get_corpus_line(self, item,text):\n",
    "        if self.on_memory:\n",
    "            return text[item][0], text[item][1]\n",
    "        \"\"\"else:\n",
    "            line = self.file.__next__()\n",
    "            if line is None:\n",
    "                self.file.close()\n",
    "                self.file = open(self.corpus_path, \"r\", encoding=self.encoding)\n",
    "                line = self.file.__next__()\n",
    "\n",
    "            t1, t2 = line[:-1].split(\"\\t\")\n",
    "            return t1, t2\"\"\"\n",
    "\n",
    "    def get_random_line(self,text):\n",
    "        if self.on_memory:\n",
    "            return text[random.randrange(len(text))][1]"
   ]
  },
  {
   "cell_type": "code",
   "execution_count": 74,
   "id": "79f75297",
   "metadata": {
    "execution": {
     "iopub.execute_input": "2022-04-24T16:54:00.833543Z",
     "iopub.status.busy": "2022-04-24T16:54:00.831577Z",
     "iopub.status.idle": "2022-04-24T16:54:00.835722Z",
     "shell.execute_reply": "2022-04-24T16:54:00.836515Z",
     "shell.execute_reply.started": "2022-04-24T16:26:01.045243Z"
    },
    "papermill": {
     "duration": 0.288425,
     "end_time": "2022-04-24T16:54:00.836787",
     "exception": false,
     "start_time": "2022-04-24T16:54:00.548362",
     "status": "completed"
    },
    "tags": []
   },
   "outputs": [],
   "source": [
    "train_data = BERTDataset(newvocab,256, listIds,label )"
   ]
  },
  {
   "cell_type": "code",
   "execution_count": 75,
   "id": "1606372f",
   "metadata": {
    "execution": {
     "iopub.execute_input": "2022-04-24T16:54:01.546134Z",
     "iopub.status.busy": "2022-04-24T16:54:01.544996Z",
     "iopub.status.idle": "2022-04-24T16:54:01.547876Z",
     "shell.execute_reply": "2022-04-24T16:54:01.547022Z",
     "shell.execute_reply.started": "2022-04-24T16:26:01.056358Z"
    },
    "papermill": {
     "duration": 0.349032,
     "end_time": "2022-04-24T16:54:01.548068",
     "exception": false,
     "start_time": "2022-04-24T16:54:01.199036",
     "status": "completed"
    },
    "tags": []
   },
   "outputs": [],
   "source": [
    "#a  = data['processedText'][0]"
   ]
  },
  {
   "cell_type": "code",
   "execution_count": 76,
   "id": "0cf35515",
   "metadata": {
    "execution": {
     "iopub.execute_input": "2022-04-24T16:54:02.085011Z",
     "iopub.status.busy": "2022-04-24T16:54:02.083914Z",
     "iopub.status.idle": "2022-04-24T16:54:02.091011Z",
     "shell.execute_reply": "2022-04-24T16:54:02.091759Z",
     "shell.execute_reply.started": "2022-04-24T16:26:01.062708Z"
    },
    "papermill": {
     "duration": 0.220873,
     "end_time": "2022-04-24T16:54:02.092018",
     "exception": false,
     "start_time": "2022-04-24T16:54:01.871145",
     "status": "completed"
    },
    "tags": []
   },
   "outputs": [
    {
     "data": {
      "text/plain": [
       "(torch.Size([4, 256]), 4)"
      ]
     },
     "execution_count": 76,
     "metadata": {},
     "output_type": "execute_result"
    }
   ],
   "source": [
    "train_data[1][0].shape, len(train_data[1])"
   ]
  },
  {
   "cell_type": "code",
   "execution_count": 77,
   "id": "2805bcd9",
   "metadata": {
    "execution": {
     "iopub.execute_input": "2022-04-24T16:54:02.395389Z",
     "iopub.status.busy": "2022-04-24T16:54:02.394368Z",
     "iopub.status.idle": "2022-04-24T16:54:02.397130Z",
     "shell.execute_reply": "2022-04-24T16:54:02.397660Z",
     "shell.execute_reply.started": "2022-04-24T16:26:01.075766Z"
    },
    "papermill": {
     "duration": 0.134721,
     "end_time": "2022-04-24T16:54:02.397861",
     "exception": false,
     "start_time": "2022-04-24T16:54:02.263140",
     "status": "completed"
    },
    "tags": []
   },
   "outputs": [],
   "source": [
    "import argparse\n"
   ]
  },
  {
   "cell_type": "code",
   "execution_count": 78,
   "id": "9a4441e7",
   "metadata": {
    "execution": {
     "iopub.execute_input": "2022-04-24T16:54:02.666860Z",
     "iopub.status.busy": "2022-04-24T16:54:02.666093Z",
     "iopub.status.idle": "2022-04-24T16:54:02.671209Z",
     "shell.execute_reply": "2022-04-24T16:54:02.670367Z",
     "shell.execute_reply.started": "2022-04-24T16:26:01.084192Z"
    },
    "papermill": {
     "duration": 0.148512,
     "end_time": "2022-04-24T16:54:02.671380",
     "exception": false,
     "start_time": "2022-04-24T16:54:02.522868",
     "status": "completed"
    },
    "tags": []
   },
   "outputs": [],
   "source": [
    "parser = argparse.ArgumentParser()\n",
    "parser.add_argument(\"-hs\", \"--hidden\", type=int, default=512, help=\"hidden size of transformer model\")\n",
    "parser.add_argument(\"-l\", \"--layers\", type=int, default=8, help=\"number of layers\")\n",
    "parser.add_argument(\"-a\", \"--attn_heads\", type=int, default=8, help=\"number of attention heads\")\n",
    "parser.add_argument(\"-s\", \"--seq_len\", type=int, default=20, help=\"maximum sequence len\")\n",
    "\n",
    "parser.add_argument(\"-b\", \"--batch_size\", type=int, default=64, help=\"number of batch_size\")\n",
    "parser.add_argument(\"-e\", \"--epochs\", type=int, default=10, help=\"number of epochs\")\n",
    "parser.add_argument(\"-w\", \"--num_workers\", type=int, default=5, help=\"dataloader worker size\")\n",
    "parser.add_argument(\"-steps\", \"--warm_up_step\", type=int, default=1000, help=\"dataloader worker size\")\n",
    "\n",
    "parser.add_argument(\"--with_cuda\", type=bool, default=True, help=\"training with CUDA: true, or false\")\n",
    "parser.add_argument(\"--log_freq\", type=int, default=10, help=\"printing loss every n iter: setting n\")\n",
    "parser.add_argument(\"--corpus_lines\", type=int, default=None, help=\"total number of lines in corpus\")\n",
    "parser.add_argument(\"--cuda_devices\", type=int, nargs='+', default=None, help=\"CUDA device ids\")\n",
    "parser.add_argument(\"--on_memory\", type=bool, default=True, help=\"Loading on memory: true or false\")\n",
    "\n",
    "parser.add_argument(\"--lr\", type=float, default=1e-3, help=\"learning rate of adam\")\n",
    "parser.add_argument(\"--adam_weight_decay\", type=float, default=0.01, help=\"weight_decay of adam\")\n",
    "parser.add_argument(\"--adam_beta1\", type=float, default=0.9, help=\"adam first beta value\")\n",
    "parser.add_argument(\"--adam_beta2\", type=float, default=0.999, help=\"adam first beta value\")\n",
    "args = parser.parse_args(\"\")"
   ]
  },
  {
   "cell_type": "code",
   "execution_count": 79,
   "id": "7338d73d",
   "metadata": {
    "execution": {
     "iopub.execute_input": "2022-04-24T16:54:02.927251Z",
     "iopub.status.busy": "2022-04-24T16:54:02.926191Z",
     "iopub.status.idle": "2022-04-24T16:54:02.929635Z",
     "shell.execute_reply": "2022-04-24T16:54:02.929081Z",
     "shell.execute_reply.started": "2022-04-24T16:26:01.100323Z"
    },
    "papermill": {
     "duration": 0.133318,
     "end_time": "2022-04-24T16:54:02.929797",
     "exception": false,
     "start_time": "2022-04-24T16:54:02.796479",
     "status": "completed"
    },
    "tags": []
   },
   "outputs": [],
   "source": [
    "betas=(0.9, 0.999)\n"
   ]
  },
  {
   "cell_type": "code",
   "execution_count": 80,
   "id": "f03e4d3e",
   "metadata": {
    "execution": {
     "iopub.execute_input": "2022-04-24T16:54:03.184433Z",
     "iopub.status.busy": "2022-04-24T16:54:03.183455Z",
     "iopub.status.idle": "2022-04-24T16:54:03.187310Z",
     "shell.execute_reply": "2022-04-24T16:54:03.188048Z",
     "shell.execute_reply.started": "2022-04-24T16:26:01.112330Z"
    },
    "papermill": {
     "duration": 0.132082,
     "end_time": "2022-04-24T16:54:03.188195",
     "exception": false,
     "start_time": "2022-04-24T16:54:03.056113",
     "status": "completed"
    },
    "tags": []
   },
   "outputs": [
    {
     "data": {
      "text/plain": [
       "Namespace(adam_beta1=0.9, adam_beta2=0.999, adam_weight_decay=0.01, attn_heads=8, batch_size=64, corpus_lines=None, cuda_devices=None, epochs=10, hidden=512, layers=8, log_freq=10, lr=0.001, num_workers=5, on_memory=True, seq_len=20, warm_up_step=1000, with_cuda=True)"
      ]
     },
     "execution_count": 80,
     "metadata": {},
     "output_type": "execute_result"
    }
   ],
   "source": [
    "args"
   ]
  },
  {
   "cell_type": "markdown",
   "id": "08506160",
   "metadata": {
    "papermill": {
     "duration": 0.123159,
     "end_time": "2022-04-24T16:54:03.435329",
     "exception": false,
     "start_time": "2022-04-24T16:54:03.312170",
     "status": "completed"
    },
    "tags": []
   },
   "source": [
    "### Define model hyper parameter"
   ]
  },
  {
   "cell_type": "code",
   "execution_count": 81,
   "id": "04602bd8",
   "metadata": {
    "execution": {
     "iopub.execute_input": "2022-04-24T16:54:03.691181Z",
     "iopub.status.busy": "2022-04-24T16:54:03.690052Z",
     "iopub.status.idle": "2022-04-24T16:54:03.692710Z",
     "shell.execute_reply": "2022-04-24T16:54:03.693373Z",
     "shell.execute_reply.started": "2022-04-24T16:26:01.123166Z"
    },
    "papermill": {
     "duration": 0.136405,
     "end_time": "2022-04-24T16:54:03.693545",
     "exception": false,
     "start_time": "2022-04-24T16:54:03.557140",
     "status": "completed"
    },
    "tags": []
   },
   "outputs": [],
   "source": [
    "class ScheduledOptim():\n",
    "    '''A simple wrapper class for learning rate scheduling'''\n",
    "\n",
    "    def __init__(self, optimizer, d_model, n_warmup_steps):\n",
    "        self._optimizer = optimizer\n",
    "        self.n_warmup_steps = n_warmup_steps\n",
    "        self.n_current_steps = 0\n",
    "        self.init_lr = np.power(d_model, -0.5)\n",
    "\n",
    "    def step_and_update_lr(self):\n",
    "        \"Step with the inner optimizer\"\n",
    "        self._update_learning_rate()\n",
    "        self._optimizer.step()\n",
    "\n",
    "    def zero_grad(self):\n",
    "        \"Zero out the gradients by the inner optimizer\"\n",
    "        self._optimizer.zero_grad()\n",
    "\n",
    "    def _get_lr_scale(self):\n",
    "        return np.min([\n",
    "            np.power(self.n_current_steps, -0.5),\n",
    "            np.power(self.n_warmup_steps, -1.5) * self.n_current_steps])\n",
    "\n",
    "    def _update_learning_rate(self):\n",
    "        ''' Learning rate scheduling per step '''\n",
    "\n",
    "        self.n_current_steps += 1\n",
    "        lr = self.init_lr * self._get_lr_scale()\n",
    "\n",
    "        for param_group in self._optimizer.param_groups:\n",
    "            param_group['lr'] = lr"
   ]
  },
  {
   "cell_type": "code",
   "execution_count": 82,
   "id": "cb54d5b0",
   "metadata": {
    "execution": {
     "iopub.execute_input": "2022-04-24T16:54:03.945975Z",
     "iopub.status.busy": "2022-04-24T16:54:03.944944Z",
     "iopub.status.idle": "2022-04-24T16:54:03.948159Z",
     "shell.execute_reply": "2022-04-24T16:54:03.947654Z",
     "shell.execute_reply.started": "2022-04-24T16:26:01.135386Z"
    },
    "papermill": {
     "duration": 0.132846,
     "end_time": "2022-04-24T16:54:03.948302",
     "exception": false,
     "start_time": "2022-04-24T16:54:03.815456",
     "status": "completed"
    },
    "tags": []
   },
   "outputs": [],
   "source": [
    "from torch.optim import Adam\n",
    "optim = Adam(model.parameters(), lr=args.lr, betas=betas, weight_decay=args.adam_weight_decay)\n",
    "optim_schedule = ScheduledOptim(optim, args.hidden, n_warmup_steps=args.warm_up_step)\n",
    "#criterion = nn.NLLLoss(ignore_index=0)\n",
    "#log_freq = args.log_freq"
   ]
  },
  {
   "cell_type": "code",
   "execution_count": 83,
   "id": "f66b45f8",
   "metadata": {
    "execution": {
     "iopub.execute_input": "2022-04-24T16:54:04.200065Z",
     "iopub.status.busy": "2022-04-24T16:54:04.199228Z",
     "iopub.status.idle": "2022-04-24T16:54:04.203003Z",
     "shell.execute_reply": "2022-04-24T16:54:04.202335Z",
     "shell.execute_reply.started": "2022-04-24T16:26:01.153326Z"
    },
    "papermill": {
     "duration": 0.131529,
     "end_time": "2022-04-24T16:54:04.203134",
     "exception": false,
     "start_time": "2022-04-24T16:54:04.071605",
     "status": "completed"
    },
    "tags": []
   },
   "outputs": [],
   "source": [
    "model.parameters()\n",
    "criterion = nn.NLLLoss(ignore_index=0)\n"
   ]
  },
  {
   "cell_type": "code",
   "execution_count": 84,
   "id": "e6639013",
   "metadata": {
    "execution": {
     "iopub.execute_input": "2022-04-24T16:54:04.454030Z",
     "iopub.status.busy": "2022-04-24T16:54:04.452999Z",
     "iopub.status.idle": "2022-04-24T16:54:04.458358Z",
     "shell.execute_reply": "2022-04-24T16:54:04.457849Z",
     "shell.execute_reply.started": "2022-04-24T16:26:01.159874Z"
    },
    "papermill": {
     "duration": 0.130914,
     "end_time": "2022-04-24T16:54:04.458578",
     "exception": false,
     "start_time": "2022-04-24T16:54:04.327664",
     "status": "completed"
    },
    "tags": []
   },
   "outputs": [],
   "source": [
    "avg_loss = 0.0\n",
    "total_correct = 0\n",
    "total_element = 0"
   ]
  },
  {
   "cell_type": "code",
   "execution_count": 85,
   "id": "698dc207",
   "metadata": {
    "execution": {
     "iopub.execute_input": "2022-04-24T16:54:04.710015Z",
     "iopub.status.busy": "2022-04-24T16:54:04.708954Z",
     "iopub.status.idle": "2022-04-24T16:54:04.712459Z",
     "shell.execute_reply": "2022-04-24T16:54:04.711819Z",
     "shell.execute_reply.started": "2022-04-24T16:26:01.170363Z"
    },
    "papermill": {
     "duration": 0.131574,
     "end_time": "2022-04-24T16:54:04.712617",
     "exception": false,
     "start_time": "2022-04-24T16:54:04.581043",
     "status": "completed"
    },
    "tags": []
   },
   "outputs": [],
   "source": [
    "sampleData = train_data[1]"
   ]
  },
  {
   "cell_type": "code",
   "execution_count": 86,
   "id": "a5d9a272",
   "metadata": {
    "execution": {
     "iopub.execute_input": "2022-04-24T16:54:04.965803Z",
     "iopub.status.busy": "2022-04-24T16:54:04.964922Z",
     "iopub.status.idle": "2022-04-24T16:54:04.968266Z",
     "shell.execute_reply": "2022-04-24T16:54:04.968848Z",
     "shell.execute_reply.started": "2022-04-24T16:26:01.180962Z"
    },
    "papermill": {
     "duration": 0.133857,
     "end_time": "2022-04-24T16:54:04.969023",
     "exception": false,
     "start_time": "2022-04-24T16:54:04.835166",
     "status": "completed"
    },
    "tags": []
   },
   "outputs": [
    {
     "data": {
      "text/plain": [
       "torch.Size([4, 256])"
      ]
     },
     "execution_count": 86,
     "metadata": {},
     "output_type": "execute_result"
    }
   ],
   "source": [
    "sampleData[0].shape"
   ]
  },
  {
   "cell_type": "code",
   "execution_count": 87,
   "id": "fbcd7251",
   "metadata": {
    "execution": {
     "iopub.execute_input": "2022-04-24T16:54:05.225262Z",
     "iopub.status.busy": "2022-04-24T16:54:05.224087Z",
     "iopub.status.idle": "2022-04-24T16:54:05.227589Z",
     "shell.execute_reply": "2022-04-24T16:54:05.226866Z",
     "shell.execute_reply.started": "2022-04-24T16:26:01.189376Z"
    },
    "papermill": {
     "duration": 0.13273,
     "end_time": "2022-04-24T16:54:05.227727",
     "exception": false,
     "start_time": "2022-04-24T16:54:05.094997",
     "status": "completed"
    },
    "tags": []
   },
   "outputs": [],
   "source": [
    "#model.train()"
   ]
  },
  {
   "cell_type": "code",
   "execution_count": 88,
   "id": "0e53b062",
   "metadata": {
    "execution": {
     "iopub.execute_input": "2022-04-24T16:54:05.480425Z",
     "iopub.status.busy": "2022-04-24T16:54:05.479400Z",
     "iopub.status.idle": "2022-04-24T16:54:05.482112Z",
     "shell.execute_reply": "2022-04-24T16:54:05.482622Z",
     "shell.execute_reply.started": "2022-04-24T16:26:01.197289Z"
    },
    "papermill": {
     "duration": 0.13233,
     "end_time": "2022-04-24T16:54:05.482793",
     "exception": false,
     "start_time": "2022-04-24T16:54:05.350463",
     "status": "completed"
    },
    "tags": []
   },
   "outputs": [],
   "source": [
    "#(sampleData[2][3:4,:])"
   ]
  },
  {
   "cell_type": "code",
   "execution_count": 89,
   "id": "62e81c64",
   "metadata": {
    "execution": {
     "iopub.execute_input": "2022-04-24T16:54:05.765251Z",
     "iopub.status.busy": "2022-04-24T16:54:05.763986Z",
     "iopub.status.idle": "2022-04-24T16:54:05.766891Z",
     "shell.execute_reply": "2022-04-24T16:54:05.767431Z",
     "shell.execute_reply.started": "2022-04-24T16:26:01.205684Z"
    },
    "papermill": {
     "duration": 0.145249,
     "end_time": "2022-04-24T16:54:05.767635",
     "exception": false,
     "start_time": "2022-04-24T16:54:05.622386",
     "status": "completed"
    },
    "tags": []
   },
   "outputs": [],
   "source": [
    "#next_sent_output, mask_lm_output = model.forward(sampleData[0].to(device), sampleData[2].to(device))"
   ]
  },
  {
   "cell_type": "code",
   "execution_count": 90,
   "id": "7b21ad91",
   "metadata": {
    "execution": {
     "iopub.execute_input": "2022-04-24T16:54:06.021965Z",
     "iopub.status.busy": "2022-04-24T16:54:06.021001Z",
     "iopub.status.idle": "2022-04-24T16:54:06.024538Z",
     "shell.execute_reply": "2022-04-24T16:54:06.023937Z",
     "shell.execute_reply.started": "2022-04-24T16:26:01.215357Z"
    },
    "papermill": {
     "duration": 0.135095,
     "end_time": "2022-04-24T16:54:06.024667",
     "exception": false,
     "start_time": "2022-04-24T16:54:05.889572",
     "status": "completed"
    },
    "tags": []
   },
   "outputs": [],
   "source": [
    "#next_sent_output.shape, mask_lm_output.shape"
   ]
  },
  {
   "cell_type": "code",
   "execution_count": 91,
   "id": "9b4785bb",
   "metadata": {
    "execution": {
     "iopub.execute_input": "2022-04-24T16:54:06.277531Z",
     "iopub.status.busy": "2022-04-24T16:54:06.276648Z",
     "iopub.status.idle": "2022-04-24T16:54:06.280416Z",
     "shell.execute_reply": "2022-04-24T16:54:06.281227Z",
     "shell.execute_reply.started": "2022-04-24T16:26:01.221901Z"
    },
    "papermill": {
     "duration": 0.132379,
     "end_time": "2022-04-24T16:54:06.281373",
     "exception": false,
     "start_time": "2022-04-24T16:54:06.148994",
     "status": "completed"
    },
    "tags": []
   },
   "outputs": [
    {
     "data": {
      "text/plain": [
       "12000"
      ]
     },
     "execution_count": 91,
     "metadata": {},
     "output_type": "execute_result"
    }
   ],
   "source": [
    "len(train_data)"
   ]
  },
  {
   "cell_type": "code",
   "execution_count": 92,
   "id": "b01c56bb",
   "metadata": {
    "execution": {
     "iopub.execute_input": "2022-04-24T16:54:06.537501Z",
     "iopub.status.busy": "2022-04-24T16:54:06.536463Z",
     "iopub.status.idle": "2022-04-24T16:54:06.539897Z",
     "shell.execute_reply": "2022-04-24T16:54:06.539275Z",
     "shell.execute_reply.started": "2022-04-24T16:26:01.231606Z"
    },
    "papermill": {
     "duration": 0.133125,
     "end_time": "2022-04-24T16:54:06.540023",
     "exception": false,
     "start_time": "2022-04-24T16:54:06.406898",
     "status": "completed"
    },
    "tags": []
   },
   "outputs": [],
   "source": [
    "import random\n",
    "docIdxs = [i+1 for i in range(len(train_data))]\n",
    "loss_val = []"
   ]
  },
  {
   "cell_type": "code",
   "execution_count": 93,
   "id": "e14ecdf8",
   "metadata": {
    "execution": {
     "iopub.execute_input": "2022-04-24T16:54:06.808504Z",
     "iopub.status.busy": "2022-04-24T16:54:06.795541Z",
     "iopub.status.idle": "2022-04-25T01:49:52.619998Z",
     "shell.execute_reply": "2022-04-25T01:49:52.620703Z",
     "shell.execute_reply.started": "2022-04-24T16:26:01.240578Z"
    },
    "papermill": {
     "duration": 32145.95836,
     "end_time": "2022-04-25T01:49:52.620995",
     "exception": false,
     "start_time": "2022-04-24T16:54:06.662635",
     "status": "completed"
    },
    "tags": []
   },
   "outputs": [
    {
     "name": "stdout",
     "output_type": "stream",
     "text": [
      "Training for epoch  1\n",
      "10000\n",
      "avg_loss 21214.619711621814\n",
      "loss val [1.7678849759684845]\n",
      "Training for epoch  2\n",
      "10000\n",
      "avg_loss 21017.432885654755\n",
      "loss val [1.7678849759684845, 1.7514527404712295]\n",
      "Training for epoch  3\n",
      "10000\n",
      "avg_loss 20935.15426929248\n",
      "loss val [1.7678849759684845, 1.7514527404712295, 1.7445961891077069]\n",
      "Training for epoch  4\n",
      "10000\n",
      "avg_loss 20882.836533494647\n",
      "loss val [1.7678849759684845, 1.7514527404712295, 1.7445961891077069, 1.7402363777912206]\n",
      "Training for epoch  5\n",
      "10000\n",
      "avg_loss 20849.661485606248\n",
      "loss val [1.7678849759684845, 1.7514527404712295, 1.7445961891077069, 1.7402363777912206, 1.7374717904671872]\n",
      "Training for epoch  6\n",
      "10000\n",
      "avg_loss 20825.933996813215\n",
      "loss val [1.7678849759684845, 1.7514527404712295, 1.7445961891077069, 1.7402363777912206, 1.7374717904671872, 1.7354944997344346]\n",
      "Training for epoch  7\n",
      "10000\n",
      "avg_loss 20804.892103776794\n",
      "loss val [1.7678849759684845, 1.7514527404712295, 1.7445961891077069, 1.7402363777912206, 1.7374717904671872, 1.7354944997344346, 1.7337410086480662]\n",
      "Training for epoch  8\n",
      "10000\n",
      "avg_loss 20790.610213345062\n",
      "loss val [1.7678849759684845, 1.7514527404712295, 1.7445961891077069, 1.7402363777912206, 1.7374717904671872, 1.7354944997344346, 1.7337410086480662, 1.7325508511120886]\n",
      "Training for epoch  9\n",
      "10000\n",
      "avg_loss 20775.80934816165\n",
      "loss val [1.7678849759684845, 1.7514527404712295, 1.7445961891077069, 1.7402363777912206, 1.7374717904671872, 1.7354944997344346, 1.7337410086480662, 1.7325508511120886, 1.7313174456801375]\n",
      "Training for epoch  10\n",
      "10000\n",
      "avg_loss 20764.351251232252\n",
      "loss val [1.7678849759684845, 1.7514527404712295, 1.7445961891077069, 1.7402363777912206, 1.7374717904671872, 1.7354944997344346, 1.7337410086480662, 1.7325508511120886, 1.7313174456801375, 1.7303626042693543]\n",
      "Training for epoch  11\n",
      "10000\n",
      "avg_loss 20753.077426518717\n",
      "loss val [1.7678849759684845, 1.7514527404712295, 1.7445961891077069, 1.7402363777912206, 1.7374717904671872, 1.7354944997344346, 1.7337410086480662, 1.7325508511120886, 1.7313174456801375, 1.7303626042693543, 1.7294231188765599]\n",
      "Training for epoch  12\n",
      "10000\n",
      "avg_loss 20743.315195432577\n",
      "loss val [1.7678849759684845, 1.7514527404712295, 1.7445961891077069, 1.7402363777912206, 1.7374717904671872, 1.7354944997344346, 1.7337410086480662, 1.7325508511120886, 1.7313174456801375, 1.7303626042693543, 1.7294231188765599, 1.7286095996193813]\n",
      "Training for epoch  13\n",
      "10000\n",
      "avg_loss 20734.741523690456\n",
      "loss val [1.7678849759684845, 1.7514527404712295, 1.7445961891077069, 1.7402363777912206, 1.7374717904671872, 1.7354944997344346, 1.7337410086480662, 1.7325508511120886, 1.7313174456801375, 1.7303626042693543, 1.7294231188765599, 1.7286095996193813, 1.7278951269742047]\n",
      "Training for epoch  14\n",
      "10000\n",
      "avg_loss 20726.77212634112\n",
      "loss val [1.7678849759684845, 1.7514527404712295, 1.7445961891077069, 1.7402363777912206, 1.7374717904671872, 1.7354944997344346, 1.7337410086480662, 1.7325508511120886, 1.7313174456801375, 1.7303626042693543, 1.7294231188765599, 1.7286095996193813, 1.7278951269742047, 1.7272310105284265]\n",
      "Training for epoch  15\n",
      "10000\n",
      "avg_loss 20720.344995094256\n",
      "loss val [1.7678849759684845, 1.7514527404712295, 1.7445961891077069, 1.7402363777912206, 1.7374717904671872, 1.7354944997344346, 1.7337410086480662, 1.7325508511120886, 1.7313174456801375, 1.7303626042693543, 1.7294231188765599, 1.7286095996193813, 1.7278951269742047, 1.7272310105284265, 1.7266954162578547]\n",
      "Training for epoch  16\n",
      "10000\n",
      "avg_loss 20714.85248563099\n",
      "loss val [1.7678849759684845, 1.7514527404712295, 1.7445961891077069, 1.7402363777912206, 1.7374717904671872, 1.7354944997344346, 1.7337410086480662, 1.7325508511120886, 1.7313174456801375, 1.7303626042693543, 1.7294231188765599, 1.7286095996193813, 1.7278951269742047, 1.7272310105284265, 1.7266954162578547, 1.7262377071359156]\n",
      "Training for epoch  17\n",
      "10000\n",
      "avg_loss 20709.852774298903\n",
      "loss val [1.7678849759684845, 1.7514527404712295, 1.7445961891077069, 1.7402363777912206, 1.7374717904671872, 1.7354944997344346, 1.7337410086480662, 1.7325508511120886, 1.7313174456801375, 1.7303626042693543, 1.7294231188765599, 1.7286095996193813, 1.7278951269742047, 1.7272310105284265, 1.7266954162578547, 1.7262377071359156, 1.7258210645249086]\n",
      "Training for epoch  18\n",
      "10000\n",
      "avg_loss 20705.37018174987\n",
      "loss val [1.7678849759684845, 1.7514527404712295, 1.7445961891077069, 1.7402363777912206, 1.7374717904671872, 1.7354944997344346, 1.7337410086480662, 1.7325508511120886, 1.7313174456801375, 1.7303626042693543, 1.7294231188765599, 1.7286095996193813, 1.7278951269742047, 1.7272310105284265, 1.7266954162578547, 1.7262377071359156, 1.7258210645249086, 1.7254475151458224]\n",
      "Training for epoch  19\n",
      "10000\n",
      "avg_loss 20700.299762308317\n",
      "loss val [1.7678849759684845, 1.7514527404712295, 1.7445961891077069, 1.7402363777912206, 1.7374717904671872, 1.7354944997344346, 1.7337410086480662, 1.7325508511120886, 1.7313174456801375, 1.7303626042693543, 1.7294231188765599, 1.7286095996193813, 1.7278951269742047, 1.7272310105284265, 1.7266954162578547, 1.7262377071359156, 1.7258210645249086, 1.7254475151458224, 1.7250249801923598]\n",
      "Training for epoch  20\n",
      "10000\n",
      "avg_loss 20695.312433028535\n",
      "loss val [1.7678849759684845, 1.7514527404712295, 1.7445961891077069, 1.7402363777912206, 1.7374717904671872, 1.7354944997344346, 1.7337410086480662, 1.7325508511120886, 1.7313174456801375, 1.7303626042693543, 1.7294231188765599, 1.7286095996193813, 1.7278951269742047, 1.7272310105284265, 1.7266954162578547, 1.7262377071359156, 1.7258210645249086, 1.7254475151458224, 1.7250249801923598, 1.7246093694190445]\n",
      "Training for epoch  21\n",
      "10000\n",
      "avg_loss 20690.88869326486\n",
      "loss val [1.7678849759684845, 1.7514527404712295, 1.7445961891077069, 1.7402363777912206, 1.7374717904671872, 1.7354944997344346, 1.7337410086480662, 1.7325508511120886, 1.7313174456801375, 1.7303626042693543, 1.7294231188765599, 1.7286095996193813, 1.7278951269742047, 1.7272310105284265, 1.7266954162578547, 1.7262377071359156, 1.7258210645249086, 1.7254475151458224, 1.7250249801923598, 1.7246093694190445, 1.7242407244387383]\n",
      "Training for epoch  22\n",
      "10000\n",
      "avg_loss 20686.526910465644\n",
      "loss val [1.7678849759684845, 1.7514527404712295, 1.7445961891077069, 1.7402363777912206, 1.7374717904671872, 1.7354944997344346, 1.7337410086480662, 1.7325508511120886, 1.7313174456801375, 1.7303626042693543, 1.7294231188765599, 1.7286095996193813, 1.7278951269742047, 1.7272310105284265, 1.7266954162578547, 1.7262377071359156, 1.7258210645249086, 1.7254475151458224, 1.7250249801923598, 1.7246093694190445, 1.7242407244387383, 1.7238772425388036]\n",
      "Training for epoch  23\n",
      "10000\n",
      "avg_loss 20683.334109746844\n",
      "loss val [1.7678849759684845, 1.7514527404712295, 1.7445961891077069, 1.7402363777912206, 1.7374717904671872, 1.7354944997344346, 1.7337410086480662, 1.7325508511120886, 1.7313174456801375, 1.7303626042693543, 1.7294231188765599, 1.7286095996193813, 1.7278951269742047, 1.7272310105284265, 1.7266954162578547, 1.7262377071359156, 1.7258210645249086, 1.7254475151458224, 1.7250249801923598, 1.7246093694190445, 1.7242407244387383, 1.7238772425388036, 1.723611175812237]\n",
      "Training for epoch  24\n",
      "10000\n",
      "avg_loss 20680.227538022093\n",
      "loss val [1.7678849759684845, 1.7514527404712295, 1.7445961891077069, 1.7402363777912206, 1.7374717904671872, 1.7354944997344346, 1.7337410086480662, 1.7325508511120886, 1.7313174456801375, 1.7303626042693543, 1.7294231188765599, 1.7286095996193813, 1.7278951269742047, 1.7272310105284265, 1.7266954162578547, 1.7262377071359156, 1.7258210645249086, 1.7254475151458224, 1.7250249801923598, 1.7246093694190445, 1.7242407244387383, 1.7238772425388036, 1.723611175812237, 1.7233522948351745]\n",
      "Training for epoch  25\n",
      "10000\n",
      "avg_loss 20676.287217235968\n",
      "loss val [1.7678849759684845, 1.7514527404712295, 1.7445961891077069, 1.7402363777912206, 1.7374717904671872, 1.7354944997344346, 1.7337410086480662, 1.7325508511120886, 1.7313174456801375, 1.7303626042693543, 1.7294231188765599, 1.7286095996193813, 1.7278951269742047, 1.7272310105284265, 1.7266954162578547, 1.7262377071359156, 1.7258210645249086, 1.7254475151458224, 1.7250249801923598, 1.7246093694190445, 1.7242407244387383, 1.7238772425388036, 1.723611175812237, 1.7233522948351745, 1.7230239347696639]\n",
      "Training for epoch  26\n",
      "10000\n",
      "avg_loss 20673.103931317768\n",
      "loss val [1.7678849759684845, 1.7514527404712295, 1.7445961891077069, 1.7402363777912206, 1.7374717904671872, 1.7354944997344346, 1.7337410086480662, 1.7325508511120886, 1.7313174456801375, 1.7303626042693543, 1.7294231188765599, 1.7286095996193813, 1.7278951269742047, 1.7272310105284265, 1.7266954162578547, 1.7262377071359156, 1.7258210645249086, 1.7254475151458224, 1.7250249801923598, 1.7246093694190445, 1.7242407244387383, 1.7238772425388036, 1.723611175812237, 1.7233522948351745, 1.7230239347696639, 1.7227586609431473]\n",
      "Training for epoch  27\n",
      "10000\n",
      "avg_loss 20670.37286682285\n",
      "loss val [1.7678849759684845, 1.7514527404712295, 1.7445961891077069, 1.7402363777912206, 1.7374717904671872, 1.7354944997344346, 1.7337410086480662, 1.7325508511120886, 1.7313174456801375, 1.7303626042693543, 1.7294231188765599, 1.7286095996193813, 1.7278951269742047, 1.7272310105284265, 1.7266954162578547, 1.7262377071359156, 1.7258210645249086, 1.7254475151458224, 1.7250249801923598, 1.7246093694190445, 1.7242407244387383, 1.7238772425388036, 1.723611175812237, 1.7233522948351745, 1.7230239347696639, 1.7227586609431473, 1.7225310722352376]\n",
      "Training for epoch  28\n",
      "10000\n",
      "avg_loss 20667.421055617506\n",
      "loss val [1.7678849759684845, 1.7514527404712295, 1.7445961891077069, 1.7402363777912206, 1.7374717904671872, 1.7354944997344346, 1.7337410086480662, 1.7325508511120886, 1.7313174456801375, 1.7303626042693543, 1.7294231188765599, 1.7286095996193813, 1.7278951269742047, 1.7272310105284265, 1.7266954162578547, 1.7262377071359156, 1.7258210645249086, 1.7254475151458224, 1.7250249801923598, 1.7246093694190445, 1.7242407244387383, 1.7238772425388036, 1.723611175812237, 1.7233522948351745, 1.7230239347696639, 1.7227586609431473, 1.7225310722352376, 1.7222850879681255]\n",
      "Training for epoch  29\n",
      "10000\n",
      "avg_loss 20664.682697655866\n",
      "loss val [1.7678849759684845, 1.7514527404712295, 1.7445961891077069, 1.7402363777912206, 1.7374717904671872, 1.7354944997344346, 1.7337410086480662, 1.7325508511120886, 1.7313174456801375, 1.7303626042693543, 1.7294231188765599, 1.7286095996193813, 1.7278951269742047, 1.7272310105284265, 1.7266954162578547, 1.7262377071359156, 1.7258210645249086, 1.7254475151458224, 1.7250249801923598, 1.7246093694190445, 1.7242407244387383, 1.7238772425388036, 1.723611175812237, 1.7233522948351745, 1.7230239347696639, 1.7227586609431473, 1.7225310722352376, 1.7222850879681255, 1.7220568914713221]\n",
      "Training for epoch  30\n",
      "10000\n",
      "avg_loss 20662.097272766747\n",
      "loss val [1.7678849759684845, 1.7514527404712295, 1.7445961891077069, 1.7402363777912206, 1.7374717904671872, 1.7354944997344346, 1.7337410086480662, 1.7325508511120886, 1.7313174456801375, 1.7303626042693543, 1.7294231188765599, 1.7286095996193813, 1.7278951269742047, 1.7272310105284265, 1.7266954162578547, 1.7262377071359156, 1.7258210645249086, 1.7254475151458224, 1.7250249801923598, 1.7246093694190445, 1.7242407244387383, 1.7238772425388036, 1.723611175812237, 1.7233522948351745, 1.7230239347696639, 1.7227586609431473, 1.7225310722352376, 1.7222850879681255, 1.7220568914713221, 1.721841439397229]\n",
      "Training for epoch  31\n",
      "10000\n",
      "avg_loss 20659.85486389281\n",
      "loss val [1.7678849759684845, 1.7514527404712295, 1.7445961891077069, 1.7402363777912206, 1.7374717904671872, 1.7354944997344346, 1.7337410086480662, 1.7325508511120886, 1.7313174456801375, 1.7303626042693543, 1.7294231188765599, 1.7286095996193813, 1.7278951269742047, 1.7272310105284265, 1.7266954162578547, 1.7262377071359156, 1.7258210645249086, 1.7254475151458224, 1.7250249801923598, 1.7246093694190445, 1.7242407244387383, 1.7238772425388036, 1.723611175812237, 1.7233522948351745, 1.7230239347696639, 1.7227586609431473, 1.7225310722352376, 1.7222850879681255, 1.7220568914713221, 1.721841439397229, 1.7216545719910676]\n",
      "Training for epoch  32\n",
      "10000\n",
      "avg_loss 20657.530961289172\n",
      "loss val [1.7678849759684845, 1.7514527404712295, 1.7445961891077069, 1.7402363777912206, 1.7374717904671872, 1.7354944997344346, 1.7337410086480662, 1.7325508511120886, 1.7313174456801375, 1.7303626042693543, 1.7294231188765599, 1.7286095996193813, 1.7278951269742047, 1.7272310105284265, 1.7266954162578547, 1.7262377071359156, 1.7258210645249086, 1.7254475151458224, 1.7250249801923598, 1.7246093694190445, 1.7242407244387383, 1.7238772425388036, 1.723611175812237, 1.7233522948351745, 1.7230239347696639, 1.7227586609431473, 1.7225310722352376, 1.7222850879681255, 1.7220568914713221, 1.721841439397229, 1.7216545719910676, 1.7214609134407644]\n",
      "Training for epoch  33\n",
      "10000\n",
      "avg_loss 20655.77316450549\n",
      "loss val [1.7678849759684845, 1.7514527404712295, 1.7445961891077069, 1.7402363777912206, 1.7374717904671872, 1.7354944997344346, 1.7337410086480662, 1.7325508511120886, 1.7313174456801375, 1.7303626042693543, 1.7294231188765599, 1.7286095996193813, 1.7278951269742047, 1.7272310105284265, 1.7266954162578547, 1.7262377071359156, 1.7258210645249086, 1.7254475151458224, 1.7250249801923598, 1.7246093694190445, 1.7242407244387383, 1.7238772425388036, 1.723611175812237, 1.7233522948351745, 1.7230239347696639, 1.7227586609431473, 1.7225310722352376, 1.7222850879681255, 1.7220568914713221, 1.721841439397229, 1.7216545719910676, 1.7214609134407644, 1.7213144303754573]\n",
      "Training for epoch  34\n",
      "10000\n",
      "avg_loss 20653.97727600857\n",
      "loss val [1.7678849759684845, 1.7514527404712295, 1.7445961891077069, 1.7402363777912206, 1.7374717904671872, 1.7354944997344346, 1.7337410086480662, 1.7325508511120886, 1.7313174456801375, 1.7303626042693543, 1.7294231188765599, 1.7286095996193813, 1.7278951269742047, 1.7272310105284265, 1.7266954162578547, 1.7262377071359156, 1.7258210645249086, 1.7254475151458224, 1.7250249801923598, 1.7246093694190445, 1.7242407244387383, 1.7238772425388036, 1.723611175812237, 1.7233522948351745, 1.7230239347696639, 1.7227586609431473, 1.7225310722352376, 1.7222850879681255, 1.7220568914713221, 1.721841439397229, 1.7216545719910676, 1.7214609134407644, 1.7213144303754573, 1.721164773000714]\n",
      "Training for epoch  35\n",
      "10000\n",
      "avg_loss 20651.671799827338\n",
      "loss val [1.7678849759684845, 1.7514527404712295, 1.7445961891077069, 1.7402363777912206, 1.7374717904671872, 1.7354944997344346, 1.7337410086480662, 1.7325508511120886, 1.7313174456801375, 1.7303626042693543, 1.7294231188765599, 1.7286095996193813, 1.7278951269742047, 1.7272310105284265, 1.7266954162578547, 1.7262377071359156, 1.7258210645249086, 1.7254475151458224, 1.7250249801923598, 1.7246093694190445, 1.7242407244387383, 1.7238772425388036, 1.723611175812237, 1.7233522948351745, 1.7230239347696639, 1.7227586609431473, 1.7225310722352376, 1.7222850879681255, 1.7220568914713221, 1.721841439397229, 1.7216545719910676, 1.7214609134407644, 1.7213144303754573, 1.721164773000714, 1.7209726499856115]\n",
      "Training for epoch  36\n",
      "10000\n",
      "avg_loss 20649.674268059174\n",
      "loss val [1.7678849759684845, 1.7514527404712295, 1.7445961891077069, 1.7402363777912206, 1.7374717904671872, 1.7354944997344346, 1.7337410086480662, 1.7325508511120886, 1.7313174456801375, 1.7303626042693543, 1.7294231188765599, 1.7286095996193813, 1.7278951269742047, 1.7272310105284265, 1.7266954162578547, 1.7262377071359156, 1.7258210645249086, 1.7254475151458224, 1.7250249801923598, 1.7246093694190445, 1.7242407244387383, 1.7238772425388036, 1.723611175812237, 1.7233522948351745, 1.7230239347696639, 1.7227586609431473, 1.7225310722352376, 1.7222850879681255, 1.7220568914713221, 1.721841439397229, 1.7216545719910676, 1.7214609134407644, 1.7213144303754573, 1.721164773000714, 1.7209726499856115, 1.720806189004931]\n",
      "Training for epoch  37\n",
      "10000\n",
      "avg_loss 20647.683982764782\n",
      "loss val [1.7678849759684845, 1.7514527404712295, 1.7445961891077069, 1.7402363777912206, 1.7374717904671872, 1.7354944997344346, 1.7337410086480662, 1.7325508511120886, 1.7313174456801375, 1.7303626042693543, 1.7294231188765599, 1.7286095996193813, 1.7278951269742047, 1.7272310105284265, 1.7266954162578547, 1.7262377071359156, 1.7258210645249086, 1.7254475151458224, 1.7250249801923598, 1.7246093694190445, 1.7242407244387383, 1.7238772425388036, 1.723611175812237, 1.7233522948351745, 1.7230239347696639, 1.7227586609431473, 1.7225310722352376, 1.7222850879681255, 1.7220568914713221, 1.721841439397229, 1.7216545719910676, 1.7214609134407644, 1.7213144303754573, 1.721164773000714, 1.7209726499856115, 1.720806189004931, 1.7206403318970651]\n",
      "Training for epoch  38\n",
      "10000\n",
      "avg_loss 20645.773271498376\n",
      "loss val [1.7678849759684845, 1.7514527404712295, 1.7445961891077069, 1.7402363777912206, 1.7374717904671872, 1.7354944997344346, 1.7337410086480662, 1.7325508511120886, 1.7313174456801375, 1.7303626042693543, 1.7294231188765599, 1.7286095996193813, 1.7278951269742047, 1.7272310105284265, 1.7266954162578547, 1.7262377071359156, 1.7258210645249086, 1.7254475151458224, 1.7250249801923598, 1.7246093694190445, 1.7242407244387383, 1.7238772425388036, 1.723611175812237, 1.7233522948351745, 1.7230239347696639, 1.7227586609431473, 1.7225310722352376, 1.7222850879681255, 1.7220568914713221, 1.721841439397229, 1.7216545719910676, 1.7214609134407644, 1.7213144303754573, 1.721164773000714, 1.7209726499856115, 1.720806189004931, 1.7206403318970651, 1.720481105958198]\n",
      "Training for epoch  39\n",
      "10000\n",
      "avg_loss 20643.975595740452\n",
      "loss val [1.7678849759684845, 1.7514527404712295, 1.7445961891077069, 1.7402363777912206, 1.7374717904671872, 1.7354944997344346, 1.7337410086480662, 1.7325508511120886, 1.7313174456801375, 1.7303626042693543, 1.7294231188765599, 1.7286095996193813, 1.7278951269742047, 1.7272310105284265, 1.7266954162578547, 1.7262377071359156, 1.7258210645249086, 1.7254475151458224, 1.7250249801923598, 1.7246093694190445, 1.7242407244387383, 1.7238772425388036, 1.723611175812237, 1.7233522948351745, 1.7230239347696639, 1.7227586609431473, 1.7225310722352376, 1.7222850879681255, 1.7220568914713221, 1.721841439397229, 1.7216545719910676, 1.7214609134407644, 1.7213144303754573, 1.721164773000714, 1.7209726499856115, 1.720806189004931, 1.7206403318970651, 1.720481105958198, 1.7203312996450377]\n",
      "Training for epoch  40\n",
      "10000\n",
      "avg_loss 20642.397175129132\n",
      "loss val [1.7678849759684845, 1.7514527404712295, 1.7445961891077069, 1.7402363777912206, 1.7374717904671872, 1.7354944997344346, 1.7337410086480662, 1.7325508511120886, 1.7313174456801375, 1.7303626042693543, 1.7294231188765599, 1.7286095996193813, 1.7278951269742047, 1.7272310105284265, 1.7266954162578547, 1.7262377071359156, 1.7258210645249086, 1.7254475151458224, 1.7250249801923598, 1.7246093694190445, 1.7242407244387383, 1.7238772425388036, 1.723611175812237, 1.7233522948351745, 1.7230239347696639, 1.7227586609431473, 1.7225310722352376, 1.7222850879681255, 1.7220568914713221, 1.721841439397229, 1.7216545719910676, 1.7214609134407644, 1.7213144303754573, 1.721164773000714, 1.7209726499856115, 1.720806189004931, 1.7206403318970651, 1.720481105958198, 1.7203312996450377, 1.7201997645940943]\n"
     ]
    }
   ],
   "source": [
    "import time\n",
    "epochs = 40\n",
    "for epoch in range(epochs):\n",
    "    print('Training for epoch ',epoch+1)\n",
    "    random.shuffle(docIdxs)\n",
    "    start = time.time()\n",
    "    codeCount =0\n",
    "    for docIdx in docIdxs:\n",
    "        trainTensors = train_data[docIdx]\n",
    "        #next_sent_output, mask_lm_output = model.forward(trainTensors[0].to(device), trainTensors[2].to(device))\n",
    "        mask_lm_output = model.forward(trainTensors[0].to(device), trainTensors[2].to(device))\n",
    "        #next_loss = criterion(next_sent_output, trainTensors[3].to(device))\n",
    "        mask_loss = criterion(mask_lm_output.transpose(1, 2), trainTensors[1].to(device))\n",
    "        loss =  mask_loss# +next_loss\n",
    "        codeCount +=1\n",
    "        if(codeCount+10000)%10000 ==0:\n",
    "            print(codeCount)\n",
    "        if True:\n",
    "                optim_schedule.zero_grad()\n",
    "                loss.backward()\n",
    "                optim_schedule.step_and_update_lr()\n",
    "        # next sentence prediction accuracy\n",
    "        #correct = next_sent_output.argmax(dim=-1).eq(trainTensors[3].to(device)).sum().item()\n",
    "        avg_loss += (loss.item())/trainTensors[0].shape[0]\n",
    "        #total_correct += correct\n",
    "        total_element += trainTensors[3].nelement()\n",
    "    #print(\"avg_acc\",(total_correct / (total_element ))* 100)\n",
    "    print(\"avg_loss\", avg_loss / (epoch + 1))\n",
    "    loss_val.append((avg_loss / (epoch + 1) )/len(train_data))\n",
    "    if((epoch+3) % 3==0):\n",
    "        torch.save(model.state_dict(), str(epoch)+'_model_weights.pth')\n",
    "        torch.save(model, str(epoch)+'_bertML.model')\n",
    "    print(\"loss val\", loss_val)\n",
    "\n"
   ]
  },
  {
   "cell_type": "code",
   "execution_count": 94,
   "id": "4df97a4d",
   "metadata": {
    "execution": {
     "iopub.execute_input": "2022-04-25T01:49:52.940586Z",
     "iopub.status.busy": "2022-04-25T01:49:52.939608Z",
     "iopub.status.idle": "2022-04-25T01:49:52.945383Z",
     "shell.execute_reply": "2022-04-25T01:49:52.944790Z",
     "shell.execute_reply.started": "2022-04-24T16:37:10.380180Z"
    },
    "papermill": {
     "duration": 0.164009,
     "end_time": "2022-04-25T01:49:52.945561",
     "exception": false,
     "start_time": "2022-04-25T01:49:52.781552",
     "status": "completed"
    },
    "tags": []
   },
   "outputs": [
    {
     "data": {
      "text/plain": [
       "[1.7678849759684845,\n",
       " 1.7514527404712295,\n",
       " 1.7445961891077069,\n",
       " 1.7402363777912206,\n",
       " 1.7374717904671872,\n",
       " 1.7354944997344346,\n",
       " 1.7337410086480662,\n",
       " 1.7325508511120886,\n",
       " 1.7313174456801375,\n",
       " 1.7303626042693543,\n",
       " 1.7294231188765599,\n",
       " 1.7286095996193813,\n",
       " 1.7278951269742047,\n",
       " 1.7272310105284265,\n",
       " 1.7266954162578547,\n",
       " 1.7262377071359156,\n",
       " 1.7258210645249086,\n",
       " 1.7254475151458224,\n",
       " 1.7250249801923598,\n",
       " 1.7246093694190445,\n",
       " 1.7242407244387383,\n",
       " 1.7238772425388036,\n",
       " 1.723611175812237,\n",
       " 1.7233522948351745,\n",
       " 1.7230239347696639,\n",
       " 1.7227586609431473,\n",
       " 1.7225310722352376,\n",
       " 1.7222850879681255,\n",
       " 1.7220568914713221,\n",
       " 1.721841439397229,\n",
       " 1.7216545719910676,\n",
       " 1.7214609134407644,\n",
       " 1.7213144303754573,\n",
       " 1.721164773000714,\n",
       " 1.7209726499856115,\n",
       " 1.720806189004931,\n",
       " 1.7206403318970651,\n",
       " 1.720481105958198,\n",
       " 1.7203312996450377,\n",
       " 1.7201997645940943]"
      ]
     },
     "execution_count": 94,
     "metadata": {},
     "output_type": "execute_result"
    }
   ],
   "source": [
    "loss_val"
   ]
  },
  {
   "cell_type": "code",
   "execution_count": 95,
   "id": "75538d2e",
   "metadata": {
    "execution": {
     "iopub.execute_input": "2022-04-25T01:49:53.265425Z",
     "iopub.status.busy": "2022-04-25T01:49:53.264599Z",
     "iopub.status.idle": "2022-04-25T01:49:53.268113Z",
     "shell.execute_reply": "2022-04-25T01:49:53.268636Z",
     "shell.execute_reply.started": "2022-04-24T16:37:10.387165Z"
    },
    "papermill": {
     "duration": 0.167982,
     "end_time": "2022-04-25T01:49:53.268786",
     "exception": false,
     "start_time": "2022-04-25T01:49:53.100804",
     "status": "completed"
    },
    "tags": []
   },
   "outputs": [
    {
     "name": "stdout",
     "output_type": "stream",
     "text": [
      "13.427623649438223\n"
     ]
    }
   ],
   "source": [
    "print((time.time()-start)/60)"
   ]
  },
  {
   "cell_type": "code",
   "execution_count": 96,
   "id": "5cdeb55c",
   "metadata": {
    "execution": {
     "iopub.execute_input": "2022-04-25T01:49:53.610360Z",
     "iopub.status.busy": "2022-04-25T01:49:53.589692Z",
     "iopub.status.idle": "2022-04-25T01:49:53.907786Z",
     "shell.execute_reply": "2022-04-25T01:49:53.909257Z",
     "shell.execute_reply.started": "2022-04-24T16:37:10.398552Z"
    },
    "papermill": {
     "duration": 0.482261,
     "end_time": "2022-04-25T01:49:53.909592",
     "exception": false,
     "start_time": "2022-04-25T01:49:53.427331",
     "status": "completed"
    },
    "tags": []
   },
   "outputs": [],
   "source": [
    "torch.save(model, str(epochs)+'_bertML.model')"
   ]
  },
  {
   "cell_type": "code",
   "execution_count": 97,
   "id": "bfe8f7ca",
   "metadata": {
    "execution": {
     "iopub.execute_input": "2022-04-25T01:49:54.400961Z",
     "iopub.status.busy": "2022-04-25T01:49:54.399905Z",
     "iopub.status.idle": "2022-04-25T01:49:54.600484Z",
     "shell.execute_reply": "2022-04-25T01:49:54.599937Z",
     "shell.execute_reply.started": "2022-04-24T16:37:10.599927Z"
    },
    "papermill": {
     "duration": 0.407859,
     "end_time": "2022-04-25T01:49:54.600636",
     "exception": false,
     "start_time": "2022-04-25T01:49:54.192777",
     "status": "completed"
    },
    "tags": []
   },
   "outputs": [],
   "source": [
    "torch.save(model.state_dict(), str(epochs)+'_model_weights.pth')"
   ]
  },
  {
   "cell_type": "code",
   "execution_count": 98,
   "id": "eaf0ce73",
   "metadata": {
    "execution": {
     "iopub.execute_input": "2022-04-25T01:49:54.930631Z",
     "iopub.status.busy": "2022-04-25T01:49:54.929737Z",
     "iopub.status.idle": "2022-04-25T01:49:55.185913Z",
     "shell.execute_reply": "2022-04-25T01:49:55.185279Z",
     "shell.execute_reply.started": "2022-04-24T16:37:10.796576Z"
    },
    "papermill": {
     "duration": 0.426868,
     "end_time": "2022-04-25T01:49:55.186089",
     "exception": false,
     "start_time": "2022-04-25T01:49:54.759221",
     "status": "completed"
    },
    "tags": []
   },
   "outputs": [
    {
     "data": {
      "image/png": "[encoded data removed]",
      "text/plain": [
       "<Figure size 432x288 with 1 Axes>"
      ]
     },
     "metadata": {
      "needs_background": "light"
     },
     "output_type": "display_data"
    }
   ],
   "source": [
    "# summarize history for model loss\n",
    "import matplotlib.pyplot as plt\n",
    "plt.plot(loss_val)\n",
    "#plt.plot(train_history1.history['val_loss'])\n",
    "plt.title('Model Loss')\n",
    "#plt.ylabel('validation loss')\n",
    "plt.xlabel('epoch')\n",
    "plt.legend(['train loss'], loc='upper left')\n",
    "plt.show()\n",
    "#plt.savefig('Loss_trainVsValidation.png', bbox_inches='tight', dpi = 300)"
   ]
  }
 ],
 "metadata": {
  "kernelspec": {
   "display_name": "Python 3",
   "language": "python",
   "name": "python3"
  },
  "language_info": {
   "codemirror_mode": {
    "name": "ipython",
    "version": 3
   },
   "file_extension": ".py",
   "mimetype": "text/x-python",
   "name": "python",
   "nbconvert_exporter": "python",
   "pygments_lexer": "ipython3",
   "version": "3.7.12"
  },
  "papermill": {
   "default_parameters": {},
   "duration": 32641.067635,
   "end_time": "2022-04-25T01:49:58.897603",
   "environment_variables": {},
   "exception": null,
   "input_path": "__notebook__.ipynb",
   "output_path": "__notebook__.ipynb",
   "parameters": {},
   "start_time": "2022-04-24T16:45:57.829968",
   "version": "2.3.3"
  }
 },
 "nbformat": 4,
 "nbformat_minor": 5
}
